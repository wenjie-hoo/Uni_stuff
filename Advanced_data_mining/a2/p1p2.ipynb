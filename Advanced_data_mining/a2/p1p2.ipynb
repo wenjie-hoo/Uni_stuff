{
 "cells": [
  {
   "cell_type": "code",
   "execution_count": 1,
   "metadata": {},
   "outputs": [],
   "source": [
    "import numpy as np\n",
    "import matplotlib.pyplot as plt\n",
    "import random\n",
    "from collections import defaultdict\n",
    "from scipy.signal import resample\n",
    "from dtw import dtw\n",
    "import time\n",
    "from fastdtw import fastdtw"
   ]
  },
  {
   "cell_type": "code",
   "execution_count": 2,
   "metadata": {},
   "outputs": [],
   "source": [
    "def dtw_distance(s, t):\n",
    "    n, m = len(s), len(t)\n",
    "    dtw_matrix = np.zeros((n + 1, m + 1))\n",
    "    dtw_matrix.fill(np.inf)\n",
    "    dtw_matrix[0, 0] = 0\n",
    " \n",
    "    for i in range(1, n + 1):\n",
    "        for j in range(1, m + 1):\n",
    "            cost = np.abs(s[i - 1] - t[j - 1])\n",
    "            last_min = np.min([dtw_matrix[i, j - 1], dtw_matrix[i - 1, j], dtw_matrix[i - 1, j - 1]])\n",
    "            dtw_matrix[i, j] = cost + last_min\n",
    "    return dtw_matrix[i, j]"
   ]
  },
  {
   "cell_type": "code",
   "execution_count": 3,
   "metadata": {},
   "outputs": [
    {
     "name": "stdout",
     "output_type": "stream",
     "text": [
      "7.0\n"
     ]
    }
   ],
   "source": [
    "# x = [1, 2, 3, 2, 0]\n",
    "# y = [0, 1, 2, 3, 2]\n",
    "# distance = dtw_distance(x, y)\n",
    "# print(distance) \n",
    "\n",
    "x = [1, 2, 3, 2, 0, 4, 6, 7]\n",
    "y = [0, 1, 2, 3, 2, 5, 7, 9]\n",
    "alignment = [(0, 0), (1, 1), (2, 2), (3, 3), (4, 4),(5,5),(6,6),(7,7)]\n",
    "distance = dtw_distance(x, y)\n",
    "print(distance)\n"
   ]
  },
  {
   "cell_type": "code",
   "execution_count": 4,
   "metadata": {},
   "outputs": [
    {
     "data": {
      "image/png": "[encoded data removed]",
      "text/plain": [
       "<Figure size 640x480 with 1 Axes>"
      ]
     },
     "metadata": {},
     "output_type": "display_data"
    }
   ],
   "source": [
    "x = [1, 2, 3, 2, 0, 4, 6, 7]\n",
    "y = [0, 1, 2, 3, 2, 5, 7, 9]\n",
    "alignment = [(0, 0), (1, 1), (2, 2), (3, 3), (4, 4),(5,5),(6,6),(7,7)]\n",
    "plt.plot(x, label='x')\n",
    "plt.plot(y, label='y')\n",
    "for i, j in alignment:\n",
    "    plt.plot([i, j], [x[i], y[j]], color='gray')\n",
    "plt.legend()\n",
    "plt.show()\n",
    "\n"
   ]
  },
  {
   "cell_type": "code",
   "execution_count": 5,
   "metadata": {},
   "outputs": [
    {
     "name": "stdout",
     "output_type": "stream",
     "text": [
      "[[ 0.          6.18742673  6.17173903  9.31781648  6.37460595  8.99971815\n",
      "   8.30722096  8.70934991  8.35873598 10.32313268]\n",
      " [ 6.18742673  0.          7.44707075  8.33615887  8.6383185   6.78981629\n",
      "   7.97287496  9.74214592  7.93560569 13.06005429]\n",
      " [ 6.17173903  7.44707075  0.          8.62261723  5.3736018   8.89525636\n",
      "   7.49720143  8.9642646   8.33684983 13.41769039]\n",
      " [ 9.31781648  8.33615887  8.62261723  0.          8.79328425  7.55706115\n",
      "   5.60271788  8.04960505  8.87153846 13.17857328]\n",
      " [ 6.37460595  8.6383185   5.3736018   8.79328425  0.          9.68643488\n",
      "   5.83516256  7.2091039   8.35893856 10.68009075]\n",
      " [ 8.99971815  6.78981629  8.89525636  7.55706115  9.68643488  0.\n",
      "   9.59213534  8.73431714  6.12727611 12.80856541]\n",
      " [ 8.30722096  7.97287496  7.49720143  5.60271788  5.83516256  9.59213534\n",
      "   0.         11.53711033  7.30217773 14.35769744]\n",
      " [ 8.70934991  9.74214592  8.9642646   8.04960505  7.2091039   8.73431714\n",
      "  11.53711033  0.         12.54966424 10.17419274]\n",
      " [ 8.35873598  7.93560569  8.33684983  8.87153846  8.35893856  6.12727611\n",
      "   7.30217773 12.54966424  0.         17.83838743]\n",
      " [10.32313268 13.06005429 13.41769039 13.17857328 10.68009075 12.80856541\n",
      "  14.35769744 10.17419274 17.83838743  0.        ]]\n",
      "--- 0.08432388305664062 seconds ---\n"
     ]
    }
   ],
   "source": [
    "num_ts = 10\n",
    "time_series = []\n",
    "for i in range(num_ts):\n",
    "    ts = np.random.randn(10)\n",
    "    time_series.append(ts)\n",
    "t1 = time.time()\n",
    "dist_matrix = np.zeros((num_ts, num_ts))\n",
    "for i in range(num_ts):\n",
    "    for j in range(num_ts):\n",
    "        dist_matrix[i,j] = dtw_distance(time_series[i], time_series[j])\n",
    "print(dist_matrix)\n",
    "print(\"--- %s seconds ---\" % (time.time() - t1))"
   ]
  },
  {
   "cell_type": "code",
   "execution_count": 6,
   "metadata": {},
   "outputs": [],
   "source": [
    "num_ts = 10\n",
    "ts_length = 100\n",
    "time_series = []\n",
    "for i in range(num_ts):\n",
    "    ts = np.random.randn(ts_length)\n",
    "    downsampled_ts = ts[::2]\n",
    "    time_series.append(downsampled_ts)\n",
    "\n",
    "copies = []\n",
    "for ts in time_series:\n",
    "    for i in range(100):\n",
    "        scale = np.random.uniform(0.5, 1.5)\n",
    "        shift = np.random.uniform(-1, 1)\n",
    "        copy = scale * ts + shift\n",
    "        copies.append(copy)"
   ]
  },
  {
   "cell_type": "code",
   "execution_count": null,
   "metadata": {},
   "outputs": [
    {
     "data": {
      "text/plain": [
       "array([ 1.03576573, -1.41100093,  1.30543894,  0.88186679,  0.69676266,\n",
       "        1.39688624,  0.4263132 ,  0.69223322,  1.12357835,  1.95544   ,\n",
       "        0.88579706,  1.36745517,  0.15857308,  0.48859639,  1.10732119,\n",
       "       -0.13066889,  2.75794733,  1.61030107,  0.71275457,  0.05738266,\n",
       "       -0.42312008,  0.09043072,  1.40534924,  1.20368981,  2.29179344,\n",
       "        0.93656434,  1.31121768,  0.57702227,  2.03170717,  2.21160771,\n",
       "        0.74183277,  2.13226986,  1.02857999,  1.10825105,  0.79420051,\n",
       "       -0.23850146,  2.61852208,  1.2224008 ,  0.3187402 ,  1.00661025,\n",
       "        1.35611422,  1.03888002,  0.36955095,  2.34148085,  1.67544372,\n",
       "        2.11871762,  0.36962978,  1.13932872, -0.22362515,  1.29391895])"
      ]
     },
     "execution_count": 16,
     "metadata": {},
     "output_type": "execute_result"
    }
   ],
   "source": [
    "copies[i]\n",
    "copies[j]"
   ]
  },
  {
   "cell_type": "code",
   "execution_count": 18,
   "metadata": {},
   "outputs": [
    {
     "name": "stdout",
     "output_type": "stream",
     "text": [
      "[[ 0.         16.56520624 30.98483982 ... 32.76344995 62.34500559\n",
      "  27.18404981]\n",
      " [16.56520624  0.         36.05978608 ... 44.03187737 71.27639809\n",
      "  40.59156271]\n",
      " [30.98483982 36.05978608  0.         ... 39.03692061 49.33351638\n",
      "  48.37821348]\n",
      " ...\n",
      " [32.76344995 44.03187737 39.03692061 ...  0.         42.94078041\n",
      "  31.50819293]\n",
      " [62.34500559 71.27639809 49.33351638 ... 42.94078041  0.\n",
      "  66.57330474]\n",
      " [27.18404981 40.59156271 48.37821348 ... 31.50819293 66.57330474\n",
      "   0.        ]]\n",
      "--- 30660.185545921326 seconds ---\n"
     ]
    }
   ],
   "source": [
    "# it takes a long time to calculate\n",
    "t2 = time.time()\n",
    "dist_matrix = np.zeros((num_ts*100, num_ts*100))\n",
    "for i in range(num_ts*100):\n",
    "    for j in range(num_ts*100):\n",
    "        dist_matrix[i,j] = dtw_distance(copies[i], copies[j])\n",
    "print(dist_matrix)\n",
    "print(\"--- %s seconds ---\" % (time.time() - t2))\n"
   ]
  },
  {
   "cell_type": "code",
   "execution_count": 9,
   "metadata": {},
   "outputs": [],
   "source": [
    "def dtw_distance_ds(x, y, downsample=None):\n",
    "    if downsample is not None:\n",
    "        x = resample(x, int(len(x)/downsample))\n",
    "        y = resample(y, int(len(y)/downsample))\n",
    "    n, m = len(x), len(y)\n",
    "    dtw = np.zeros((n+1, m+1))\n",
    "\n",
    "    for i in range(1, n+1):\n",
    "        dtw[i, 0] = np.inf\n",
    "    for j in range(1, m+1):\n",
    "        dtw[0, j] = np.inf\n",
    "    dtw[0, 0] = 0\n",
    "    \n",
    "    for i in range(1, n+1):\n",
    "        for j in range(1, m+1):\n",
    "            cost = abs(x[i-1] - y[j-1])\n",
    "            dtw[i, j] = cost + min(dtw[i-1, j], dtw[i, j-1], dtw[i-1, j-1])\n",
    "    return dtw[n, m]"
   ]
  },
  {
   "cell_type": "code",
   "execution_count": 10,
   "metadata": {},
   "outputs": [
    {
     "name": "stdout",
     "output_type": "stream",
     "text": [
      "[[0.         0.48385875 3.27897095 ... 2.18430785 7.42938941 1.51700073]\n",
      " [0.48385875 0.         3.78958324 ... 2.69492014 7.9400017  1.56353603]\n",
      " [3.27897095 3.78958324 0.         ... 1.67247896 4.15041846 4.64866036]\n",
      " ...\n",
      " [2.18430785 2.69492014 1.67247896 ... 0.         5.24508156 3.55399726]\n",
      " [7.42938941 7.9400017  4.15041846 ... 5.24508156 0.         8.79907882]\n",
      " [1.51700073 1.56353603 4.64866036 ... 3.55399726 8.79907882 0.        ]]\n",
      "--- 97.56638693809509 seconds ---\n"
     ]
    }
   ],
   "source": [
    "t3 = time.time()\n",
    "dist_matrix = np.zeros((num_ts*100, num_ts*100))\n",
    "for i in range(num_ts*100):\n",
    "    for j in range(num_ts*100):\n",
    "        dist_matrix[i,j] = dtw_distance_ds(copies[i], copies[j],10)\n",
    "print(dist_matrix)\n",
    "dist_matrix.shape\n",
    "print(\"--- %s seconds ---\" % (time.time() - t3))\n"
   ]
  },
  {
   "cell_type": "code",
   "execution_count": 11,
   "metadata": {},
   "outputs": [],
   "source": [
    "def fast_dtw(x, y, radius=1, dist=lambda a, b: np.sum(np.abs(a - b))):\n",
    "    min_time_size = radius + 2\n",
    "    if len(x) < min_time_size or len(y) < min_time_size:\n",
    "        return dtw(x, y, dist=dist)\n",
    "    x_shrinked = __reduce_by_half(x)\n",
    "    y_shrinked = __reduce_by_half(y)\n",
    "    distance, path = fast_dtw(x_shrinked, y_shrinked, radius=radius, dist=dist)\n",
    "    window = __expand_window(path, len(x), len(y), radius)\n",
    "    return dtw(x, y, window, dist=dist)\n",
    "\n",
    "def dtw(x, y, window=None, dist=lambda a, b: np.sum(np.abs(a - b))):\n",
    "    len_x, len_y = len(x), len(y) \n",
    "    if window is None: \n",
    "        window = [(i, j) for i in range(len_x) for j in range(len_y)]\n",
    "    window = ((i + 1, j + 1) for i, j in window)\n",
    "    D = defaultdict(lambda: (float('inf'),))\n",
    "    D[0, 0] = (0, 0, 0)\n",
    "    for i, j in window:\n",
    "        dt = dist(x[i-1], y[j-1]) \n",
    "        D[i, j] = min((D[i-1, j][0]  +dt, i-1, j  ),\n",
    "                      (D[i, j-1][0]  +dt, i  , j-1),\n",
    "                      (D[i-1, j-1][0]+dt, i-1, j-1), key=lambda a: a[0])# 移动法则\n",
    "        \n",
    "    path = []\n",
    "    i, j = len_x, len_y \n",
    "    while not (i == j == 0):\n",
    "        path.append((i-1, j-1))\n",
    "        i, j = D[i, j][1], D[i, j][2]\n",
    "    path.reverse()\n",
    "    return (D[len_x, len_y][0], path)\n",
    "\n",
    "def __expand_window(path, len_x, len_y, radius):\n",
    "    path_ = set(path)\n",
    "    for i, j in path:\n",
    "        for a, b in ((i + a, j + b)\n",
    "                     for a in range(-radius, radius+1)\n",
    "                     for b in range(-radius, radius+1)):\n",
    "            path_.add((a, b))\n",
    "    window_ = set()\n",
    "    for i, j in path_:\n",
    "        for a, b in ((i * 2, j * 2), (i * 2, j * 2 + 1),\n",
    "                     (i * 2 + 1, j * 2), (i * 2 + 1, j * 2 + 1)):\n",
    "            window_.add((a, b))\n",
    "\n",
    "    window = []\n",
    "    start_j = 0\n",
    "    for i in range(0, len_x):\n",
    "        new_start_j = None\n",
    "        for j in range(start_j, len_y):\n",
    "            if (i, j) in window_:\n",
    "                window.append((i, j))\n",
    "                if new_start_j is None:\n",
    "                    new_start_j = j\n",
    "            elif new_start_j is not None:\n",
    "                break\n",
    "        start_j = new_start_j\n",
    "    return window\n",
    "\n",
    "def __reduce_by_half(x):\n",
    "    x_reduce = []\n",
    "    lens = len(x)\n",
    "    for i in range(0, lens, 2):\n",
    "        if (i+1) >= lens:\n",
    "            half = x[i]\n",
    "        else:\n",
    "            half = (x[i] + x[i + 1]) / 2\n",
    "        x_reduce.append(half)\n",
    "    return x_reduce\n"
   ]
  },
  {
   "cell_type": "code",
   "execution_count": null,
   "metadata": {},
   "outputs": [
    {
     "ename": "KeyboardInterrupt",
     "evalue": "",
     "output_type": "error",
     "traceback": [
      "\u001b[0;31m---------------------------------------------------------------------------\u001b[0m",
      "\u001b[0;31mKeyboardInterrupt\u001b[0m                         Traceback (most recent call last)",
      "Cell \u001b[0;32mIn[12], line 5\u001b[0m\n\u001b[1;32m      3\u001b[0m \u001b[39mfor\u001b[39;00m i \u001b[39min\u001b[39;00m \u001b[39mrange\u001b[39m(num_ts\u001b[39m*\u001b[39m\u001b[39m100\u001b[39m):\n\u001b[1;32m      4\u001b[0m     \u001b[39mfor\u001b[39;00m j \u001b[39min\u001b[39;00m \u001b[39mrange\u001b[39m(num_ts\u001b[39m*\u001b[39m\u001b[39m100\u001b[39m):\n\u001b[0;32m----> 5\u001b[0m         dist_matrix[i,j],path \u001b[39m=\u001b[39m fast_dtw(copies[i], copies[j])\n\u001b[1;32m      6\u001b[0m \u001b[39mprint\u001b[39m(dist_matrix)\n\u001b[1;32m      7\u001b[0m dist_matrix\u001b[39m.\u001b[39mshape\n",
      "Cell \u001b[0;32mIn[11], line 9\u001b[0m, in \u001b[0;36mfast_dtw\u001b[0;34m(x, y, radius, dist)\u001b[0m\n\u001b[1;32m      7\u001b[0m distance, path \u001b[39m=\u001b[39m fast_dtw(x_shrinked, y_shrinked, radius\u001b[39m=\u001b[39mradius, dist\u001b[39m=\u001b[39mdist)\n\u001b[1;32m      8\u001b[0m window \u001b[39m=\u001b[39m __expand_window(path, \u001b[39mlen\u001b[39m(x), \u001b[39mlen\u001b[39m(y), radius)\n\u001b[0;32m----> 9\u001b[0m \u001b[39mreturn\u001b[39;00m dtw(x, y, window, dist\u001b[39m=\u001b[39;49mdist)\n",
      "Cell \u001b[0;32mIn[11], line 19\u001b[0m, in \u001b[0;36mdtw\u001b[0;34m(x, y, window, dist)\u001b[0m\n\u001b[1;32m     17\u001b[0m D[\u001b[39m0\u001b[39m, \u001b[39m0\u001b[39m] \u001b[39m=\u001b[39m (\u001b[39m0\u001b[39m, \u001b[39m0\u001b[39m, \u001b[39m0\u001b[39m)\n\u001b[1;32m     18\u001b[0m \u001b[39mfor\u001b[39;00m i, j \u001b[39min\u001b[39;00m window:\n\u001b[0;32m---> 19\u001b[0m     dt \u001b[39m=\u001b[39m dist(x[i\u001b[39m-\u001b[39;49m\u001b[39m1\u001b[39;49m], y[j\u001b[39m-\u001b[39;49m\u001b[39m1\u001b[39;49m]) \n\u001b[1;32m     20\u001b[0m     D[i, j] \u001b[39m=\u001b[39m \u001b[39mmin\u001b[39m((D[i\u001b[39m-\u001b[39m\u001b[39m1\u001b[39m, j][\u001b[39m0\u001b[39m]  \u001b[39m+\u001b[39mdt, i\u001b[39m-\u001b[39m\u001b[39m1\u001b[39m, j  ),\n\u001b[1;32m     21\u001b[0m                   (D[i, j\u001b[39m-\u001b[39m\u001b[39m1\u001b[39m][\u001b[39m0\u001b[39m]  \u001b[39m+\u001b[39mdt, i  , j\u001b[39m-\u001b[39m\u001b[39m1\u001b[39m),\n\u001b[1;32m     22\u001b[0m                   (D[i\u001b[39m-\u001b[39m\u001b[39m1\u001b[39m, j\u001b[39m-\u001b[39m\u001b[39m1\u001b[39m][\u001b[39m0\u001b[39m]\u001b[39m+\u001b[39mdt, i\u001b[39m-\u001b[39m\u001b[39m1\u001b[39m, j\u001b[39m-\u001b[39m\u001b[39m1\u001b[39m), key\u001b[39m=\u001b[39m\u001b[39mlambda\u001b[39;00m a: a[\u001b[39m0\u001b[39m])\u001b[39m# 移动法则\u001b[39;00m\n\u001b[1;32m     24\u001b[0m path \u001b[39m=\u001b[39m []\n",
      "Cell \u001b[0;32mIn[11], line 1\u001b[0m, in \u001b[0;36m<lambda>\u001b[0;34m(a, b)\u001b[0m\n\u001b[0;32m----> 1\u001b[0m \u001b[39mdef\u001b[39;00m \u001b[39mfast_dtw\u001b[39m(x, y, radius\u001b[39m=\u001b[39m\u001b[39m1\u001b[39m, dist\u001b[39m=\u001b[39m\u001b[39mlambda\u001b[39;00m a, b: np\u001b[39m.\u001b[39;49msum(np\u001b[39m.\u001b[39;49mabs(a \u001b[39m-\u001b[39;49m b))):\n\u001b[1;32m      2\u001b[0m     min_time_size \u001b[39m=\u001b[39m radius \u001b[39m+\u001b[39m \u001b[39m2\u001b[39m\n\u001b[1;32m      3\u001b[0m     \u001b[39mif\u001b[39;00m \u001b[39mlen\u001b[39m(x) \u001b[39m<\u001b[39m min_time_size \u001b[39mor\u001b[39;00m \u001b[39mlen\u001b[39m(y) \u001b[39m<\u001b[39m min_time_size:\n",
      "File \u001b[0;32m<__array_function__ internals>:180\u001b[0m, in \u001b[0;36msum\u001b[0;34m(*args, **kwargs)\u001b[0m\n",
      "File \u001b[0;32m~/opt/anaconda3/envs/ml/lib/python3.8/site-packages/numpy/core/fromnumeric.py:2296\u001b[0m, in \u001b[0;36msum\u001b[0;34m(a, axis, dtype, out, keepdims, initial, where)\u001b[0m\n\u001b[1;32m   2293\u001b[0m         \u001b[39mreturn\u001b[39;00m out\n\u001b[1;32m   2294\u001b[0m     \u001b[39mreturn\u001b[39;00m res\n\u001b[0;32m-> 2296\u001b[0m \u001b[39mreturn\u001b[39;00m _wrapreduction(a, np\u001b[39m.\u001b[39;49madd, \u001b[39m'\u001b[39;49m\u001b[39msum\u001b[39;49m\u001b[39m'\u001b[39;49m, axis, dtype, out, keepdims\u001b[39m=\u001b[39;49mkeepdims,\n\u001b[1;32m   2297\u001b[0m                       initial\u001b[39m=\u001b[39;49minitial, where\u001b[39m=\u001b[39;49mwhere)\n",
      "File \u001b[0;32m~/opt/anaconda3/envs/ml/lib/python3.8/site-packages/numpy/core/fromnumeric.py:84\u001b[0m, in \u001b[0;36m_wrapreduction\u001b[0;34m(obj, ufunc, method, axis, dtype, out, **kwargs)\u001b[0m\n\u001b[1;32m     82\u001b[0m             \u001b[39mreturn\u001b[39;00m reduction(axis\u001b[39m=\u001b[39maxis, dtype\u001b[39m=\u001b[39mdtype, out\u001b[39m=\u001b[39mout, \u001b[39m*\u001b[39m\u001b[39m*\u001b[39mpasskwargs)\n\u001b[1;32m     83\u001b[0m         \u001b[39melse\u001b[39;00m:\n\u001b[0;32m---> 84\u001b[0m             \u001b[39mreturn\u001b[39;00m reduction(axis\u001b[39m=\u001b[39;49maxis, out\u001b[39m=\u001b[39;49mout, \u001b[39m*\u001b[39;49m\u001b[39m*\u001b[39;49mpasskwargs)\n\u001b[1;32m     86\u001b[0m \u001b[39mreturn\u001b[39;00m ufunc\u001b[39m.\u001b[39mreduce(obj, axis, dtype, out, \u001b[39m*\u001b[39m\u001b[39m*\u001b[39mpasskwargs)\n",
      "File \u001b[0;32m~/opt/anaconda3/envs/ml/lib/python3.8/site-packages/numpy/core/_methods.py:48\u001b[0m, in \u001b[0;36m_sum\u001b[0;34m(a, axis, dtype, out, keepdims, initial, where)\u001b[0m\n\u001b[1;32m     46\u001b[0m \u001b[39mdef\u001b[39;00m \u001b[39m_sum\u001b[39m(a, axis\u001b[39m=\u001b[39m\u001b[39mNone\u001b[39;00m, dtype\u001b[39m=\u001b[39m\u001b[39mNone\u001b[39;00m, out\u001b[39m=\u001b[39m\u001b[39mNone\u001b[39;00m, keepdims\u001b[39m=\u001b[39m\u001b[39mFalse\u001b[39;00m,\n\u001b[1;32m     47\u001b[0m          initial\u001b[39m=\u001b[39m_NoValue, where\u001b[39m=\u001b[39m\u001b[39mTrue\u001b[39;00m):\n\u001b[0;32m---> 48\u001b[0m     \u001b[39mreturn\u001b[39;00m umr_sum(a, axis, dtype, out, keepdims, initial, where)\n",
      "\u001b[0;31mKeyboardInterrupt\u001b[0m: "
     ]
    }
   ],
   "source": [
    "t4 = time.time()\n",
    "dist_matrix = np.zeros((num_ts*100, num_ts*100))\n",
    "for i in range(num_ts*100):\n",
    "    for j in range(num_ts*100):\n",
    "        dist_matrix[i,j],path = fast_dtw(copies[i], copies[j])\n",
    "print(dist_matrix)\n",
    "dist_matrix.shape\n",
    "print(\"--- %s seconds ---\" % (time.time() - t4))\n"
   ]
  }
 ],
 "metadata": {
  "kernelspec": {
   "display_name": "ml",
   "language": "python",
   "name": "python3"
  },
  "language_info": {
   "codemirror_mode": {
    "name": "ipython",
    "version": 3
   },
   "file_extension": ".py",
   "mimetype": "text/x-python",
   "name": "python",
   "nbconvert_exporter": "python",
   "pygments_lexer": "ipython3",
   "version": "3.8.13"
  },
  "orig_nbformat": 4
 },
 "nbformat": 4,
 "nbformat_minor": 2
}
