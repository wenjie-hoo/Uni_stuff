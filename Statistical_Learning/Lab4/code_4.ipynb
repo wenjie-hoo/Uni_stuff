{
 "cells": [
  {
   "cell_type": "code",
   "execution_count": 2,
   "metadata": {
    "vscode": {
     "languageId": "r"
    }
   },
   "outputs": [
    {
     "name": "stdout",
     "output_type": "stream",
     "text": [
      "\n",
      "The downloaded binary packages are in\n",
      "\t/var/folders/zf/z_5ht60d3n7gfsmz14cjq6fc0000gn/T//RtmpoOYSOX/downloaded_packages\n",
      "\n",
      "The downloaded binary packages are in\n",
      "\t/var/folders/zf/z_5ht60d3n7gfsmz14cjq6fc0000gn/T//RtmpoOYSOX/downloaded_packages\n",
      "\n",
      "The downloaded binary packages are in\n",
      "\t/var/folders/zf/z_5ht60d3n7gfsmz14cjq6fc0000gn/T//RtmpoOYSOX/downloaded_packages\n"
     ]
    }
   ],
   "source": [
    "install.packages(\"caret\")\n",
    "install.packages(\"mvtnorm\")\n",
    "install.packages(\"knockoff\")\n",
    "library(MASS)  \n",
    "library(glmnet)\n",
    "library(caret)\n",
    "library(knockoff) \n",
    "library(mvtnorm)"
   ]
  },
  {
   "cell_type": "code",
   "execution_count": 3,
   "metadata": {
    "vscode": {
     "languageId": "r"
    }
   },
   "outputs": [
    {
     "ename": "ERROR",
     "evalue": "Error in parse(text = x, srcfile = src): <text>:2:8: unexpected symbol\n1: # p1\n2: import numpy\n          ^\n",
     "output_type": "error",
     "traceback": [
      "Error in parse(text = x, srcfile = src): <text>:2:8: unexpected symbol\n1: # p1\n2: import numpy\n          ^\nTraceback:\n"
     ]
    }
   ],
   "source": [
    "# p1\n",
    "import numpy as np\n",
    "from sklearn.linear_model import ElasticNet\n",
    "from sklearn.metrics import mean_squared_error\n",
    "from scipy.stats import norm\n",
    "\n",
    "n, p = 1000, 1000\n",
    "p0 = 950\n",
    "sigma = 1\n",
    "lambda_ = 2\n",
    "alpha = 0.5\n",
    "beta1 = 3\n",
    "\n",
    "np.random.seed(0)\n",
    "X = np.random.randn(n, p)\n",
    "beta = np.zeros(p)\n",
    "beta[0] = beta1\n",
    "y = X @ beta + np.random.normal(0, sigma, size=n)\n",
    "\n",
    "model = ElasticNet(alpha=lambda_ * alpha, l1_ratio=alpha, fit_intercept=False)\n",
    "model.fit(X, y)\n",
    "beta_hat = model.coef_\n",
    "\n",
    "beta1_hat = beta_hat[0]\n",
    "se = np.sqrt(mean_squared_error(y, X @ beta_hat) / n)\n",
    "z_score = beta1_hat / se\n",
    "p_value = 2 * (1 - norm.cdf(np.abs(z_score)))\n",
    "power = 1 - (p_value > 0.05)\n",
    "\n",
    "print(f\"beta_hat:{beta1_hat}\")\n",
    "print(f\"power of detection for beta1: {power:.2f}\")\n"
   ]
  },
  {
   "cell_type": "code",
   "execution_count": null,
   "metadata": {
    "vscode": {
     "languageId": "r"
    }
   },
   "outputs": [
    {
     "name": "stdout",
     "output_type": "stream",
     "text": [
      "[1]  1  7  8 10 11 12\n",
      "[1]  8 10 12  5  6  7\n"
     ]
    }
   ],
   "source": [
    "#p6\n",
    "W <- c(8, -4, -2, 2, -1.2, -0.6, 10, 12, 1, 5, 6, 7)\n",
    "q <- 0.4\n",
    "\n",
    "ratios <- list()\n",
    "t_values <- sort(unique(abs(W[W > 0])))\n",
    "\n",
    "for (t in t_values) {\n",
    "  num_le_neg_t <- sum(W <= -t)\n",
    "  num_ge_t <- sum(W >= t)\n",
    "  ratio <- (1 + num_le_neg_t) / num_ge_t\n",
    "  ratios[[length(ratios) + 1]] <- list(t = t, ratio = ratio)\n",
    "}\n",
    "\n",
    "t_hat <- NULL\n",
    "for (item in ratios) {\n",
    "  if (item$ratio <= q) {\n",
    "    t_hat <- item$t\n",
    "    break\n",
    "  }\n",
    "}\n",
    "\n",
    "important_vars <- if (!is.null(t_hat)) {\n",
    "  which(W >= t_hat)\n",
    "} else {\n",
    "  integer(0)\n",
    "}\n",
    "print(important_vars)\n",
    "# list(t_values, ratios, t_hat, important_vars)\n",
    "important_values <- W[important_vars]\n",
    "print(important_values)"
   ]
  },
  {
   "cell_type": "markdown",
   "metadata": {},
   "source": [
    "### computer project"
   ]
  },
  {
   "cell_type": "code",
   "execution_count": 19,
   "metadata": {
    "vscode": {
     "languageId": "r"
    }
   },
   "outputs": [],
   "source": [
    "generate_data <- function(n, p) {\n",
    "    random_matrix <- matrix(rnorm(n * p, sd = sqrt(1/n)), nrow = n)\n",
    "    X <- qr.Q(qr(random_matrix, LAPACK=TRUE))\n",
    "    # X <- qr.Q(random_matrix)\n",
    "    return(X)\n",
    "}\n",
    "\n",
    "get_FDP_and_TPP <- function(beta_hat, beta_true)\n",
    "{\n",
    "  FP=sum(beta_hat & (beta_true == 0))\n",
    "  FN=sum(!beta_hat & (beta_true > 0))\n",
    "  TP=sum(beta_hat & (beta_true > 0))\n",
    "  Reject=sum(beta_hat != 0)\n",
    "  FDP <- FP/(max(Reject, 1))\n",
    "  TPP <- TP/ sum(beta_true > 0)\n",
    "  returnValue(c(FDP = FDP, TPP=TPP))\n",
    "}"
   ]
  },
  {
   "cell_type": "code",
   "execution_count": 20,
   "metadata": {
    "vscode": {
     "languageId": "r"
    }
   },
   "outputs": [],
   "source": [
    "experiment <- function(X, k_arg) {\n",
    "  n_arg <- nrow(X)\n",
    "  p_arg <- ncol(X)\n",
    "  Beta_true <- c(rep(10, k_arg), rep(0, p_arg - k_arg))\n",
    "  y <- X %*% Beta_true + rnorm(n_arg, mean = 0, sd = 2)\n",
    "  \n",
    "  # ols\n",
    "  model_OLS <- lm(y ~ X - 1)\n",
    "  Beta_OLS <- coef(model_OLS)\n",
    "\n",
    "  # ridge\n",
    "  lambda_ridge <- cv.glmnet(X, y, alpha = 0, standardize = FALSE)\n",
    "  Beta_ridge <- coef(lambda_ridge, s = \"lambda.1se\")[-1]\n",
    "  \n",
    "  # Lasso\n",
    "  lambda_lasso <- cv.glmnet(X, y, alpha = 1, standardize = FALSE)\n",
    "  Beta_lasso <- coef(lambda_lasso, s = \"lambda.1se\")[-1]\n",
    "  \n",
    "  # Knockoffs for Lasso\n",
    "  cov_matrix <- diag(1 / n_arg, p_arg)\n",
    "  knockOff <- function(X) create.gaussian(X, mu = rep(0, length(Beta_true)), Sigma = cov_matrix)\n",
    "  knockoff_lasso <- knockoff.filter(X, y, knockoffs = knockOff, statistic = stat.glmnet_coefdiff, fdr = 0.2)\n",
    "  selected_by_knockoff <- rep(0, length(Beta_true))\n",
    "  selected_by_knockoff[knockoff_lasso$selected] <- TRUE\n",
    "  discoveries_knockoff_lasso <- get_FDP_and_TPP(beta_hat = selected_by_knockoff, beta_true = Beta_true)\n",
    "  \n",
    "  # Knockoffs for Ridge\n",
    "  k_stat_ridge <- function(X, Xk, y) stat.glmnet_coefdiff(X, Xk, y, alpha = 0)\n",
    "  knockoff_ridge <- knockoff.filter(X, y, knockoffs = knockOff, statistic = k_stat_ridge, fdr = 0.2)\n",
    "  selected_by_knockoff <- rep(0, length(Beta_true))\n",
    "  selected_by_knockoff[knockoff_ridge$selected] <- TRUE\n",
    "  discoveries_knockoff_ridge <- get_FDP_and_TPP(beta_hat = selected_by_knockoff, beta_true = Beta_true)\n",
    "  \n",
    "  # mse\n",
    "  MSE_OLS <- sum((Beta_true - Beta_OLS)^2)\n",
    "  MSE_ridge <- sum((Beta_true - Beta_ridge)^2)\n",
    "  MSE_lasso <- sum((Beta_true - Beta_lasso)^2)\n",
    "  \n",
    "  XB <- X %*% Beta_true\n",
    "  MSE_mean_OLS <- sum((XB - X %*% Beta_OLS)^2)\n",
    "  MSE_mean_ridge <- sum((XB - X %*% Beta_ridge)^2)\n",
    "  MSE_mean_lasso <- sum((XB - X %*% Beta_lasso)^2)\n",
    "  \n",
    "  discoveries_Lasso <- get_FDP_and_TPP(beta_hat = Beta_lasso, beta_true = Beta_true)\n",
    "\n",
    "  results_row <- c(MSE_OLS, MSE_ridge, MSE_lasso, MSE_mean_OLS, MSE_mean_ridge, MSE_mean_lasso,\n",
    "                   discoveries_Lasso, discoveries_knockoff_lasso, discoveries_knockoff_ridge)\n",
    "  \n",
    "  return(results_row)\n",
    "}\n"
   ]
  },
  {
   "cell_type": "code",
   "execution_count": 21,
   "metadata": {
    "vscode": {
     "languageId": "r"
    }
   },
   "outputs": [],
   "source": [
    "n <- 500\n",
    "p <- 450\n",
    "k <- c(5, 20, 50)\n",
    "n_rep <- 1"
   ]
  },
  {
   "cell_type": "code",
   "execution_count": 22,
   "metadata": {
    "vscode": {
     "languageId": "r"
    }
   },
   "outputs": [],
   "source": [
    "results <- list()\n",
    "for (k_value in k) {\n",
    "  results[[as.character(k_value)]] <- matrix(0, nrow = n_rep, ncol = 12)\n",
    "  colnames(results[[as.character(k_value)]]) <- c(\"MSE_OLS\", \"MSE_Ridge\", \"MSE_Lasso\", \n",
    "                                                  \"MSE_mean_OLS\", \"MSE_mean_Ridge\", \"MSE_mean_Lasso\", \n",
    "                                                  \"FDP_Lasso\", \"TPP_Lasso\", \"FDP_Knockoff_Lasso\", \"TPP_Knockoff_Lasso\", \n",
    "                                                  \"FDP_Knockoff_Ridge\", \"TPP_Knockoff_Ridge\")\n",
    "}"
   ]
  },
  {
   "cell_type": "code",
   "execution_count": 23,
   "metadata": {
    "vscode": {
     "languageId": "r"
    }
   },
   "outputs": [],
   "source": [
    "for (k_value in k) {\n",
    "  for (i in 1:n_rep) {\n",
    "    X <- generate_data(n, p)\n",
    "    run_results <- experiment(X, k_value)\n",
    "    results[[as.character(k_value)]][i, ] <- run_results\n",
    "  }\n",
    "}"
   ]
  },
  {
   "cell_type": "code",
   "execution_count": 24,
   "metadata": {
    "vscode": {
     "languageId": "r"
    }
   },
   "outputs": [
    {
     "name": "stdout",
     "output_type": "stream",
     "text": [
      "$`5`\n",
      "           MSE_OLS          MSE_Ridge          MSE_Lasso       MSE_mean_OLS \n",
      "      1900.6561366        500.0000000        240.8040039       1900.6561366 \n",
      "    MSE_mean_Ridge     MSE_mean_Lasso          FDP_Lasso          TPP_Lasso \n",
      "       500.0000000        240.8040039          0.0000000          1.0000000 \n",
      "FDP_Knockoff_Lasso TPP_Knockoff_Lasso FDP_Knockoff_Ridge TPP_Knockoff_Ridge \n",
      "         0.5000000          1.0000000          0.9180328          1.0000000 \n",
      "\n",
      "$`20`\n",
      "           MSE_OLS          MSE_Ridge          MSE_Lasso       MSE_mean_OLS \n",
      "      2018.0867038       2000.0000000        592.0455193       2018.0867038 \n",
      "    MSE_mean_Ridge     MSE_mean_Lasso          FDP_Lasso          TPP_Lasso \n",
      "      2000.0000000        592.0455193          0.1666667          1.0000000 \n",
      "FDP_Knockoff_Lasso TPP_Knockoff_Lasso FDP_Knockoff_Ridge TPP_Knockoff_Ridge \n",
      "         0.2000000          1.0000000          0.3548387          1.0000000 \n",
      "\n",
      "$`50`\n",
      "           MSE_OLS          MSE_Ridge          MSE_Lasso       MSE_mean_OLS \n",
      "      1971.6374900       2089.3828917       1211.3993753       1971.6374900 \n",
      "    MSE_mean_Ridge     MSE_mean_Lasso          FDP_Lasso          TPP_Lasso \n",
      "      2089.3828917       1211.3993753          0.4623656          1.0000000 \n",
      "FDP_Knockoff_Lasso TPP_Knockoff_Lasso FDP_Knockoff_Ridge TPP_Knockoff_Ridge \n",
      "         0.1833333          0.9800000          0.2241379          0.9000000 \n",
      "\n"
     ]
    }
   ],
   "source": [
    "summary_results <- list()\n",
    "for (k_value in k) {\n",
    "  summary_results[[as.character(k_value)]] <- apply(results[[as.character(k_value)]], 2, mean)\n",
    "}\n",
    "print(summary_results)\n"
   ]
  },
  {
   "cell_type": "code",
   "execution_count": null,
   "metadata": {
    "vscode": {
     "languageId": "r"
    }
   },
   "outputs": [],
   "source": []
  }
 ],
 "metadata": {
  "kernelspec": {
   "display_name": "R",
   "language": "R",
   "name": "ir"
  },
  "language_info": {
   "codemirror_mode": "r",
   "file_extension": ".r",
   "mimetype": "text/x-r-source",
   "name": "R",
   "pygments_lexer": "r",
   "version": "4.3.1"
  }
 },
 "nbformat": 4,
 "nbformat_minor": 2
}
