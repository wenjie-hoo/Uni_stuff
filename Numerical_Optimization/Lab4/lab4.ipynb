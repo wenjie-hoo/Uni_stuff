{
 "cells": [
  {
   "cell_type": "code",
   "execution_count": 2,
   "metadata": {},
   "outputs": [],
   "source": [
    "import cvxpy as cp\n",
    "import numpy as np"
   ]
  },
  {
   "cell_type": "markdown",
   "metadata": {},
   "source": [
    "https://www.cvxpy.org/"
   ]
  },
  {
   "cell_type": "markdown",
   "metadata": {},
   "source": [
    "\n",
    "$$ Max: \\sum_{t=1}^T(5x_{1t} ​+10 x_{2t}​+(10−x_{1t}​−2x_{2t}​)+2(10−3x_{2t}​)+3(10−x_{1​t}))  \\\\\n",
    "st: \n",
    "x_{1t} + 2x_{2t} \\leq 10 \\\\\n",
    "3x_{2t} \\leq 10 \\\\\n",
    "x_{1t} \\leq 10 \\\\\n",
    "5x_{1​t}+10x_{2t}​​​+(10-x_{1t}-2x_{2t})+2(10−3x_{2t}​)+3(10−x_{1t}​) \\geq 70\\\\\n",
    "x_1, x_2 \\geq 0$$"
   ]
  },
  {
   "cell_type": "code",
   "execution_count": 20,
   "metadata": {},
   "outputs": [
    {
     "name": "stdout",
     "output_type": "stream",
     "text": [
      "Optimal solution found!\n",
      "Total points earned: 70.00000000180277\n",
      "Amount of tools produced: [5.77139996]\n",
      "Amount of housing produced: [2.11430002]\n",
      "Amount of wood left: [-1.80276949e-09]\n",
      "Amount of stone left: [3.65709994]\n",
      "Amount of iron left: [4.22860004]\n"
     ]
    }
   ],
   "source": [
    "T = 1\n",
    "x1 = cp.Variable(T, nonneg=True)\n",
    "x2 = cp.Variable(T, nonneg=True)\n",
    "objective = cp.Maximize(cp.sum(5*x1 + 10*x2 + (10 - x1 - 2*x2) + 2*(10 - 3*x2) + 3*(10 - x1)))\n",
    "\n",
    "constraints = [\n",
    "    x1 + 2*x2 <= 10,\n",
    "    3*x2 <= 10,\n",
    "    x1 <= 10,\n",
    "    5*x1 + 10*x2 + (10 - x1 - 2*x2) + 2*(10 - 3*x2) + 3*(10 - x1) >= 70\n",
    "]\n",
    "\n",
    "problem = cp.Problem(objective, constraints)\n",
    "problem.solve()\n",
    "\n",
    "if problem.status == cp.OPTIMAL:\n",
    "    print(\"Optimal values:\")\n",
    "    print(\"Total points earned:\", problem.value)\n",
    "    print(\"Amount of tools produced:\", x1.value)\n",
    "    print(\"Amount of housing produced:\", x2.value)\n",
    "    print(\"Amount of wood left:\", 10-(x1.value + 2*x2.value))\n",
    "    print(\"Amount of stone left:\", 10-(3*x2.value))\n",
    "    print(\"Amount of iron left:\", 10-x1.value)"
   ]
  },
  {
   "cell_type": "markdown",
   "metadata": {},
   "source": [
    "\n",
    "$$ Max: \\sum_{t=1}^T(x_1 + 2x_2 + 3x_3 + 5x_4 + 10x_5)  \\\\\n",
    "st: \n",
    "x_1 + 3x_2 + 2x_3 + x_4 + 2(x_5) \\leq 100 \\\\\n",
    "x_1 - x_4 - 2x_5 \\geq 0 \\\\\n",
    "x_2 - 3 \\cdot x_5 \\geq 0 \\\\\n",
    "x_3 - x_1 \\geq 0 \\\\\n",
    "x_3 \\leq 10 \\\\\n",
    "x_1, x_2, x_3, x_4,x_5 \\geq 0$$"
   ]
  },
  {
   "cell_type": "code",
   "execution_count": 28,
   "metadata": {},
   "outputs": [
    {
     "name": "stdout",
     "output_type": "stream",
     "text": [
      "Optimal values:\n",
      "Wood used: [10.]\n",
      "Stone used: [19.99999999]\n",
      "Iron extracted: [10.]\n",
      "Tools produced: [2.98274144]\n",
      "Housing produced: [3.50862928]\n",
      "Optimal objective value: 129.9999999949219\n"
     ]
    }
   ],
   "source": [
    "\n",
    "T = 1 \n",
    "x1 = cp.Variable(T, nonneg=True)  # wood used\n",
    "x2 = cp.Variable(T, nonneg=True)  # stone used\n",
    "x3 = cp.Variable(T, nonneg=True)  # iron extracted\n",
    "x4 = cp.Variable(T, nonneg=True)  # tools produced\n",
    "x5 = cp.Variable(T, nonneg=True)  # housing produced\n",
    "\n",
    "objective = cp.Maximize(cp.sum(x1 + 2*x2 + 3*x3 + 5*x4 + 10*x5))\n",
    "constraints = [\n",
    "    x1 + 3*x2 + 2*x3 + x4 + 2*x5 <= 100,\n",
    "    x1 - x4 - 2*x5 >=0,\n",
    "    x2 - 3*x5 >=0,\n",
    "    x3 - x1 >=0,\n",
    "    x3 <= 10\n",
    "]\n",
    "\n",
    "problem = cp.Problem(objective, constraints)\n",
    "problem.solve()\n",
    "\n",
    "# Output the results\n",
    "print(\"Optimal values:\")\n",
    "print(\"Wood used:\", x1.value)\n",
    "print(\"Stone used:\", x2.value)\n",
    "print(\"Iron extracted:\", x3.value)\n",
    "print(\"Tools produced:\", x4.value)\n",
    "print(\"Housing produced:\", x5.value)\n",
    "print(\"Optimal objective value:\", problem.value)\n"
   ]
  },
  {
   "cell_type": "code",
   "execution_count": null,
   "metadata": {},
   "outputs": [],
   "source": []
  }
 ],
 "metadata": {
  "kernelspec": {
   "display_name": "dl",
   "language": "python",
   "name": "python3"
  },
  "language_info": {
   "codemirror_mode": {
    "name": "ipython",
    "version": 3
   },
   "file_extension": ".py",
   "mimetype": "text/x-python",
   "name": "python",
   "nbconvert_exporter": "python",
   "pygments_lexer": "ipython3",
   "version": "3.11.7"
  }
 },
 "nbformat": 4,
 "nbformat_minor": 2
}
