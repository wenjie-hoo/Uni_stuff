{
 "cells": [
  {
   "cell_type": "code",
   "execution_count": 1,
   "metadata": {},
   "outputs": [],
   "source": [
    "import cvxpy as cp\n",
    "import numpy as np"
   ]
  },
  {
   "cell_type": "markdown",
   "metadata": {},
   "source": [
    "https://www.cvxpy.org/"
   ]
  },
  {
   "cell_type": "markdown",
   "metadata": {},
   "source": [
    "#### P1\n",
    "$$ Max: \\sum_{t=1}^T(5x_{1t} ​+10 x_{2t}​+(10−x_{1t}​−2x_{2t}​)+2(10−3x_{2t}​)+3(10−x_{1​t}))  \\\\\n",
    "st: \n",
    "x_{1t} + 2x_{2t} \\leq 10 \\\\\n",
    "3x_{2t} \\leq 10 \\\\\n",
    "x_{1t} \\leq 10 \\\\\n",
    "5x_{1​t}+10x_{2t}​​​+(10-x_{1t}-2x_{2t})+2(10−3x_{2t}​)+3(10−x_{1t}​) \\geq 70\\\\\n",
    "x_1, x_2 \\geq 0$$"
   ]
  },
  {
   "cell_type": "code",
   "execution_count": 2,
   "metadata": {},
   "outputs": [
    {
     "name": "stdout",
     "output_type": "stream",
     "text": [
      "Optimal values:\n",
      "Total points earned: 70.00000000180277\n",
      "Amount of tools produced: [5.77139996]\n",
      "Amount of housing produced: [2.11430002]\n",
      "Amount of wood left: [-1.80276949e-09]\n",
      "Amount of stone left: [3.65709994]\n",
      "Amount of iron left: [4.22860004]\n"
     ]
    },
    {
     "name": "stderr",
     "output_type": "stream",
     "text": [
      "/Users/clarkhu/opt/anaconda3/envs/dl/lib/python3.11/site-packages/cvxpy/reductions/solvers/solving_chain.py:336: FutureWarning: \n",
      "    Your problem is being solved with the ECOS solver by default. Starting in \n",
      "    CVXPY 1.5.0, Clarabel will be used as the default solver instead. To continue \n",
      "    using ECOS, specify the ECOS solver explicitly using the ``solver=cp.ECOS`` \n",
      "    argument to the ``problem.solve`` method.\n",
      "    \n",
      "  warnings.warn(ECOS_DEPRECATION_MSG, FutureWarning)\n"
     ]
    }
   ],
   "source": [
    "T = 1\n",
    "x1 = cp.Variable(T, nonneg=True)\n",
    "x2 = cp.Variable(T, nonneg=True)\n",
    "objective = cp.Maximize(cp.sum(5*x1 + 10*x2 + (10 - x1 - 2*x2) + 2*(10 - 3*x2) + 3*(10 - x1)))\n",
    "\n",
    "constraints = [\n",
    "    x1 + 2*x2 <= 10,\n",
    "    3*x2 <= 10,\n",
    "    x1 <= 10,\n",
    "    5*x1 + 10*x2 + (10 - x1 - 2*x2) + 2*(10 - 3*x2) + 3*(10 - x1) >= 70\n",
    "]\n",
    "\n",
    "problem = cp.Problem(objective, constraints)\n",
    "problem.solve()\n",
    "\n",
    "if problem.status == cp.OPTIMAL:\n",
    "    print(\"Optimal values:\")\n",
    "    print(\"Total points earned:\", problem.value)\n",
    "    print(\"Amount of tools produced:\", x1.value)\n",
    "    print(\"Amount of housing produced:\", x2.value)\n",
    "    print(\"Amount of wood left:\", 10-(x1.value + 2*x2.value))\n",
    "    print(\"Amount of stone left:\", 10-(3*x2.value))\n",
    "    print(\"Amount of iron left:\", 10-x1.value)"
   ]
  },
  {
   "cell_type": "markdown",
   "metadata": {},
   "source": [
    "### P2\n",
    "$$ max: 2x_1 + x_2  + 2x_3 + 5x_4 + 10x_5  \\\\\n",
    "st: \n",
    "x_1 + 3x_2 + 2x_3 + x_4 + 2(x_5) \\leq 100 \\\\\n",
    "x_1 - x_4 - 2x_5 \\geq 0 \\\\\n",
    "x_2 - 3x_5 \\geq 0 \\\\\n",
    "x_3 - x_1 \\geq 0 \\\\\n",
    "x_3 \\leq 10 \\\\\n",
    "x_1, x_2, x_3, x_4,x_5 \\geq 0$$\n",
    "$$\n",
    "\\text{variables} = \\begin{bmatrix} x_1 = wood \\\\ x_2 = stone \\\\ x_3 = iron \\\\ x_4 = tools \\\\ x_5 = housing \\end{bmatrix}\n",
    "$$"
   ]
  },
  {
   "cell_type": "code",
   "execution_count": 3,
   "metadata": {},
   "outputs": [
    {
     "name": "stdout",
     "output_type": "stream",
     "text": [
      "Optimal values: 109.99999999985614\n",
      "Wood used: [10.]\n",
      "Stone used: [20.]\n",
      "Iron extracted: [10.]\n",
      "Tools produced: [3.63363684]\n",
      "Housing produced: [3.18318158]\n"
     ]
    }
   ],
   "source": [
    "T = 1 \n",
    "x1 = cp.Variable(T, nonneg=True)\n",
    "x2 = cp.Variable(T, nonneg=True)\n",
    "x3 = cp.Variable(T, nonneg=True)\n",
    "x4 = cp.Variable(T, nonneg=True)\n",
    "x5 = cp.Variable(T, nonneg=True)\n",
    "\n",
    "objective = cp.Maximize(cp.sum(2*x1 + 1*x2 + 2*x3 + 5*x4 + 10*x5))\n",
    "constraints = [\n",
    "    x1 + 3*x2 + 2*x3 + x4 + 2*x5 <= 100,\n",
    "    x1 - x4 - 2*x5 >=0,\n",
    "    x2 - 3*x5 >=0,\n",
    "    x3 - x1 >=0,\n",
    "    x3 <= 10\n",
    "]\n",
    "\n",
    "problem = cp.Problem(objective, constraints)\n",
    "problem.solve()\n",
    "if problem.status == cp.OPTIMAL:\n",
    "    print(\"Optimal values:\",problem.value)\n",
    "    print(\"Wood used:\", x1.value)\n",
    "    print(\"Stone used:\", x2.value)\n",
    "    print(\"Iron extracted:\", x3.value)\n",
    "    print(\"Tools produced:\", x4.value)\n",
    "    print(\"Housing produced:\", x5.value)"
   ]
  },
  {
   "cell_type": "markdown",
   "metadata": {},
   "source": [
    "#### P3\n",
    "\n",
    "$$\\max \\sum_{t} \\left(1 \\cdot (W_t - S_{t+1}^W) + 2 \\cdot (S_t - S_{t+1}^S) + 3 \\cdot (I_t - S_{t+1}^I) + 5 \\cdot (T_t + T_{t+1}) + 10 \\cdot H_t\\right) $$\n",
    "\n",
    "**St:**\n",
    "\n",
    "1. **Resource Conservation:**\n",
    "   $$\n",
    "   P^W_t + S^W_t - C^W_t \\geq 0 \\\\\n",
    "   P^S_t + S^S_t - C^S_t \\geq 0 \\\\\n",
    "   P^I_t + S^I_t - C^I_t \\geq 0 \\\\\n",
    "   P^T_t + S^T_t - C^T_t \\geq 0 \\\\ $$\n",
    "2. **Stockpile Capacity:**\n",
    "   $$\n",
    "   S^W_t + S^S_t + S^I_t + S^T_t \\leq 30\n",
    "   $$\n",
    "3. **Initial Stockpile:**\n",
    "   $$\n",
    "   S^W_1 = 5, \\quad S^S_1 = 5, \\quad S^I_1 = 5, \\quad S^T_1 = 5\n",
    "   $$\n",
    "4. **Stockpile Limitation:**\n",
    "   $$\n",
    "   S^W_{t+1} \\leq W_t \\\\\n",
    "   S^S_{t+1} \\leq S_t \\\\\n",
    "   S^I_{t+1} \\leq I_t \\\\\n",
    "   S^T_{t+1} \\leq T_t \\\\\n",
    "   $$\n",
    "5. **Mining Constraint:**\n",
    "   $$\n",
    "   S_1 \\leq 5 \\\\ \n",
    "   \\quad S_{t+1} \\leq 5 + 5 \\cdot M_t\n",
    "   $$\n",
    "6. **Labour Constraint:**\n",
    "   $$\n",
    "   L_1 \\leq 50 \\\\ \n",
    "   \\quad L_{t+1} \\leq 50 + 10 \\cdot H_t\n",
    "   $$\n",
    "\n",
    "**Variables:**\n",
    "\n",
    "$$\n",
    "\\text{Resources} = \\begin{bmatrix} W \\\\ S \\\\ I \\\\ T \\\\ M \\\\ H \\\\ SH \\end{bmatrix}, \\quad \\text{Production} = \\begin{bmatrix} P^W \\\\ P^S \\\\ P^I \\\\ P^T \\\\ C^W \\\\ C^S \\\\ C^I \\\\ C^T \\\\ L \\end{bmatrix}\n",
    "$$\n"
   ]
  },
  {
   "cell_type": "code",
   "execution_count": 4,
   "metadata": {},
   "outputs": [
    {
     "name": "stdout",
     "output_type": "stream",
     "text": [
      "Optimal value: 297.07\n",
      "Optimal stockpile:\n",
      "[[5.00000000e+00 2.54715809e+00 2.38796077e+00 2.23871325e+00\n",
      "  5.73644571e-07]\n",
      " [5.00000000e+00 3.09032883e-09 2.34188871e-08 3.43890946e-08\n",
      "  4.65228664e-07]\n",
      " [5.00000000e+00 2.54715809e+00 2.38796075e+00 2.23871323e+00\n",
      "  2.62438524e-07]\n",
      " [5.00000000e+00 2.56772108e+00 2.54715809e+00 2.38796075e+00\n",
      "  2.23871322e+00]]\n",
      "Optimal production:\n",
      "[[2.54715809e+00 2.38796077e+00 2.23871326e+00 6.36305871e-07\n",
      "  4.43842350e-07]\n",
      " [5.50399808e-09 1.57420919e+01 1.58449069e+01 1.66408936e+01\n",
      "  1.73871312e+01]\n",
      " [4.24528419e+01 5.00000001e+00 5.00000001e+00 5.00000001e+00\n",
      "  5.00000001e+00]\n",
      " [2.56772108e+00 2.54715809e+00 2.38796075e+00 2.23871323e+00\n",
      "  2.62290937e-07]\n",
      " [1.21613946e+00 9.10578033e-10 7.74967090e-09 1.14186249e-08\n",
      "  1.55045619e-07]\n",
      " [7.36804245e-09 3.67153919e-09 1.21018759e-09 9.21014192e-10\n",
      "  7.60981547e-10]]\n"
     ]
    }
   ],
   "source": [
    "num_resources = 4\n",
    "num_products = 5\n",
    "\n",
    "stockpile = cp.Variable((num_resources, num_products), nonneg=True)\n",
    "production = cp.Variable((6, num_products), nonneg=True)\n",
    "points = cp.Variable((num_products, num_products), nonneg=True)\n",
    "\n",
    "costs = np.array([\n",
    "    [0, 0, 0, 0.1, 1], \n",
    "    [0, 0, 0, 0.1, 3], \n",
    "    [0, 0, 0, 0.1, 2], \n",
    "    [1, 0, 1, 0.1, 1], \n",
    "    [2, 3, 0, 0.2, 2], \n",
    "    [0, 0, 0, 0.2, 1],\n",
    "])\n",
    "\n",
    "scores = np.array([1, 2, 3, 5, 10])\n",
    "\n",
    "resource_cost = (costs.T @ production)[:num_resources]\n",
    "labour_cost = (costs.T @ production)[num_resources]\n",
    "\n",
    "resource_production = production[:num_resources]\n",
    "housing, mining = production[num_resources:]\n",
    "\n",
    "iron_production = production[2]\n",
    "\n",
    "resource_points = points[:num_resources]\n",
    "housing_points = points[num_resources]\n",
    "\n",
    "constraints = [\n",
    "    points <= production[:num_products],\n",
    "    resource_cost <= stockpile,\n",
    "    stockpile.sum(axis=0) <= 30,\n",
    "    stockpile.T[0] == 5,\n",
    "]\n",
    "\n",
    "for i in range(num_resources):\n",
    "    constraints.append(stockpile.T[i + 1] == resource_production.T[i] - resource_points.T[i])\n",
    "for i in range(1, num_products):\n",
    "    constraints.append(labour_cost[i] <= 50 + 10 * (housing - housing_points)[:i].cumsum())\n",
    "    constraints.append(iron_production[i] <= 5 + mining[:i].cumsum())\n",
    "    \n",
    "problem = cp.Problem(cp.Maximize((scores @ points).sum()), constraints)\n",
    "problem.solve()\n",
    "\n",
    "print(f\"Optimal value: {problem.value:.2f}\")\n",
    "print(f\"Optimal stockpile:\\n{stockpile.value}\")\n",
    "print(f\"Optimal production:\\n{production.value}\")"
   ]
  }
 ],
 "metadata": {
  "kernelspec": {
   "display_name": "dl",
   "language": "python",
   "name": "python3"
  },
  "language_info": {
   "codemirror_mode": {
    "name": "ipython",
    "version": 3
   },
   "file_extension": ".py",
   "mimetype": "text/x-python",
   "name": "python",
   "nbconvert_exporter": "python",
   "pygments_lexer": "ipython3",
   "version": "3.11.7"
  }
 },
 "nbformat": 4,
 "nbformat_minor": 2
}
