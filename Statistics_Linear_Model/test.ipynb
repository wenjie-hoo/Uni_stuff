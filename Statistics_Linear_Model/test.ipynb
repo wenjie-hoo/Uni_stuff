{
 "cells": [
  {
   "cell_type": "code",
   "execution_count": 1,
   "metadata": {},
   "outputs": [],
   "source": [
    "import numpy as np\n",
    "from tqdm import tqdm\n",
    "from scipy.stats import norm\n",
    "from typing import *\n",
    "import pandas as pd\n",
    "import matplotlib.pyplot as plt\n",
    "import scipy\n",
    "from scipy.special import kolmogorov"
   ]
  },
  {
   "cell_type": "code",
   "execution_count": null,
   "metadata": {},
   "outputs": [],
   "source": [
    "text ='''\n",
    "1 0.1 0.100543   7.579309e-05 8.010760e-05  0.0020789622\n",
    "2 0.3 0.300006   3.773300e-03 3.801084e-03  0.0053067340\n",
    "3 0.5 0.499732   8.266745e-03 8.266169e-03 -0.0005002931\n",
    "4 0.7 0.699407   3.717515e-03 3.752977e-03 -0.0059860889\n",
    "5 0.9 0.899987   7.373241e-05 7.755535e-05 -0.0019571195\n",
    "'''"
   ]
  },
  {
   "cell_type": "code",
   "execution_count": null,
   "metadata": {},
   "outputs": [],
   "source": [
    "import re\n",
    "\n",
    "def replace_spaces_with_pipe(input_string):\n",
    "    input_string = input_string[1:]\n",
    "    return re.sub(r'\\s+', '|', input_string)\n",
    "\n",
    "lines = text.split('\\n')\n",
    "\n",
    "\n",
    "for line in lines:\n",
    "    modified_line = replace_spaces_with_pipe(line)\n",
    "    modified_line = modified_line+\"|\"\n",
    "    # modified_line = \"|\"+modified_line+\"|\"\n",
    "    # modified_line = \"|$\\hat{\\\\\"+modified_line+\"|\"\n",
    "    print(modified_line)\n"
   ]
  },
  {
   "cell_type": "code",
   "execution_count": null,
   "metadata": {},
   "outputs": [],
   "source": [
    "def pearson(k: int, X: np.ndarray) -> float:\n",
    "    hist, bins = np.histogram(X, bins=k)\n",
    "    N = len(X)\n",
    "    p = 1 / k\n",
    "    return np.sum((hist - N * p) ** 2 / (N * p))"
   ]
  },
  {
   "cell_type": "code",
   "execution_count": 2,
   "metadata": {},
   "outputs": [],
   "source": [
    "polynomials = [\n",
    "    np.poly1d([1]),\n",
    "    np.poly1d([3.464102, -1.732051]),\n",
    "    np.poly1d([13.41641, -13.41641, 2.236068]),\n",
    "    np.poly1d([52.91503, -79.37254, 31.74902, -2.645751]),\n",
    "    np.poly1d([210, -420, 270, -60, 3]),\n",
    "    np.poly1d([835.7894, -2089.474, 1857.31, -696.4912, 99.49874, -3.316625]),\n",
    "    np.poly1d([3331.529, -9994.588, 11357.49, -6057.326, 1514.332, -151.4332,  3.605551]),\n",
    "    np.poly1d([13292.08, -46522.28, 64415.46, -44732.96, 16266.53, -2927.975, 216.8871, -3.872983]),\n",
    "    np.poly1d([53064.37, -212257.5, 346687.2, -297160.5, 142865.6, -38097.5, 5195.113, -296.8636, 4.123106]),\n",
    "]"
   ]
  },
  {
   "cell_type": "code",
   "execution_count": 5,
   "metadata": {},
   "outputs": [],
   "source": [
    "def neyman(k: int, X: np.ndarray) -> float:\n",
    "    N = len(X)\n",
    "    ans: float = 0\n",
    "    for j in range(k):\n",
    "        inner_sum: float = 0\n",
    "        for i in range(N):\n",
    "            inner_sum += scipy.special.eval_sh_legendre(j + 1, X[i])\n",
    "            # inner_sum += polynomials[j + 1](X[i])\n",
    "        ans += (inner_sum / np.sqrt(N)) ** 2\n",
    "    return ans"
   ]
  },
  {
   "cell_type": "code",
   "execution_count": 6,
   "metadata": {},
   "outputs": [
    {
     "data": {
      "text/plain": [
       "(array([0.23536497, 0.43542519, 0.63548541, 0.96499636, 0.88261862,\n",
       "        1.05914235, 0.77670439, 0.76493614, 0.67079015, 0.74139964,\n",
       "        0.52957117, 0.47072993, 0.50603468, 0.48249818, 0.38835219,\n",
       "        0.28243796, 0.30597446, 0.23536497, 0.15298723, 0.10591423,\n",
       "        0.16475548, 0.14121898, 0.14121898, 0.11768248, 0.09414599,\n",
       "        0.07060949, 0.03530474, 0.09414599, 0.03530474, 0.0235365 ,\n",
       "        0.01176825, 0.01176825, 0.03530474, 0.01176825, 0.        ,\n",
       "        0.01176825, 0.        , 0.01176825, 0.0235365 , 0.03530474,\n",
       "        0.        , 0.01176825, 0.03530474, 0.        , 0.        ,\n",
       "        0.        , 0.01176825, 0.        , 0.        , 0.01176825]),\n",
       " array([0.01510947, 0.10008388, 0.1850583 , 0.27003271, 0.35500713,\n",
       "        0.43998154, 0.52495595, 0.60993037, 0.69490478, 0.77987919,\n",
       "        0.86485361, 0.94982802, 1.03480244, 1.11977685, 1.20475126,\n",
       "        1.28972568, 1.37470009, 1.4596745 , 1.54464892, 1.62962333,\n",
       "        1.71459775, 1.79957216, 1.88454657, 1.96952099, 2.0544954 ,\n",
       "        2.13946981, 2.22444423, 2.30941864, 2.39439305, 2.47936747,\n",
       "        2.56434188, 2.6493163 , 2.73429071, 2.81926512, 2.90423954,\n",
       "        2.98921395, 3.07418836, 3.15916278, 3.24413719, 3.32911161,\n",
       "        3.41408602, 3.49906043, 3.58403485, 3.66900926, 3.75398367,\n",
       "        3.83895809, 3.9239325 , 4.00890691, 4.09388133, 4.17885574,\n",
       "        4.26383016]),\n",
       " <BarContainer object of 50 artists>)"
      ]
     },
     "execution_count": 6,
     "metadata": {},
     "output_type": "execute_result"
    },
    {
     "data": {
      "image/png": "[encoded data removed]",
      "text/plain": [
       "<Figure size 640x480 with 1 Axes>"
      ]
     },
     "metadata": {},
     "output_type": "display_data"
    }
   ],
   "source": [
    "data = []\n",
    "k = 5\n",
    "for i in range(1000):\n",
    "    data.append(neyman(\n",
    "        k=k,\n",
    "        X=np.random.uniform(0, 1, size=100)\n",
    "    ))\n",
    "plt.hist(data, bins=50, edgecolor=\"black\", density=True)"
   ]
  },
  {
   "cell_type": "code",
   "execution_count": null,
   "metadata": {},
   "outputs": [],
   "source": [
    "def ks(X: np.ndarray) -> float:\n",
    "    N = len(X)\n",
    "    return np.sqrt(N) * scipy.stats.kstest(rvs=X, cdf=\"uniform\").statistic\n"
   ]
  },
  {
   "cell_type": "code",
   "execution_count": null,
   "metadata": {},
   "outputs": [],
   "source": [
    "\n",
    "def chi_critical_value(df: int, sig: float) -> float:\n",
    "    return scipy.stats.chi2.ppf(sig, df=df)"
   ]
  },
  {
   "cell_type": "markdown",
   "metadata": {},
   "source": [
    "def ks(X: np.ndarray) -> float:\n",
    "    N = len(X)\n",
    "    return np.sqrt(N) * scipy.stats.kstest(rvs=X, cdf=\"uniform\").statistic"
   ]
  },
  {
   "cell_type": "code",
   "execution_count": null,
   "metadata": {},
   "outputs": [],
   "source": [
    "N = 10\n",
    "p4s, p8s, n1s, n4s, n8s, kes = [], [], [], [], [], []\n",
    "for _ in tqdm(range(10000)):\n",
    "    X = np.random.uniform(0, 1, size=N)\n",
    "    p4 = pearson(k=4, X=X)\n",
    "    p8 = pearson(k=8, X=X)\n",
    "    n1 = neyman(k=1, X=X)\n",
    "    n4 = neyman(k=4, X=X)\n",
    "    n8 = neyman(k=8, X=X)\n",
    "    k = ks(X=X)\n",
    "    p4s.append(p4)\n",
    "    p8s.append(p8)\n",
    "    n1s.append(n1)\n",
    "    n4s.append(n4)\n",
    "    n8s.append(n8)\n",
    "    kes.append(k)"
   ]
  },
  {
   "cell_type": "code",
   "execution_count": 7,
   "metadata": {},
   "outputs": [
    {
     "ename": "NameError",
     "evalue": "name 'p4s' is not defined",
     "output_type": "error",
     "traceback": [
      "\u001b[0;31m---------------------------------------------------------------------------\u001b[0m",
      "\u001b[0;31mNameError\u001b[0m                                 Traceback (most recent call last)",
      "\u001b[1;32m/Users/clarkhu/Desktop/S&LM/test.ipynb Cell 12\u001b[0m line \u001b[0;36m1\n\u001b[0;32m----> <a href='vscode-notebook-cell:/Users/clarkhu/Desktop/S%26LM/test.ipynb#X13sZmlsZQ%3D%3D?line=0'>1</a>\u001b[0m p4s\n",
      "\u001b[0;31mNameError\u001b[0m: name 'p4s' is not defined"
     ]
    }
   ],
   "source": [
    "p4s"
   ]
  },
  {
   "cell_type": "code",
   "execution_count": null,
   "metadata": {},
   "outputs": [],
   "source": [
    "bins = 30\n",
    "fig, axes = plt.subplots(2, 3, figsize=(15, 10))\n",
    "\n",
    "_ = axes[0][0].hist(p4s, bins=bins, edgecolor=\"black\", density=True)\n",
    "cr = np.quantile(p4s, 0.95)\n",
    "true_cr = chi_critical_value(df=3, sig=0.95)\n",
    "axes[0][0].set_title(f\"P_4 CR={cr:.2f}, true CR={true_cr:.2f}\")\n",
    "axes[0][0].axvline(cr, color='red', linestyle =\"--\", linewidth=2)\n",
    "axes[0][0].axvline(true_cr, color='green', linestyle =\"--\", linewidth=2)\n",
    "axes[0][0].plot(\n",
    "    np.linspace(0, max(p4s), 1000), \n",
    "    scipy.stats.chi2.pdf(np.linspace(0, max(p4s), 1000), df=3),\n",
    "    color=\"red\"\n",
    ")\n",
    "\n",
    "\n",
    "_ = axes[0][1].hist(p8s, bins=bins, edgecolor=\"black\", density=True)\n",
    "cr = np.quantile(p8s, 0.95)\n",
    "true_cr = chi_critical_value(df=7, sig=0.95)\n",
    "axes[0][1].axvline(cr, color='red', linestyle =\"--\", linewidth=2)\n",
    "axes[0][1].axvline(true_cr, color='green', linestyle =\"--\", linewidth=2)\n",
    "axes[0][1].set_title(f\"P_8 CR={cr:.2f}, true CR={true_cr:.2f}\")\n",
    "axes[0][1].plot(\n",
    "    np.linspace(0, max(p8s), 1000), \n",
    "    scipy.stats.chi2.pdf(np.linspace(0, max(p8s), 1000), df=7),\n",
    "    color=\"red\"\n",
    ")\n",
    "\n",
    "_ = axes[0][2].hist(kes, bins=bins, edgecolor=\"black\", density=True)\n",
    "cr = np.quantile(kes, 0.95)\n",
    "true_cr = scipy.stats.kstwobign.ppf(0.95)\n",
    "axes[0][2].set_title(f\"KS CR={cr:.2f}, true CR={true_cr:.2f}\")\n",
    "axes[0][2].axvline(cr, color='red', linestyle =\"--\", linewidth=2)\n",
    "axes[0][2].axvline(true_cr, color='green', linestyle =\"--\", linewidth=2)\n",
    "\n",
    "_ = axes[1][0].hist(n1s, bins=bins, edgecolor=\"black\", density=True)\n",
    "cr = np.quantile(n1s, 0.95)\n",
    "true_cr = chi_critical_value(df=1, sig=0.95)\n",
    "axes[1][0].axvline(cr, color='red', linestyle =\"--\", linewidth=2)\n",
    "axes[1][0].axvline(true_cr, color='green', linestyle =\"--\", linewidth=2)\n",
    "axes[1][0].set_title(f\"N_1 CR={cr:.2f}, true CR={true_cr:.2f}\")\n",
    "axes[1][0].plot(\n",
    "    np.linspace(0, max(n1s), 1000), \n",
    "    scipy.stats.chi2.pdf(np.linspace(0, max(n1s), 1000), df=1),\n",
    "    color=\"red\"\n",
    ")\n",
    "\n",
    "_ = axes[1][1].hist(n4s, bins=bins, edgecolor=\"black\", density=True)\n",
    "cr = np.quantile(n4s, 0.95)\n",
    "true_cr = chi_critical_value(df=4, sig=0.95)\n",
    "axes[1][1].axvline(cr, color='red', linestyle =\"--\", linewidth=2)\n",
    "axes[1][1].axvline(true_cr, color='green', linestyle =\"--\", linewidth=2)\n",
    "axes[1][1].set_title(f\"N_4 CR={cr:.2f}, true CR={true_cr:.2f}\")\n",
    "axes[1][1].plot(\n",
    "    np.linspace(0, max(n4s), 1000), \n",
    "    scipy.stats.chi2.pdf(np.linspace(0, max(n4s), 1000), df=4),\n",
    "    color=\"red\"\n",
    ")\n",
    "\n",
    "_ = axes[1][2].hist(n8s, bins=bins, edgecolor=\"black\", density=True)\n",
    "cr = np.quantile(n8s, 0.95)\n",
    "true_cr = chi_critical_value(df=8, sig=0.95)\n",
    "axes[1][2].axvline(cr, color='red', linestyle =\"--\", linewidth=2)\n",
    "axes[1][2].axvline(true_cr, color='green', linestyle =\"--\", linewidth=2)\n",
    "axes[1][2].set_title(f\"N_8 CR={cr:.2f}, true CR={true_cr:.2f}\")\n",
    "axes[1][2].plot(\n",
    "    np.linspace(0, max(n8s), 1000), \n",
    "    scipy.stats.chi2.pdf(np.linspace(0, max(n8s), 1000), df=8),\n",
    "    color=\"red\"\n",
    ")\n"
   ]
  },
  {
   "cell_type": "code",
   "execution_count": null,
   "metadata": {},
   "outputs": [],
   "source": [
    "polynomials = [\n",
    "    np.poly1d([1]),\n",
    "    np.poly1d([3.464102, -1.732051]),\n",
    "    np.poly1d([13.41641, -13.41641, 2.236068]),\n",
    "    np.poly1d([52.91503, -79.37254, 31.74902, -2.645751]),\n",
    "    np.poly1d([210, -420, 270, -60, 3]),\n",
    "    np.poly1d([835.7894, -2089.474, 1857.31, -696.4912, 99.49874, -3.316625]),\n",
    "    np.poly1d([3331.529, -9994.588, 11357.49, -6057.326, 1514.332, -151.4332,  3.605551]),\n",
    "    np.poly1d([13292.08, -46522.28, 64415.46, -44732.96, 16266.53, -2927.975, 216.8871, -3.872983]),\n",
    "    np.poly1d([53064.37, -212257.5, 346687.2, -297160.5, 142865.6, -38097.5, 5195.113, -296.8636, 4.123106]),\n",
    "]"
   ]
  },
  {
   "cell_type": "code",
   "execution_count": null,
   "metadata": {},
   "outputs": [],
   "source": [
    "a = np.poly1d([3.464102, -1.732051])\n",
    "a"
   ]
  }
 ],
 "metadata": {
  "kernelspec": {
   "display_name": "ai",
   "language": "python",
   "name": "python3"
  },
  "language_info": {
   "codemirror_mode": {
    "name": "ipython",
    "version": 3
   },
   "file_extension": ".py",
   "mimetype": "text/x-python",
   "name": "python",
   "nbconvert_exporter": "python",
   "pygments_lexer": "ipython3",
   "version": "3.9.18"
  }
 },
 "nbformat": 4,
 "nbformat_minor": 2
}
