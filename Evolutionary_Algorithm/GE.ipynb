{
 "cells": [
  {
   "cell_type": "code",
   "execution_count": 4,
   "metadata": {},
   "outputs": [],
   "source": [
    "from pyneurgen.grammatical_evolution import GrammaticalEvolution\n",
    "from pyneurgen.fitness import FitnessElites, FitnessTournament\n",
    "from pyneurgen.fitness import ReplacementTournament, MAX, MIN, CENTER"
   ]
  },
  {
   "cell_type": "code",
   "execution_count": 5,
   "metadata": {},
   "outputs": [],
   "source": [
    "bnf =   \"\"\"\n",
    "<expr>              ::= <expr> <biop> <expr> | <uop> <expr> | <real> |\n",
    "                        math.log(abs(<expr>)) | <pow> | math.sin(<expr>)|\n",
    "                        value | (<expr>)\n",
    "<biop>              ::= + | - | * | /\n",
    "<uop>               ::= + | -\n",
    "<pow>               ::= pow(<expr>, <real>)\n",
    "<plus>              ::= +\n",
    "<minus>             ::= -\n",
    "<real>              ::= <int-const>.<int-const>\n",
    "<int-const>         ::= <int-const> | 1 | 2 | 3 | 4 | 5 | 6 |\n",
    "                        7 | 8 | 9 | 0\n",
    "<S>                 ::=\n",
    "import math\n",
    "total = 0.0\n",
    "for i in xrange(100):\n",
    "    value = float(i) / float(100)\n",
    "    total += abs(<expr> - pow(value, 3))\n",
    "fitness = total\n",
    "self.set_bnf_variable('<fitness>', fitness)\n",
    "        \"\"\""
   ]
  },
  {
   "cell_type": "code",
   "execution_count": 11,
   "metadata": {},
   "outputs": [],
   "source": [
    "options = ['+', '-', '*', '/']\n",
    "codon = 73\n",
    "choice_number = codon % len(options)\n",
    "choice = options[choice_number]\n"
   ]
  },
  {
   "cell_type": "code",
   "execution_count": 6,
   "metadata": {},
   "outputs": [],
   "source": [
    "ges = GrammaticalEvolution()\n",
    "\n",
    "ges.set_bnf(bnf)\n",
    "ges.set_genotype_length(start_gene_length=20,\n",
    "                        max_gene_length=50)\n",
    "ges.set_population_size(50)\n",
    "ges.set_wrap(True)\n",
    "\n",
    "ges.set_max_generations(1000)\n",
    "ges.set_fitness_type(MIN, .01)\n",
    "\n",
    "ges.set_max_program_length(500)\n",
    "ges.set_timeouts(10, 120)\n",
    "ges.set_fitness_fail(100.0)\n",
    "\n",
    "ges.set_fitness_selections(\n",
    "    FitnessElites(ges.fitness_list, .05),\n",
    "    FitnessTournament(ges.fitness_list, tournament_size=2))\n",
    "ges.set_max_fitness_rate(.5)\n",
    "\n",
    "ges.set_mutation_rate(.025)\n",
    "ges.set_fitness_selections(\n",
    "    FitnessElites(ges.fitness_list, .05),\n",
    "    FitnessTournament(ges.fitness_list, tournament_size=2))\n",
    "ges.set_max_fitness_rate(.5)\n",
    "\n",
    "ges.set_crossover_rate(.2)\n",
    "ges.set_children_per_crossover(2)\n",
    "ges.set_mutation_type('m')\n",
    "ges.set_max_fitness_rate(.25)\n",
    "\n",
    "ges.set_replacement_selections(\n",
    "        ReplacementTournament(ges.fitness_list, tournament_size=3))\n",
    "\n",
    "ges.set_maintain_history(True)"
   ]
  },
  {
   "cell_type": "code",
   "execution_count": 15,
   "metadata": {},
   "outputs": [
    {
     "name": "stdout",
     "output_type": "stream",
     "text": [
      "23\n"
     ]
    }
   ],
   "source": [
    "ges.create_genotypes()\n",
    "print ges.run()"
   ]
  },
  {
   "cell_type": "code",
   "execution_count": 19,
   "metadata": {},
   "outputs": [
    {
     "data": {
      "text/plain": [
       "[[6.1309921837, 23],\n",
       " [14.0067394982, 21],\n",
       " [18.4767350264, 28],\n",
       " [21.9281493025, 12],\n",
       " [21.9821944851, 22],\n",
       " [21.9821944851, 25],\n",
       " [21.9821944851, 40],\n",
       " [21.9821944851, 41],\n",
       " [21.9821944851, 42],\n",
       " [23.1330329819, 5],\n",
       " [23.4841827768, 37],\n",
       " [24.925458, 27],\n",
       " [24.9975, 6],\n",
       " [24.9975, 7],\n",
       " [24.9975, 20],\n",
       " [24.9975, 43],\n",
       " [24.9975, 46],\n",
       " [24.9975, 47],\n",
       " [28.2293873256, 14],\n",
       " [29.7071742621, 31],\n",
       " [29.8256387556, 4],\n",
       " [32.9245535962, 29],\n",
       " [43.1761503973, 16],\n",
       " [48.2701950941, 2],\n",
       " [95.4975, 24],\n",
       " [97.6509866151, 17],\n",
       " [100.0, 1],\n",
       " [100.0, 3],\n",
       " [100.0, 9],\n",
       " [100.0, 10],\n",
       " [100.0, 15],\n",
       " [100.0, 18],\n",
       " [100.0, 19],\n",
       " [100.0, 26],\n",
       " [100.0, 32],\n",
       " [100.0, 33],\n",
       " [100.0, 34],\n",
       " [100.0, 35],\n",
       " [100.0, 36],\n",
       " [100.0, 38],\n",
       " [100.0, 39],\n",
       " [100.0, 44],\n",
       " [100.0, 48],\n",
       " [100.0, 49],\n",
       " [225.4975, 30],\n",
       " [248.079298858, 45],\n",
       " [655.4975, 11],\n",
       " [907.748489394, 8],\n",
       " [5887158646.32, 13],\n",
       " [23220025622.6, 0]]"
      ]
     },
     "execution_count": 19,
     "metadata": {},
     "output_type": "execute_result"
    }
   ],
   "source": [
    "sorted(ges.fitness_list)\n"
   ]
  }
 ],
 "metadata": {
  "kernelspec": {
   "display_name": "py2",
   "language": "python",
   "name": "python3"
  },
  "language_info": {
   "codemirror_mode": {
    "name": "ipython",
    "version": 2
   },
   "file_extension": ".py",
   "mimetype": "text/x-python",
   "name": "python",
   "nbconvert_exporter": "python",
   "pygments_lexer": "ipython2",
   "version": "2.7.15"
  }
 },
 "nbformat": 4,
 "nbformat_minor": 2
}
