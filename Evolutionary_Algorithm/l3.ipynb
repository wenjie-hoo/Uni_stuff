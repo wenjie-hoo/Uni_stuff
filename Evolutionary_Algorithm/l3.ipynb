{
  "nbformat": 4,
  "nbformat_minor": 0,
  "metadata": {
    "colab": {
      "provenance": [],
      "authorship_tag": "ABX9TyNRo6gIFGYDuocYKjiHniS1"
    },
    "kernelspec": {
      "name": "python3",
      "display_name": "Python 3"
    },
    "language_info": {
      "name": "python"
    }
  },
  "cells": [
    {
      "cell_type": "code",
      "source": [
        "import numpy as np\n",
        "import pandas as pd\n",
        "import matplotlib.pyplot as plt\n"
      ],
      "metadata": {
        "id": "-Na14sperBjE"
      },
      "execution_count": null,
      "outputs": []
    },
    {
      "cell_type": "markdown",
      "source": [
        "#P1\n",
        "a) Implement the evolutionary strategies ES($μ$+$λ$) and ES($μ$,$λ$) discussed in the lecture."
      ],
      "metadata": {
        "id": "oANT_2N1mEBA"
      }
    },
    {
      "cell_type": "code",
      "execution_count": null,
      "metadata": {
        "id": "OR37WyBKlgkN"
      },
      "outputs": [],
      "source": []
    },
    {
      "cell_type": "code",
      "source": [],
      "metadata": {
        "id": "MRMBbQCDoci1"
      },
      "execution_count": null,
      "outputs": []
    },
    {
      "cell_type": "markdown",
      "source": [
        "b) Review popular benchmarks for global optimisation (http://wwwoptima.amp.i.kyoto-u.ac.jp/member/student/hedar/Hedar_files/TestGO.htm), both\n",
        "unconstrained and constrained optimisation problems.  \n",
        "Choose 5 benchmarks\n",
        "without constraints and use the implemented algorithms to solve them (among the selected benchmarks should include at least one of the following functions:\n",
        "Griewank Function, Rastrigin Function, Schwefel Function).  \n",
        "Carefully analyse the performance of the algorithm and the results obtained.  \n",
        "Check the different settings of the algorithm.\n",
        "Hint: We are interested in high-dimensional search spaces, i.e. the objective function should have many variables. \"Many\" here means from tens to hundreds. For lower dimensions, the problem often becomes too trivial and uninteresting."
      ],
      "metadata": {
        "id": "bnGfY0-knAjf"
      }
    },
    {
      "cell_type": "code",
      "source": [],
      "metadata": {
        "id": "4eHaZ0xiq5Wq"
      },
      "execution_count": null,
      "outputs": []
    },
    {
      "cell_type": "markdown",
      "source": [
        "#P2.  \n",
        "Adapt the implemented algorithms to solve optimisation problems with constraints (according to your own ideas). Choose 5 benchmarks with constraints and use the implemented algorithms to solve them. Carefully analyse the performance of the algorithm and the results obtained. Check the different settings of the algorithm.\n"
      ],
      "metadata": {
        "id": "6K88e0Snq5-C"
      }
    }
  ]
}