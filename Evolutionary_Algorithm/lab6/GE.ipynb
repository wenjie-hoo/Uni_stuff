{
 "cells": [
  {
   "cell_type": "code",
   "execution_count": 1,
   "metadata": {},
   "outputs": [],
   "source": [
    "from pyneurgen.grammatical_evolution import GrammaticalEvolution\n",
    "from pyneurgen.fitness import FitnessElites, FitnessTournament\n",
    "from pyneurgen.fitness import ReplacementTournament, MAX, MIN, CENTER"
   ]
  },
  {
   "cell_type": "code",
   "execution_count": 2,
   "metadata": {},
   "outputs": [],
   "source": [
    "bnf =   \"\"\"\n",
    "<expr>              ::= <expr> <biop> <expr> | <uop> <expr> | <real> |\n",
    "                        math.log(abs(<expr>)) | <pow> | math.sin(<expr>)|\n",
    "                        value | (<expr>)\n",
    "<biop>              ::= + | - | * | /\n",
    "<uop>               ::= + | -\n",
    "<pow>               ::= pow(<expr>, <real>)\n",
    "<plus>              ::= +\n",
    "<minus>             ::= -\n",
    "<real>              ::= <int-const>.<int-const>\n",
    "<int-const>         ::= <int-const> | 1 | 2 | 3 | 4 | 5 | 6 |\n",
    "                        7 | 8 | 9 | 0\n",
    "<S>                 ::=\n",
    "import math\n",
    "total = 0.0\n",
    "for i in xrange(100):\n",
    "    value = float(i) / float(100)\n",
    "    total += abs(<expr> - pow(value, 3))\n",
    "fitness = total\n",
    "self.set_bnf_variable('<fitness>', fitness)\n",
    "        \"\"\""
   ]
  },
  {
   "cell_type": "code",
   "execution_count": 3,
   "metadata": {},
   "outputs": [],
   "source": [
    "options = ['+', '-', '*', '/']\n",
    "codon = 73\n",
    "choice_number = codon % len(options)\n",
    "choice = options[choice_number]\n"
   ]
  },
  {
   "cell_type": "code",
   "execution_count": 4,
   "metadata": {},
   "outputs": [],
   "source": [
    "ges = GrammaticalEvolution()\n",
    "\n",
    "ges.set_bnf(bnf)\n",
    "ges.set_genotype_length(start_gene_length=20,\n",
    "                        max_gene_length=50)\n",
    "ges.set_population_size(50)\n",
    "ges.set_wrap(True)\n",
    "\n",
    "ges.set_max_generations(1000)\n",
    "ges.set_fitness_type(MIN, .01)\n",
    "\n",
    "ges.set_max_program_length(500)\n",
    "ges.set_timeouts(10, 120)\n",
    "ges.set_fitness_fail(100.0)\n",
    "\n",
    "ges.set_fitness_selections(\n",
    "    FitnessElites(ges.fitness_list, .05),\n",
    "    FitnessTournament(ges.fitness_list, tournament_size=2))\n",
    "ges.set_max_fitness_rate(.5)\n",
    "\n",
    "ges.set_mutation_rate(.025)\n",
    "ges.set_fitness_selections(\n",
    "    FitnessElites(ges.fitness_list, .05),\n",
    "    FitnessTournament(ges.fitness_list, tournament_size=2))\n",
    "ges.set_max_fitness_rate(.5)\n",
    "\n",
    "ges.set_crossover_rate(.2)\n",
    "ges.set_children_per_crossover(2)\n",
    "ges.set_mutation_type('m')\n",
    "ges.set_max_fitness_rate(.25)\n",
    "\n",
    "ges.set_replacement_selections(\n",
    "        ReplacementTournament(ges.fitness_list, tournament_size=3))\n",
    "\n",
    "ges.set_maintain_history(True)"
   ]
  },
  {
   "cell_type": "code",
   "execution_count": 5,
   "metadata": {},
   "outputs": [
    {
     "name": "stdout",
     "output_type": "stream",
     "text": [
      "1\n"
     ]
    }
   ],
   "source": [
    "ges.create_genotypes()\n",
    "print ges.run()\n"
   ]
  },
  {
   "cell_type": "code",
   "execution_count": 6,
   "metadata": {},
   "outputs": [
    {
     "data": {
      "text/plain": [
       "[[5.64032463313e-16, 1],\n",
       " [0.640942314743, 0],\n",
       " [0.640942314743, 2],\n",
       " [0.640942314743, 6],\n",
       " [0.640942314743, 19],\n",
       " [0.640942314743, 36],\n",
       " [1.47037991256, 3],\n",
       " [1.47037991256, 27],\n",
       " [1.47037991256, 35],\n",
       " [1.47037991256, 44],\n",
       " [1.61670225333, 16],\n",
       " [1.61670225333, 24],\n",
       " [1.61670225333, 31],\n",
       " [1.61670225333, 34],\n",
       " [1.61670225333, 41],\n",
       " [1.95633032882, 23],\n",
       " [1.95633032882, 25],\n",
       " [2.01120259981, 20],\n",
       " [2.01120259981, 42],\n",
       " [2.27239395441, 7],\n",
       " [2.27239395441, 8],\n",
       " [2.27239395441, 38],\n",
       " [2.40691201163, 17],\n",
       " [2.67359999889, 28],\n",
       " [4.19589986433, 4],\n",
       " [4.19589986433, 5],\n",
       " [4.19589986433, 26],\n",
       " [4.19589986433, 30],\n",
       " [4.19589986433, 49],\n",
       " [5.78569514115, 10],\n",
       " [5.78569514115, 43],\n",
       " [6.83119136497, 47],\n",
       " [6.83119136497, 48],\n",
       " [6.98069037252, 18],\n",
       " [20.7103426302, 39],\n",
       " [22.4248468551, 9],\n",
       " [27.6282251383, 21],\n",
       " [27.6282251383, 40],\n",
       " [28.7417163495, 29],\n",
       " [29.5600526817, 13],\n",
       " [53.4162648263, 32],\n",
       " [70.5386711467, 14],\n",
       " [100.0, 11],\n",
       " [100.0, 15],\n",
       " [100.0, 22],\n",
       " [100.0, 33],\n",
       " [100.0, 45],\n",
       " [100.0, 46],\n",
       " [9026.46429919, 12],\n",
       " [1.12898058283e+205, 37]]"
      ]
     },
     "execution_count": 6,
     "metadata": {},
     "output_type": "execute_result"
    }
   ],
   "source": [
    "sorted(ges.fitness_list)\n"
   ]
  }
 ],
 "metadata": {
  "kernelspec": {
   "display_name": "py2",
   "language": "python",
   "name": "python3"
  },
  "language_info": {
   "codemirror_mode": {
    "name": "ipython",
    "version": 2
   },
   "file_extension": ".py",
   "mimetype": "text/x-python",
   "name": "python",
   "nbconvert_exporter": "python",
   "pygments_lexer": "ipython2",
   "version": "2.7.15"
  }
 },
 "nbformat": 4,
 "nbformat_minor": 2
}
