{
  "cells": [
    {
      "cell_type": "markdown",
      "metadata": {
        "id": "1dhs7ufxeM_6"
      },
      "source": [
        "<a href=\"https://colab.research.google.com/github/marekpiotradamczyk/ml_uwr_22/blob/main/Assignments/Assignment1.ipynb\" target=\"_parent\"><img src=\"https://colab.research.google.com/assets/colab-badge.svg\" alt=\"Open In Colab\"/></a>"
      ]
    },
    {
      "cell_type": "markdown",
      "metadata": {
        "id": "P7IFJ5_Y33-8"
      },
      "source": [
        "# Lab Assignment 1\n"
      ]
    },
    {
      "cell_type": "markdown",
      "metadata": {
        "id": "goqGXGZT2DKK"
      },
      "source": [
        "## Important notes"
      ]
    },
    {
      "cell_type": "markdown",
      "metadata": {
        "id": "-3FKET1A2GRK"
      },
      "source": [
        "**Submission deadline:**\n",
        "** lab session in the week of 10-14 of October 22**\n",
        "\n",
        "**Points: 4**\n",
        "\n",
        "Please note: some of the assignments are tedious or boring if you are already a NumPy ninja. The bonus problems were designed to give you a more satisfying alternative.\n",
        "\n",
        "The assignment is in the form of a Jupyter notebook. We will be using [Google Colab](https://colab.research.google.com) to solve it. Below you will find a \"Setup\" section. Follow instructions from this paragraph to download the notebook and open it using [Google Colab](https://colab.research.google.com). \n",
        "\n",
        "Your goal is to solve problems posted below. Whenever possible, add your solutions to the notebook.\n",
        "\n",
        "Please email us about any problems with it - we will try to correct them quickly. Also, please do not hesitate to use GitHub’s pull requests to send us corrections!"
      ]
    },
    {
      "cell_type": "markdown",
      "metadata": {
        "id": "1CMDOrsc2K-K"
      },
      "source": [
        "## Setup"
      ]
    },
    {
      "cell_type": "markdown",
      "metadata": {
        "id": "tNjavUUC7yuM"
      },
      "source": [
        "### 1. Open the notebook using Google Colab\n",
        "\n",
        "1. From Github: Click on \"View in Colaboratory\", then save to your Google Drive.\n",
        "2. Alternatively upload manually to Drive:\n",
        "  1. Download the notebook or clone https://github.com/marekpiotradamczyk/ml_uwr_22/.\n",
        "  2. Go to  [Google Colab](https://colab.research.google.com).\n",
        "  3. Go to \"UPLOAD\" tab and select a local copy of the notebook that you downloaded in point 1.\n",
        "  \n",
        "Colab Tips:\n",
        "1. Set tab width to 4 spaces under `Tools` → `Preferences`.\n",
        "  \n",
        "### 2. Open the notebook offline using Jupyter/IPython\n",
        "\n",
        "This notebook can be opened using Jupyter notebook. Simply install a scientific Python distribution on your computer (e.g. [Anaconda](https://www.anaconda.com/) or [WinPython](http://winpython.github.io/)), clone the repository https://github.com/marekpiotradamczyk/ml_uwr_22/ and run `jupyter notebook`."
      ]
    },
    {
      "cell_type": "markdown",
      "metadata": {
        "id": "zq_ZRu87C_OC"
      },
      "source": [
        "###   3. Install required dependencies, download data and import packages\n",
        "\n",
        "Run cells below. To run a cell either click it and click a run button or press \"shift + enter\"\n"
      ]
    },
    {
      "cell_type": "code",
      "execution_count": null,
      "metadata": {
        "id": "YxzWq6iO2KPm"
      },
      "outputs": [],
      "source": [
        "# Standard IPython notebook imports\n",
        "%matplotlib inline\n",
        "\n",
        "import os\n",
        "\n",
        "import httpimport\n",
        "import matplotlib.pyplot as plt\n",
        "import numpy as np\n",
        "import math\n",
        "import pandas as pd\n",
        "from tqdm.auto import tqdm\n",
        "import scipy.stats as sstats\n",
        "\n",
        "import seaborn as sns\n",
        "from sklearn import datasets\n",
        "\n",
        "# In this way we can import functions straight from github\n",
        "with httpimport.github_repo('janchorowski', 'nn_assignments', \n",
        "                            module='common', branch='nn18'):\n",
        "     from common.plotting import plot_mat\n",
        "\n",
        "sns.set_style('whitegrid')"
      ]
    },
    {
      "cell_type": "markdown",
      "metadata": {
        "id": "AfmjDoxi6JNA"
      },
      "source": [
        "### 4. Follow the notebook and solve problems posted below"
      ]
    },
    {
      "cell_type": "markdown",
      "metadata": {
        "id": "3hr81V8T8ccB"
      },
      "source": [
        "## Problems"
      ]
    },
    {
      "cell_type": "markdown",
      "metadata": {
        "id": "0eT1x_VG33_E"
      },
      "source": [
        "### Problem 0 [0p]\n",
        "\n",
        " \n",
        "1. To learn more about Jupyter,  read [Jupyter tutorial from Data Analysis in Biological Sciences course at Caltech](http://bebi103.caltech.edu/2015/tutorials/t0b_intro_to_jupyter_notebooks.html) (which itself can be downloaded as a Jupyter notebook). Feel free to skip the tutorial if you have some prior experience with Jupyter notebook.\n",
        "2. To learn more about basic Google Colab features, go to [Google Colab](https://colab.research.google.com) and select \"Overview of Colaboratory Features\" in \"EXAMPLES\" tab. To learn more about / set up useful keyboard shortcuts (e.g. to add a new cell without clicking \"\"+ code\"), go to \"Tools --> Keyboard shortcuts\""
      ]
    },
    {
      "cell_type": "markdown",
      "metadata": {
        "id": "AsOC0voR33_F"
      },
      "source": [
        "### Problem 1: NumPy [2p]\n",
        "\n",
        "First, get familiar with Python at https://docs.python.org/3/tutorial/. Then, get\n",
        "to know the capabilities of NumPy, the prime numerical library of Python http://www.numpy.org/, for instance with the tutorial at https://numpy.org/doc/stable/user/quickstart.html. Finally, look into Pandas at https://pandas.pydata.org/pandas-docs/stable/getting_started/tutorials.html.\n",
        "\n",
        "You might also need:\n",
        "  1. another intro to NumPy,\n",
        "http://people.duke.edu/~ccc14/pcfb/numerics.html\n",
        "  2. a better interactive shell for Python\n",
        "http://ipython.org/\n",
        "  3. a plotting library for Python\n",
        "http://matplotlib.org/\n",
        "  4. nice statistical plots for matplotlib https://seaborn.pydata.org/."
      ]
    },
    {
      "cell_type": "markdown",
      "metadata": {
        "id": "2ijCVw7reGbm"
      },
      "source": [
        "\n",
        "**a) Declare variables:**\n",
        "1. $a=10$,\n",
        "2. $b=2.5\\times 10^{23}$,\n",
        "3. $c=2+3i$, where $i$ is an imaginary unit,\n",
        "4. $d=e^{i2\\pi/3}$, where $i$ is an imaginary unit, $e$ is the Euler's number (use `exp`, `pi`)."
      ]
    },
    {
      "cell_type": "code",
      "execution_count": null,
      "metadata": {
        "id": "8sd7jJhd33_G"
      },
      "outputs": [],
      "source": [
        "# TODO: Complete the declarations\n",
        "a = 10\n",
        "b = 2.5e13\n",
        "c = complex(2,3)\n",
        "d = math.exp(math.pi * 2/3)"
      ]
    },
    {
      "cell_type": "code",
      "execution_count": null,
      "metadata": {
        "colab": {
          "base_uri": "https://localhost:8080/"
        },
        "id": "rkcZd2zwkYex",
        "outputId": "d49995f4-4339-42f2-ec81-662ac119e8f5"
      },
      "outputs": [
        {
          "output_type": "execute_result",
          "data": {
            "text/plain": [
              "10"
            ]
          },
          "metadata": {},
          "execution_count": 4
        }
      ],
      "source": [
        "a"
      ]
    },
    {
      "cell_type": "code",
      "execution_count": null,
      "metadata": {
        "colab": {
          "base_uri": "https://localhost:8080/"
        },
        "id": "vtOYakgbkZk3",
        "outputId": "599cd675-fa27-4d1b-9b9a-1f03ae8b296f"
      },
      "outputs": [
        {
          "output_type": "execute_result",
          "data": {
            "text/plain": [
              "25000000000000.0"
            ]
          },
          "metadata": {},
          "execution_count": 5
        }
      ],
      "source": [
        "b"
      ]
    },
    {
      "cell_type": "code",
      "source": [
        "c"
      ],
      "metadata": {
        "colab": {
          "base_uri": "https://localhost:8080/"
        },
        "id": "7rnka-oKq6yl",
        "outputId": "3aeb4760-62ea-4103-b606-c57e4ea00123"
      },
      "execution_count": null,
      "outputs": [
        {
          "output_type": "execute_result",
          "data": {
            "text/plain": [
              "(2+3j)"
            ]
          },
          "metadata": {},
          "execution_count": 6
        }
      ]
    },
    {
      "cell_type": "code",
      "execution_count": null,
      "metadata": {
        "colab": {
          "base_uri": "https://localhost:8080/"
        },
        "id": "jKq-al0dkaon",
        "outputId": "57fb31e0-44ce-4052-f7e7-12cdedef2642"
      },
      "outputs": [
        {
          "output_type": "execute_result",
          "data": {
            "text/plain": [
              "8.120527396669775"
            ]
          },
          "metadata": {},
          "execution_count": 15
        }
      ],
      "source": [
        "d"
      ]
    },
    {
      "cell_type": "markdown",
      "metadata": {
        "id": "bP0hAHvN33_K"
      },
      "source": [
        "**b) Declare vectors:**\n",
        "1. $\\texttt{aVec}=\\begin{bmatrix} 3.14 & 15 & 9 & 26 \\end{bmatrix}$,\n",
        "2. $\\texttt{bVec}=\\begin{bmatrix} 5 & 4.8 & \\cdots & -4.8 & -5 \\end{bmatrix}$ (vector of numbers from $5$ to $-5$ decreasing by $0.2$),\n",
        "3. $\\texttt{cVec}=\\begin{bmatrix} 10^0 & 10^{0.01} & \\cdots & 10^{0.99} & 10^1 \\end{bmatrix}$ (logarithmically spaced numbers from 1 to 10, use `logspace` and make sure, that the result has correct length!),\n",
        "4. $\\texttt{dVec}=\\mbox{Hello}$ (here $\\texttt{eVec}$ is a string of characters, thus a vector)."
      ]
    },
    {
      "cell_type": "code",
      "execution_count": null,
      "metadata": {
        "id": "37RmkuW533_L"
      },
      "outputs": [],
      "source": [
        "aVec = np.array([3.14, 15, 9, 26])\n",
        "bVec = np.arange(-5,5.2,0.2)\n",
        "cVec = np.array([10 ** (i/100) for i in range(0,101,1)])\n",
        "dVec = [i for i in 'Hello']\n"
      ]
    },
    {
      "cell_type": "code",
      "execution_count": null,
      "metadata": {
        "colab": {
          "base_uri": "https://localhost:8080/"
        },
        "id": "VjHSMeoWkjcH",
        "outputId": "3cad345a-fe08-4c10-89ce-cba4e1420f2c"
      },
      "outputs": [
        {
          "output_type": "execute_result",
          "data": {
            "text/plain": [
              "array([ 3.14, 15.  ,  9.  , 26.  ])"
            ]
          },
          "metadata": {},
          "execution_count": 24
        }
      ],
      "source": [
        "aVec"
      ]
    },
    {
      "cell_type": "code",
      "execution_count": null,
      "metadata": {
        "colab": {
          "base_uri": "https://localhost:8080/"
        },
        "id": "VYFD1KE3kmOR",
        "outputId": "d8608833-b8aa-4e9b-a405-f154987ae440"
      },
      "outputs": [
        {
          "output_type": "execute_result",
          "data": {
            "text/plain": [
              "array([-5.0000000e+00, -4.8000000e+00, -4.6000000e+00, -4.4000000e+00,\n",
              "       -4.2000000e+00, -4.0000000e+00, -3.8000000e+00, -3.6000000e+00,\n",
              "       -3.4000000e+00, -3.2000000e+00, -3.0000000e+00, -2.8000000e+00,\n",
              "       -2.6000000e+00, -2.4000000e+00, -2.2000000e+00, -2.0000000e+00,\n",
              "       -1.8000000e+00, -1.6000000e+00, -1.4000000e+00, -1.2000000e+00,\n",
              "       -1.0000000e+00, -8.0000000e-01, -6.0000000e-01, -4.0000000e-01,\n",
              "       -2.0000000e-01,  4.4408921e-15,  2.0000000e-01,  4.0000000e-01,\n",
              "        6.0000000e-01,  8.0000000e-01,  1.0000000e+00,  1.2000000e+00,\n",
              "        1.4000000e+00,  1.6000000e+00,  1.8000000e+00,  2.0000000e+00,\n",
              "        2.2000000e+00,  2.4000000e+00,  2.6000000e+00,  2.8000000e+00,\n",
              "        3.0000000e+00,  3.2000000e+00,  3.4000000e+00,  3.6000000e+00,\n",
              "        3.8000000e+00,  4.0000000e+00,  4.2000000e+00,  4.4000000e+00,\n",
              "        4.6000000e+00,  4.8000000e+00,  5.0000000e+00])"
            ]
          },
          "metadata": {},
          "execution_count": 25
        }
      ],
      "source": [
        "bVec"
      ]
    },
    {
      "cell_type": "code",
      "execution_count": null,
      "metadata": {
        "colab": {
          "base_uri": "https://localhost:8080/"
        },
        "id": "C85Hk8XWkmQ9",
        "outputId": "634c4aaf-4263-415d-9eb7-2ea113c34e41"
      },
      "outputs": [
        {
          "output_type": "execute_result",
          "data": {
            "text/plain": [
              "array([ 1.        ,  1.02329299,  1.04712855,  1.07151931,  1.0964782 ,\n",
              "        1.12201845,  1.14815362,  1.17489755,  1.20226443,  1.23026877,\n",
              "        1.25892541,  1.28824955,  1.31825674,  1.34896288,  1.38038426,\n",
              "        1.41253754,  1.44543977,  1.47910839,  1.51356125,  1.54881662,\n",
              "        1.58489319,  1.6218101 ,  1.65958691,  1.69824365,  1.73780083,\n",
              "        1.77827941,  1.81970086,  1.86208714,  1.90546072,  1.9498446 ,\n",
              "        1.99526231,  2.04173794,  2.08929613,  2.13796209,  2.18776162,\n",
              "        2.23872114,  2.29086765,  2.34422882,  2.39883292,  2.45470892,\n",
              "        2.51188643,  2.57039578,  2.63026799,  2.6915348 ,  2.7542287 ,\n",
              "        2.81838293,  2.8840315 ,  2.95120923,  3.01995172,  3.09029543,\n",
              "        3.16227766,  3.23593657,  3.31131121,  3.38844156,  3.4673685 ,\n",
              "        3.54813389,  3.63078055,  3.71535229,  3.80189396,  3.89045145,\n",
              "        3.98107171,  4.07380278,  4.16869383,  4.26579519,  4.36515832,\n",
              "        4.46683592,  4.5708819 ,  4.67735141,  4.78630092,  4.89778819,\n",
              "        5.01187234,  5.12861384,  5.2480746 ,  5.37031796,  5.49540874,\n",
              "        5.62341325,  5.75439937,  5.88843655,  6.02559586,  6.16595002,\n",
              "        6.30957344,  6.45654229,  6.60693448,  6.76082975,  6.91830971,\n",
              "        7.07945784,  7.2443596 ,  7.41310241,  7.58577575,  7.76247117,\n",
              "        7.94328235,  8.12830516,  8.31763771,  8.51138038,  8.7096359 ,\n",
              "        8.91250938,  9.12010839,  9.33254301,  9.54992586,  9.77237221,\n",
              "       10.        ])"
            ]
          },
          "metadata": {},
          "execution_count": 63
        }
      ],
      "source": [
        "cVec"
      ]
    },
    {
      "cell_type": "code",
      "execution_count": null,
      "metadata": {
        "colab": {
          "base_uri": "https://localhost:8080/"
        },
        "id": "QdLJNggCkmTi",
        "outputId": "03c96ea6-8fbd-485c-cd0e-b3205ab66958"
      },
      "outputs": [
        {
          "output_type": "execute_result",
          "data": {
            "text/plain": [
              "['H', 'e', 'l', 'l', 'o']"
            ]
          },
          "metadata": {},
          "execution_count": 70
        }
      ],
      "source": [
        "assert dVec[4] == 'o'\n",
        "dVec"
      ]
    },
    {
      "cell_type": "markdown",
      "metadata": {
        "id": "C58YJtEU33_O"
      },
      "source": [
        "**c) Declare matrices:**\n",
        "1. matrix $9\\times 9$ filled with 2s (use `ones` or `zeros`):\n",
        "    \\begin{equation}\n",
        "    \\texttt{aMat}=\n",
        "          \\begin{bmatrix}\n",
        "                    2      & \\cdots & 2 \\\\\n",
        "                    \\vdots & \\ddots & \\vdots \\\\\n",
        "                    2      & \\cdots & 2\n",
        "          \\end{bmatrix},\n",
        "    \\end{equation}\n",
        "    \n",
        "    \n",
        "2. matrix $9\\times 9$ filled with zeros, with $[ 1, 2, 3, 4, 5, 4, 3, 2, 1]$ on its diagonal (use `zeros`, `diag`):\n",
        "\n",
        "    \\begin{equation}\\texttt{bMat}=\\begin{bmatrix}\n",
        "                    1      & 0      & \\cdots &        & 0      \\\\\n",
        "                    0      & \\ddots & 0      &        & 0      \\\\\n",
        "                    \\vdots & 0      & 5      & 0      & \\vdots \\\\\n",
        "                           &        & 0      & \\ddots & 0      \\\\\n",
        "                    0      &        & \\cdots & 0      & 1\n",
        "                \\end{bmatrix},\\end{equation}\n",
        "    \n",
        "  \n",
        "3.  matrix $10\\times 10$, columns of which form the vector $1:100$ (use `reshape`):\n",
        "\\begin{equation}\\texttt{cMat}=\\begin{bmatrix}\n",
        "                    1      & 11     & \\cdots & 91     \\\\\n",
        "                    2      & 12     & \\cdots & 92     \\\\\n",
        "                    \\vdots & \\vdots & \\ddots & \\vdots \\\\\n",
        "                    10     & 20     & \\cdots & 100\n",
        "                \\end{bmatrix},\\end{equation}\n",
        "    \n",
        "\n",
        "4. matrix $3\\times 4$ filled with `NaN`s (use... `NaN`):\n",
        "\\begin{equation}\\texttt{dMat}=\\begin{bmatrix}\n",
        "                    \\texttt{NaN} & \\texttt{NaN} & \\texttt{NaN} & \\texttt{NaN} \\\\\n",
        "                    \\texttt{NaN} & \\texttt{NaN} & \\texttt{NaN} & \\texttt{NaN} \\\\\n",
        "                    \\texttt{NaN} & \\texttt{NaN} & \\texttt{NaN} & \\texttt{NaN}\n",
        "                \\end{bmatrix},\\end{equation}\n",
        "    \n",
        "    \n",
        "5. simple matrix like that:\n",
        "\\begin{equation}\\texttt{eMat}=\\begin{bmatrix}\n",
        "                    13  & -1  & 5  \\\\\n",
        "                    -22 & 10  & -87\n",
        "                \\end{bmatrix},\\end{equation}\n",
        "\n",
        "6. $\\texttt{fMat}$ of shape $3\\times 3$ filled with random natural numbers from $[-3,3]$ (use `rand` and `floor` or `ceil`)."
      ]
    },
    {
      "cell_type": "code",
      "execution_count": null,
      "metadata": {
        "id": "Bdd1oUeI33_P"
      },
      "outputs": [],
      "source": [
        "aMat = np.ones((9,9))*2\n",
        "bMat = np.zeros((9,9))\n",
        "np.fill_diagonal(bMat, [1,2,3,4,5,4,3,2,1]) \n",
        "cMat = np.transpose(np.arange(1,101,1).reshape((10,10)))\n",
        "dMat = np.full([3, 4], np.nan)\n",
        "eMat = np.matrix([[13, -1, 5], [-22, 10, -87]])\n",
        "fMat = np.random.randint(-3,3,size=(3,3))\n"
      ]
    },
    {
      "cell_type": "code",
      "source": [],
      "metadata": {
        "id": "tSqX1XS58mbB"
      },
      "execution_count": null,
      "outputs": []
    },
    {
      "cell_type": "code",
      "execution_count": null,
      "metadata": {
        "colab": {
          "base_uri": "https://localhost:8080/"
        },
        "id": "gKo6bWdNkv3a",
        "outputId": "c7de6a51-1fbb-4453-9e86-8257ef4b0b92"
      },
      "outputs": [
        {
          "output_type": "execute_result",
          "data": {
            "text/plain": [
              "array([[2., 2., 2., 2., 2., 2., 2., 2., 2.],\n",
              "       [2., 2., 2., 2., 2., 2., 2., 2., 2.],\n",
              "       [2., 2., 2., 2., 2., 2., 2., 2., 2.],\n",
              "       [2., 2., 2., 2., 2., 2., 2., 2., 2.],\n",
              "       [2., 2., 2., 2., 2., 2., 2., 2., 2.],\n",
              "       [2., 2., 2., 2., 2., 2., 2., 2., 2.],\n",
              "       [2., 2., 2., 2., 2., 2., 2., 2., 2.],\n",
              "       [2., 2., 2., 2., 2., 2., 2., 2., 2.],\n",
              "       [2., 2., 2., 2., 2., 2., 2., 2., 2.]])"
            ]
          },
          "metadata": {},
          "execution_count": 38
        }
      ],
      "source": [
        "aMat"
      ]
    },
    {
      "cell_type": "code",
      "execution_count": null,
      "metadata": {
        "colab": {
          "base_uri": "https://localhost:8080/"
        },
        "id": "Oz68aa9bkxKW",
        "outputId": "1fb8e23c-7b9c-4f65-9be6-21b18f60f689"
      },
      "outputs": [
        {
          "output_type": "execute_result",
          "data": {
            "text/plain": [
              "array([[1., 0., 0., 0., 0., 0., 0., 0., 0.],\n",
              "       [0., 2., 0., 0., 0., 0., 0., 0., 0.],\n",
              "       [0., 0., 3., 0., 0., 0., 0., 0., 0.],\n",
              "       [0., 0., 0., 4., 0., 0., 0., 0., 0.],\n",
              "       [0., 0., 0., 0., 5., 0., 0., 0., 0.],\n",
              "       [0., 0., 0., 0., 0., 4., 0., 0., 0.],\n",
              "       [0., 0., 0., 0., 0., 0., 3., 0., 0.],\n",
              "       [0., 0., 0., 0., 0., 0., 0., 2., 0.],\n",
              "       [0., 0., 0., 0., 0., 0., 0., 0., 1.]])"
            ]
          },
          "metadata": {},
          "execution_count": 45
        }
      ],
      "source": [
        "bMat"
      ]
    },
    {
      "cell_type": "code",
      "execution_count": null,
      "metadata": {
        "colab": {
          "base_uri": "https://localhost:8080/"
        },
        "id": "XB2_vu-2kyIf",
        "outputId": "c91d9158-73f0-46d7-90ae-7f53f243fd18"
      },
      "outputs": [
        {
          "output_type": "execute_result",
          "data": {
            "text/plain": [
              "array([[  1,  11,  21,  31,  41,  51,  61,  71,  81,  91],\n",
              "       [  2,  12,  22,  32,  42,  52,  62,  72,  82,  92],\n",
              "       [  3,  13,  23,  33,  43,  53,  63,  73,  83,  93],\n",
              "       [  4,  14,  24,  34,  44,  54,  64,  74,  84,  94],\n",
              "       [  5,  15,  25,  35,  45,  55,  65,  75,  85,  95],\n",
              "       [  6,  16,  26,  36,  46,  56,  66,  76,  86,  96],\n",
              "       [  7,  17,  27,  37,  47,  57,  67,  77,  87,  97],\n",
              "       [  8,  18,  28,  38,  48,  58,  68,  78,  88,  98],\n",
              "       [  9,  19,  29,  39,  49,  59,  69,  79,  89,  99],\n",
              "       [ 10,  20,  30,  40,  50,  60,  70,  80,  90, 100]])"
            ]
          },
          "metadata": {},
          "execution_count": 51
        }
      ],
      "source": [
        "cMat"
      ]
    },
    {
      "cell_type": "code",
      "execution_count": null,
      "metadata": {
        "colab": {
          "base_uri": "https://localhost:8080/"
        },
        "id": "QoJ2ftGmkzJP",
        "outputId": "2dade188-a2f5-4d4f-ceee-c46a852f814e"
      },
      "outputs": [
        {
          "output_type": "execute_result",
          "data": {
            "text/plain": [
              "array([[nan, nan, nan, nan],\n",
              "       [nan, nan, nan, nan],\n",
              "       [nan, nan, nan, nan]])"
            ]
          },
          "metadata": {},
          "execution_count": 55
        }
      ],
      "source": [
        "dMat"
      ]
    },
    {
      "cell_type": "code",
      "execution_count": null,
      "metadata": {
        "colab": {
          "base_uri": "https://localhost:8080/"
        },
        "id": "bd3NVa7Ykz_H",
        "outputId": "7762d9de-cfa6-4b4c-d24b-e7ec00307a14"
      },
      "outputs": [
        {
          "output_type": "execute_result",
          "data": {
            "text/plain": [
              "matrix([[ 12,  -1,   5],\n",
              "        [-22,  10, -87]])"
            ]
          },
          "metadata": {},
          "execution_count": 57
        }
      ],
      "source": [
        "eMat"
      ]
    },
    {
      "cell_type": "code",
      "execution_count": null,
      "metadata": {
        "colab": {
          "base_uri": "https://localhost:8080/"
        },
        "id": "WmWZ4J1Bk03n",
        "outputId": "cba42096-c42b-4a9b-a59d-ab4a8ae31705"
      },
      "outputs": [
        {
          "output_type": "execute_result",
          "data": {
            "text/plain": [
              "array([[-2, -2,  1],\n",
              "       [ 2, -3, -1],\n",
              "       [-3, -1, -2]])"
            ]
          },
          "metadata": {},
          "execution_count": 62
        }
      ],
      "source": [
        "fMat"
      ]
    },
    {
      "cell_type": "markdown",
      "metadata": {
        "id": "DqtKQi1Q33_T"
      },
      "source": [
        "**d) Declare a multiplication table**\n",
        "as a $10\\times 10$ matrix `mulMat`. Use matrix/vector multiplication."
      ]
    },
    {
      "cell_type": "code",
      "execution_count": null,
      "metadata": {
        "id": "OWqHq-vK33_U"
      },
      "outputs": [],
      "source": [
        "l = np.array([i for i in range(0,10)])\n",
        "mulMat = np.matmul(l.reshape((10,1)), l.reshape((1,10)))"
      ]
    },
    {
      "cell_type": "code",
      "execution_count": null,
      "metadata": {
        "colab": {
          "base_uri": "https://localhost:8080/"
        },
        "id": "ignmsY2beNAL",
        "outputId": "d479efde-e382-4ef6-fee3-2b3a10a192c2"
      },
      "outputs": [
        {
          "output_type": "execute_result",
          "data": {
            "text/plain": [
              "array([[ 0,  0,  0,  0,  0,  0,  0,  0,  0,  0],\n",
              "       [ 0,  1,  2,  3,  4,  5,  6,  7,  8,  9],\n",
              "       [ 0,  2,  4,  6,  8, 10, 12, 14, 16, 18],\n",
              "       [ 0,  3,  6,  9, 12, 15, 18, 21, 24, 27],\n",
              "       [ 0,  4,  8, 12, 16, 20, 24, 28, 32, 36],\n",
              "       [ 0,  5, 10, 15, 20, 25, 30, 35, 40, 45],\n",
              "       [ 0,  6, 12, 18, 24, 30, 36, 42, 48, 54],\n",
              "       [ 0,  7, 14, 21, 28, 35, 42, 49, 56, 63],\n",
              "       [ 0,  8, 16, 24, 32, 40, 48, 56, 64, 72],\n",
              "       [ 0,  9, 18, 27, 36, 45, 54, 63, 72, 81]])"
            ]
          },
          "metadata": {},
          "execution_count": 67
        }
      ],
      "source": [
        "mulMat"
      ]
    },
    {
      "cell_type": "markdown",
      "metadata": {
        "id": "0xIm6lT133_Y"
      },
      "source": [
        "**e) Compute element-wise using values from b).**\n",
        "\n",
        "For instance, the first element of $\\texttt{xVec}[0]$ should be equal to\n",
        "\n",
        "\\begin{equation}\n",
        "\\frac{1}{\\sqrt{2\\pi \\cdot 2.5^2}} e^{-\\texttt{cVec}[0]^2 / (2\\pi \\cdot2.5^2)}.\n",
        "\\end{equation}\n",
        "\n",
        "1. $\\texttt{xVec}=\\frac{1}{\\sqrt{2\\pi \\cdot 2.5^2}} e^{-\\texttt{cVec}^2 / (2\\cdot\\pi 2.5^2)}$\n",
        "2. $\\texttt{yVec}=\\log_{10}(1/\\texttt{cVec})$, using `log10`"
      ]
    },
    {
      "cell_type": "code",
      "execution_count": null,
      "metadata": {
        "id": "LtH-kSU733_Z"
      },
      "outputs": [],
      "source": [
        "cVec = np.array([10 ** (i/100) for i in range(0,101,1)])\n",
        "# xVec = \n",
        "yVec = np.array([math.log10(1/(10 ** (i/100))) for i in range(0,101,1)])"
      ]
    },
    {
      "cell_type": "code",
      "execution_count": null,
      "metadata": {
        "id": "3F5XzQ7xeNAM",
        "outputId": "5db46ead-b114-466b-ce7c-a619f9dcf2c1"
      },
      "outputs": [
        {
          "data": {
            "text/plain": [
              "array([1.49491221e-03, 1.42609357e-03, 1.35742468e-03, 1.28906076e-03,\n",
              "       1.22116223e-03, 1.15389373e-03, 1.08742307e-03, 1.02192001e-03,\n",
              "       9.57554838e-04, 8.94496969e-04, 8.32913313e-04, 7.72966612e-04,\n",
              "       7.14813689e-04, 6.58603645e-04, 6.04476047e-04, 5.52559129e-04,\n",
              "       5.02968041e-04, 4.55803201e-04, 4.11148766e-04, 3.69071298e-04,\n",
              "       3.29618634e-04, 2.92819029e-04, 2.58680591e-04, 2.27191042e-04,\n",
              "       1.98317849e-04, 1.72008708e-04, 1.48192418e-04, 1.26780121e-04,\n",
              "       1.07666901e-04, 9.07336961e-05, 7.58494957e-05, 6.28737613e-05,\n",
              "       5.16590005e-05, 4.20534264e-05, 3.39036216e-05, 2.70571265e-05,\n",
              "       2.13648738e-05, 1.66833968e-05, 1.28767504e-05, 9.81809294e-06,\n",
              "       7.39089855e-06, 5.48978055e-06, 4.02092933e-06, 2.90218285e-06,\n",
              "       2.06276437e-06, 1.44273471e-06, 9.92215509e-07, 6.70445316e-07,\n",
              "       4.44731019e-07, 2.89354385e-07, 1.84486823e-07, 1.15156556e-07,\n",
              "       7.03017070e-08, 4.19316884e-08, 2.44085552e-08, 1.38505359e-08,\n",
              "       7.65233367e-09, 4.11128403e-09, 2.14508748e-09, 1.08541842e-09,\n",
              "       5.31871222e-10, 2.52008860e-10, 1.15275514e-10, 5.08217664e-11,\n",
              "       2.15575508e-11, 8.78205268e-12, 3.42935437e-12, 1.28109743e-12,\n",
              "       4.56876024e-13, 1.55206953e-13, 5.01101852e-14, 1.53391546e-14,\n",
              "       4.44065357e-15, 1.21260819e-15, 3.11477366e-16, 7.50434498e-17,\n",
              "       1.69070675e-17, 3.55074995e-18, 6.92836251e-19, 1.25168337e-19,\n",
              "       2.08610149e-20, 3.19523555e-21, 4.47990135e-22, 5.72561738e-23,\n",
              "       6.64154890e-24, 6.96025538e-25, 6.55860939e-26, 5.52908494e-27,\n",
              "       4.14831022e-28, 2.75473512e-29, 1.60983316e-30, 8.22921296e-32,\n",
              "       3.65656134e-33, 1.40299517e-34, 4.61641324e-36, 1.29322251e-37,\n",
              "       3.06103692e-39, 6.07354237e-41, 1.00180380e-42, 1.36178685e-44,\n",
              "       1.51168736e-46])"
            ]
          },
          "execution_count": 22,
          "metadata": {},
          "output_type": "execute_result"
        }
      ],
      "source": [
        "# xVec"
      ]
    },
    {
      "cell_type": "code",
      "execution_count": null,
      "metadata": {
        "colab": {
          "base_uri": "https://localhost:8080/"
        },
        "id": "BezGmB59eNAM",
        "outputId": "849b5593-d084-4dc4-f9ef-67815bc2380b"
      },
      "outputs": [
        {
          "output_type": "execute_result",
          "data": {
            "text/plain": [
              "array([ 0.  , -0.01, -0.02, -0.03, -0.04, -0.05, -0.06, -0.07, -0.08,\n",
              "       -0.09, -0.1 , -0.11, -0.12, -0.13, -0.14, -0.15, -0.16, -0.17,\n",
              "       -0.18, -0.19, -0.2 , -0.21, -0.22, -0.23, -0.24, -0.25, -0.26,\n",
              "       -0.27, -0.28, -0.29, -0.3 , -0.31, -0.32, -0.33, -0.34, -0.35,\n",
              "       -0.36, -0.37, -0.38, -0.39, -0.4 , -0.41, -0.42, -0.43, -0.44,\n",
              "       -0.45, -0.46, -0.47, -0.48, -0.49, -0.5 , -0.51, -0.52, -0.53,\n",
              "       -0.54, -0.55, -0.56, -0.57, -0.58, -0.59, -0.6 , -0.61, -0.62,\n",
              "       -0.63, -0.64, -0.65, -0.66, -0.67, -0.68, -0.69, -0.7 , -0.71,\n",
              "       -0.72, -0.73, -0.74, -0.75, -0.76, -0.77, -0.78, -0.79, -0.8 ,\n",
              "       -0.81, -0.82, -0.83, -0.84, -0.85, -0.86, -0.87, -0.88, -0.89,\n",
              "       -0.9 , -0.91, -0.92, -0.93, -0.94, -0.95, -0.96, -0.97, -0.98,\n",
              "       -0.99, -1.  ])"
            ]
          },
          "metadata": {},
          "execution_count": 81
        }
      ],
      "source": [
        "yVec"
      ]
    },
    {
      "cell_type": "markdown",
      "metadata": {
        "id": "EBhf74F_33_d"
      },
      "source": [
        "**f) Compute with matrix/vector operations.**\n",
        "\n",
        "**NOTE:** Every multiplication  in this subtask is a [matrix multiplication](https://en.wikipedia.org/wiki/Matrix_multiplication).\n",
        "1. $\\texttt{xMat}=[0,  1, ..., 6][0, 10, 20, ..., 60]^T$,\n",
        "2. $\\texttt{yMat}=[0, 10, 20, ..., 60]^T[0,  1, ..., 6]$\n",
        "<br/>\n",
        "(remember, that matrix multiplication is not commutative)."
      ]
    },
    {
      "cell_type": "code",
      "source": [],
      "metadata": {
        "id": "nfxYIX_7Ikr8"
      },
      "execution_count": null,
      "outputs": []
    },
    {
      "cell_type": "code",
      "execution_count": null,
      "metadata": {
        "id": "UjdLR34u33_e"
      },
      "outputs": [],
      "source": [
        "xMat =np.array([range(0,7)]).reshape(7,1) * np.array([range(0,70,10)]).reshape(1,7)\n",
        "yMat =np.array([np.dot(np.array([range(0,70,10)]), np.array([range(0,7)]).reshape(7,1))])"
      ]
    },
    {
      "cell_type": "code",
      "execution_count": null,
      "metadata": {
        "colab": {
          "base_uri": "https://localhost:8080/"
        },
        "id": "P70AlzJjlme8",
        "outputId": "7394f770-ea5f-44f1-a38d-6a3726319bd6"
      },
      "outputs": [
        {
          "output_type": "execute_result",
          "data": {
            "text/plain": [
              "array([[  0,   0,   0,   0,   0,   0,   0],\n",
              "       [  0,  10,  20,  30,  40,  50,  60],\n",
              "       [  0,  20,  40,  60,  80, 100, 120],\n",
              "       [  0,  30,  60,  90, 120, 150, 180],\n",
              "       [  0,  40,  80, 120, 160, 200, 240],\n",
              "       [  0,  50, 100, 150, 200, 250, 300],\n",
              "       [  0,  60, 120, 180, 240, 300, 360]])"
            ]
          },
          "metadata": {},
          "execution_count": 5
        }
      ],
      "source": [
        "xMat"
      ]
    },
    {
      "cell_type": "code",
      "execution_count": null,
      "metadata": {
        "colab": {
          "base_uri": "https://localhost:8080/"
        },
        "id": "R79Rsx3JlkGI",
        "outputId": "3413b980-96cf-4c63-b50e-8d2294765689"
      },
      "outputs": [
        {
          "output_type": "execute_result",
          "data": {
            "text/plain": [
              "array([[[910]]])"
            ]
          },
          "metadata": {},
          "execution_count": 10
        }
      ],
      "source": [
        "yMat"
      ]
    },
    {
      "cell_type": "markdown",
      "metadata": {
        "id": "QJ3xTXgV33_i"
      },
      "source": [
        "**g) Declare `ismagic(A)` function** \n",
        "which checks if matrix $A$ is a [magic square](https://en.wikipedia.org/wiki/Magic_square) and returns a boolean. **Remark:** Don't use any for loop"
      ]
    },
    {
      "cell_type": "code",
      "source": [],
      "metadata": {
        "id": "jnBq4s8SCinf"
      },
      "execution_count": null,
      "outputs": []
    },
    {
      "cell_type": "code",
      "execution_count": null,
      "metadata": {
        "id": "uCNJUx_G33_j",
        "colab": {
          "base_uri": "https://localhost:8080/"
        },
        "outputId": "d37b2be1-c141-4fcd-cd94-2f12b7162ec5"
      },
      "outputs": [
        {
          "output_type": "stream",
          "name": "stdout",
          "text": [
            "False\n",
            "True\n"
          ]
        }
      ],
      "source": [
        "def ismagic(A):\n",
        "    #TODO\n",
        "    if len(np.unique(np.concatenate([A.sum(axis=1), A.sum(axis=0)]))) == 1:\n",
        "      return True\n",
        "    else:\n",
        "      return False\n",
        "\n",
        "assert not ismagic(np.array([[1,1], [2,2]]))\n",
        "print(ismagic(np.array([[1,1], [2,2]])))\n",
        "assert ismagic(np.array([[2,7,6],[9,5,1],[4,3,8]]))\n",
        "print(ismagic(np.array([[2,7,6],[9,5,1],[4,3,8]])))"
      ]
    },
    {
      "cell_type": "markdown",
      "metadata": {
        "id": "kl8_nizPeiNy"
      },
      "source": [
        "### Problem 2: Pandas and Seaborn [2p]\n",
        "\n",
        "1. Load the IRIS Data into a `DataFrame`"
      ]
    },
    {
      "cell_type": "code",
      "execution_count": null,
      "metadata": {
        "colab": {
          "base_uri": "https://localhost:8080/"
        },
        "id": "FzhoE5MWerAf",
        "outputId": "ff36fd4c-3f23-42dd-e7e7-38cd3172a5f6"
      },
      "outputs": [
        {
          "output_type": "stream",
          "name": "stdout",
          "text": [
            "750\n",
            "   sepal_length  sepal_width  petal_length  petal_width       target\n",
            "0           5.1          3.5           1.4          0.2  Iris-setosa\n",
            "1           4.9          3.0           1.4          0.2  Iris-setosa\n",
            "2           4.7          3.2           1.3          0.2  Iris-setosa\n",
            "3           4.6          3.1           1.5          0.2  Iris-setosa\n",
            "4           5.0          3.6           1.4          0.2  Iris-setosa\n",
            "5           5.4          3.9           1.7          0.4  Iris-setosa\n",
            "6           4.6          3.4           1.4          0.3  Iris-setosa\n",
            "7           5.0          3.4           1.5          0.2  Iris-setosa\n",
            "8           4.4          2.9           1.4          0.2  Iris-setosa\n",
            "9           4.9          3.1           1.5          0.1  Iris-setosa\n"
          ]
        }
      ],
      "source": [
        "iris_url = 'https://archive.ics.uci.edu/ml/machine-learning-databases/iris/iris.data'\n",
        "# Use read_csv to load the data. Make sure you get 150 examples!\n",
        "iris_df = pd.read_csv(iris_url,header = None)\n",
        "row_num, col_num = iris_df.shape\n",
        "print(iris_df.size)\n",
        "# Set the column names to\n",
        "# 'sepal_length', 'sepal_width', 'petal_length', 'petal_width', 'target'\n",
        "iris_df.columns = ['sepal_length', 'sepal_width', 'petal_length', 'petal_width', 'target']\n",
        "\n",
        "# Print the first 10 entries\n",
        "print(iris_df[0:10])"
      ]
    },
    {
      "cell_type": "code",
      "execution_count": null,
      "metadata": {
        "colab": {
          "base_uri": "https://localhost:8080/",
          "height": 300
        },
        "id": "IRV7K0gNgb2r",
        "outputId": "98a2622c-1584-4ead-9776-b78bd9f4a68d"
      },
      "outputs": [
        {
          "output_type": "execute_result",
          "data": {
            "text/plain": [
              "       sepal_length  sepal_width  petal_length  petal_width\n",
              "count    150.000000   150.000000    150.000000   150.000000\n",
              "mean       5.843333     3.054000      3.758667     1.198667\n",
              "std        0.828066     0.433594      1.764420     0.763161\n",
              "min        4.300000     2.000000      1.000000     0.100000\n",
              "25%        5.100000     2.800000      1.600000     0.300000\n",
              "50%        5.800000     3.000000      4.350000     1.300000\n",
              "75%        6.400000     3.300000      5.100000     1.800000\n",
              "max        7.900000     4.400000      6.900000     2.500000"
            ],
            "text/html": [
              "\n",
              "  <div id=\"df-e27d1216-5095-420c-9e5d-e4319ca5c456\">\n",
              "    <div class=\"colab-df-container\">\n",
              "      <div>\n",
              "<style scoped>\n",
              "    .dataframe tbody tr th:only-of-type {\n",
              "        vertical-align: middle;\n",
              "    }\n",
              "\n",
              "    .dataframe tbody tr th {\n",
              "        vertical-align: top;\n",
              "    }\n",
              "\n",
              "    .dataframe thead th {\n",
              "        text-align: right;\n",
              "    }\n",
              "</style>\n",
              "<table border=\"1\" class=\"dataframe\">\n",
              "  <thead>\n",
              "    <tr style=\"text-align: right;\">\n",
              "      <th></th>\n",
              "      <th>sepal_length</th>\n",
              "      <th>sepal_width</th>\n",
              "      <th>petal_length</th>\n",
              "      <th>petal_width</th>\n",
              "    </tr>\n",
              "  </thead>\n",
              "  <tbody>\n",
              "    <tr>\n",
              "      <th>count</th>\n",
              "      <td>150.000000</td>\n",
              "      <td>150.000000</td>\n",
              "      <td>150.000000</td>\n",
              "      <td>150.000000</td>\n",
              "    </tr>\n",
              "    <tr>\n",
              "      <th>mean</th>\n",
              "      <td>5.843333</td>\n",
              "      <td>3.054000</td>\n",
              "      <td>3.758667</td>\n",
              "      <td>1.198667</td>\n",
              "    </tr>\n",
              "    <tr>\n",
              "      <th>std</th>\n",
              "      <td>0.828066</td>\n",
              "      <td>0.433594</td>\n",
              "      <td>1.764420</td>\n",
              "      <td>0.763161</td>\n",
              "    </tr>\n",
              "    <tr>\n",
              "      <th>min</th>\n",
              "      <td>4.300000</td>\n",
              "      <td>2.000000</td>\n",
              "      <td>1.000000</td>\n",
              "      <td>0.100000</td>\n",
              "    </tr>\n",
              "    <tr>\n",
              "      <th>25%</th>\n",
              "      <td>5.100000</td>\n",
              "      <td>2.800000</td>\n",
              "      <td>1.600000</td>\n",
              "      <td>0.300000</td>\n",
              "    </tr>\n",
              "    <tr>\n",
              "      <th>50%</th>\n",
              "      <td>5.800000</td>\n",
              "      <td>3.000000</td>\n",
              "      <td>4.350000</td>\n",
              "      <td>1.300000</td>\n",
              "    </tr>\n",
              "    <tr>\n",
              "      <th>75%</th>\n",
              "      <td>6.400000</td>\n",
              "      <td>3.300000</td>\n",
              "      <td>5.100000</td>\n",
              "      <td>1.800000</td>\n",
              "    </tr>\n",
              "    <tr>\n",
              "      <th>max</th>\n",
              "      <td>7.900000</td>\n",
              "      <td>4.400000</td>\n",
              "      <td>6.900000</td>\n",
              "      <td>2.500000</td>\n",
              "    </tr>\n",
              "  </tbody>\n",
              "</table>\n",
              "</div>\n",
              "      <button class=\"colab-df-convert\" onclick=\"convertToInteractive('df-e27d1216-5095-420c-9e5d-e4319ca5c456')\"\n",
              "              title=\"Convert this dataframe to an interactive table.\"\n",
              "              style=\"display:none;\">\n",
              "        \n",
              "  <svg xmlns=\"http://www.w3.org/2000/svg\" height=\"24px\"viewBox=\"0 0 24 24\"\n",
              "       width=\"24px\">\n",
              "    <path d=\"M0 0h24v24H0V0z\" fill=\"none\"/>\n",
              "    <path d=\"M18.56 5.44l.94 2.06.94-2.06 2.06-.94-2.06-.94-.94-2.06-.94 2.06-2.06.94zm-11 1L8.5 8.5l.94-2.06 2.06-.94-2.06-.94L8.5 2.5l-.94 2.06-2.06.94zm10 10l.94 2.06.94-2.06 2.06-.94-2.06-.94-.94-2.06-.94 2.06-2.06.94z\"/><path d=\"M17.41 7.96l-1.37-1.37c-.4-.4-.92-.59-1.43-.59-.52 0-1.04.2-1.43.59L10.3 9.45l-7.72 7.72c-.78.78-.78 2.05 0 2.83L4 21.41c.39.39.9.59 1.41.59.51 0 1.02-.2 1.41-.59l7.78-7.78 2.81-2.81c.8-.78.8-2.07 0-2.86zM5.41 20L4 18.59l7.72-7.72 1.47 1.35L5.41 20z\"/>\n",
              "  </svg>\n",
              "      </button>\n",
              "      \n",
              "  <style>\n",
              "    .colab-df-container {\n",
              "      display:flex;\n",
              "      flex-wrap:wrap;\n",
              "      gap: 12px;\n",
              "    }\n",
              "\n",
              "    .colab-df-convert {\n",
              "      background-color: #E8F0FE;\n",
              "      border: none;\n",
              "      border-radius: 50%;\n",
              "      cursor: pointer;\n",
              "      display: none;\n",
              "      fill: #1967D2;\n",
              "      height: 32px;\n",
              "      padding: 0 0 0 0;\n",
              "      width: 32px;\n",
              "    }\n",
              "\n",
              "    .colab-df-convert:hover {\n",
              "      background-color: #E2EBFA;\n",
              "      box-shadow: 0px 1px 2px rgba(60, 64, 67, 0.3), 0px 1px 3px 1px rgba(60, 64, 67, 0.15);\n",
              "      fill: #174EA6;\n",
              "    }\n",
              "\n",
              "    [theme=dark] .colab-df-convert {\n",
              "      background-color: #3B4455;\n",
              "      fill: #D2E3FC;\n",
              "    }\n",
              "\n",
              "    [theme=dark] .colab-df-convert:hover {\n",
              "      background-color: #434B5C;\n",
              "      box-shadow: 0px 1px 3px 1px rgba(0, 0, 0, 0.15);\n",
              "      filter: drop-shadow(0px 1px 2px rgba(0, 0, 0, 0.3));\n",
              "      fill: #FFFFFF;\n",
              "    }\n",
              "  </style>\n",
              "\n",
              "      <script>\n",
              "        const buttonEl =\n",
              "          document.querySelector('#df-e27d1216-5095-420c-9e5d-e4319ca5c456 button.colab-df-convert');\n",
              "        buttonEl.style.display =\n",
              "          google.colab.kernel.accessAllowed ? 'block' : 'none';\n",
              "\n",
              "        async function convertToInteractive(key) {\n",
              "          const element = document.querySelector('#df-e27d1216-5095-420c-9e5d-e4319ca5c456');\n",
              "          const dataTable =\n",
              "            await google.colab.kernel.invokeFunction('convertToInteractive',\n",
              "                                                     [key], {});\n",
              "          if (!dataTable) return;\n",
              "\n",
              "          const docLinkHtml = 'Like what you see? Visit the ' +\n",
              "            '<a target=\"_blank\" href=https://colab.research.google.com/notebooks/data_table.ipynb>data table notebook</a>'\n",
              "            + ' to learn more about interactive tables.';\n",
              "          element.innerHTML = '';\n",
              "          dataTable['output_type'] = 'display_data';\n",
              "          await google.colab.output.renderOutput(dataTable, element);\n",
              "          const docLink = document.createElement('div');\n",
              "          docLink.innerHTML = docLinkHtml;\n",
              "          element.appendChild(docLink);\n",
              "        }\n",
              "      </script>\n",
              "    </div>\n",
              "  </div>\n",
              "  "
            ]
          },
          "metadata": {},
          "execution_count": 26
        }
      ],
      "source": [
        "# Show numerical summary of the data, using DataFrame.describe()\n",
        "iris_df.describe()"
      ]
    },
    {
      "cell_type": "code",
      "execution_count": null,
      "metadata": {
        "colab": {
          "base_uri": "https://localhost:8080/",
          "height": 744
        },
        "id": "vHa4zZNvg0jb",
        "outputId": "ef45503c-6a4a-48ef-b51b-3017c5f7a7f1"
      },
      "outputs": [
        {
          "output_type": "execute_result",
          "data": {
            "text/plain": [
              "<seaborn.axisgrid.PairGrid at 0x7fcef09c1100>"
            ]
          },
          "metadata": {},
          "execution_count": 28
        },
        {
          "output_type": "display_data",
          "data": {
            "text/plain": [
              "<Figure size 823.25x720 with 20 Axes>"
            ],
            "image/png": "[encoded data removed]"
          },
          "metadata": {}
        }
      ],
      "source": [
        "# Plot the data using seaborn's pairplot\n",
        "sns.pairplot(iris_df, hue = 'target')"
      ]
    },
    {
      "cell_type": "markdown",
      "metadata": {
        "id": "2kDC5d82oaKo"
      },
      "source": [
        "The Iris data is in a so-called 'wide' format, in which each column corresponds to a variable and each row of the DataFrame corresponds to one observation. Turn it into a 'long' format in which each row is a measurement. \n",
        "\n",
        "Specifically, change the data layout of the IRIS dataFrame so that it has 3 columns:\n",
        "- variable (one of sepal_length, sepal_width, petal_length, petal_width)\n",
        "- value\n",
        "- target\n",
        "\n",
        "If you would like to learn more, [Tidy Data](https://www.jstatsoft.org/index.php/jss/article/view/v059i10/v59i10.pdf) by [Hadley Wickham](http://hadley.nz/) provides a very nice explanation of best practices for data formating.\n",
        "\n",
        "Hint: look at reshaping functions in http://pandas.pydata.org/Pandas_Cheat_Sheet.pdf"
      ]
    },
    {
      "cell_type": "code",
      "execution_count": null,
      "metadata": {
        "colab": {
          "base_uri": "https://localhost:8080/",
          "height": 206
        },
        "id": "_VsSfAmwrNGu",
        "outputId": "d3fccfb8-5fde-4dcf-843e-ba7bebf66470"
      },
      "outputs": [
        {
          "output_type": "execute_result",
          "data": {
            "text/plain": [
              "        target      variable  value\n",
              "0  Iris-setosa  sepal_length    5.1\n",
              "1  Iris-setosa  sepal_length    4.9\n",
              "2  Iris-setosa  sepal_length    4.7\n",
              "3  Iris-setosa  sepal_length    4.6\n",
              "4  Iris-setosa  sepal_length    5.0"
            ],
            "text/html": [
              "\n",
              "  <div id=\"df-fa3afe3d-ac5a-459f-abee-7725c1331d7a\">\n",
              "    <div class=\"colab-df-container\">\n",
              "      <div>\n",
              "<style scoped>\n",
              "    .dataframe tbody tr th:only-of-type {\n",
              "        vertical-align: middle;\n",
              "    }\n",
              "\n",
              "    .dataframe tbody tr th {\n",
              "        vertical-align: top;\n",
              "    }\n",
              "\n",
              "    .dataframe thead th {\n",
              "        text-align: right;\n",
              "    }\n",
              "</style>\n",
              "<table border=\"1\" class=\"dataframe\">\n",
              "  <thead>\n",
              "    <tr style=\"text-align: right;\">\n",
              "      <th></th>\n",
              "      <th>target</th>\n",
              "      <th>variable</th>\n",
              "      <th>value</th>\n",
              "    </tr>\n",
              "  </thead>\n",
              "  <tbody>\n",
              "    <tr>\n",
              "      <th>0</th>\n",
              "      <td>Iris-setosa</td>\n",
              "      <td>sepal_length</td>\n",
              "      <td>5.1</td>\n",
              "    </tr>\n",
              "    <tr>\n",
              "      <th>1</th>\n",
              "      <td>Iris-setosa</td>\n",
              "      <td>sepal_length</td>\n",
              "      <td>4.9</td>\n",
              "    </tr>\n",
              "    <tr>\n",
              "      <th>2</th>\n",
              "      <td>Iris-setosa</td>\n",
              "      <td>sepal_length</td>\n",
              "      <td>4.7</td>\n",
              "    </tr>\n",
              "    <tr>\n",
              "      <th>3</th>\n",
              "      <td>Iris-setosa</td>\n",
              "      <td>sepal_length</td>\n",
              "      <td>4.6</td>\n",
              "    </tr>\n",
              "    <tr>\n",
              "      <th>4</th>\n",
              "      <td>Iris-setosa</td>\n",
              "      <td>sepal_length</td>\n",
              "      <td>5.0</td>\n",
              "    </tr>\n",
              "  </tbody>\n",
              "</table>\n",
              "</div>\n",
              "      <button class=\"colab-df-convert\" onclick=\"convertToInteractive('df-fa3afe3d-ac5a-459f-abee-7725c1331d7a')\"\n",
              "              title=\"Convert this dataframe to an interactive table.\"\n",
              "              style=\"display:none;\">\n",
              "        \n",
              "  <svg xmlns=\"http://www.w3.org/2000/svg\" height=\"24px\"viewBox=\"0 0 24 24\"\n",
              "       width=\"24px\">\n",
              "    <path d=\"M0 0h24v24H0V0z\" fill=\"none\"/>\n",
              "    <path d=\"M18.56 5.44l.94 2.06.94-2.06 2.06-.94-2.06-.94-.94-2.06-.94 2.06-2.06.94zm-11 1L8.5 8.5l.94-2.06 2.06-.94-2.06-.94L8.5 2.5l-.94 2.06-2.06.94zm10 10l.94 2.06.94-2.06 2.06-.94-2.06-.94-.94-2.06-.94 2.06-2.06.94z\"/><path d=\"M17.41 7.96l-1.37-1.37c-.4-.4-.92-.59-1.43-.59-.52 0-1.04.2-1.43.59L10.3 9.45l-7.72 7.72c-.78.78-.78 2.05 0 2.83L4 21.41c.39.39.9.59 1.41.59.51 0 1.02-.2 1.41-.59l7.78-7.78 2.81-2.81c.8-.78.8-2.07 0-2.86zM5.41 20L4 18.59l7.72-7.72 1.47 1.35L5.41 20z\"/>\n",
              "  </svg>\n",
              "      </button>\n",
              "      \n",
              "  <style>\n",
              "    .colab-df-container {\n",
              "      display:flex;\n",
              "      flex-wrap:wrap;\n",
              "      gap: 12px;\n",
              "    }\n",
              "\n",
              "    .colab-df-convert {\n",
              "      background-color: #E8F0FE;\n",
              "      border: none;\n",
              "      border-radius: 50%;\n",
              "      cursor: pointer;\n",
              "      display: none;\n",
              "      fill: #1967D2;\n",
              "      height: 32px;\n",
              "      padding: 0 0 0 0;\n",
              "      width: 32px;\n",
              "    }\n",
              "\n",
              "    .colab-df-convert:hover {\n",
              "      background-color: #E2EBFA;\n",
              "      box-shadow: 0px 1px 2px rgba(60, 64, 67, 0.3), 0px 1px 3px 1px rgba(60, 64, 67, 0.15);\n",
              "      fill: #174EA6;\n",
              "    }\n",
              "\n",
              "    [theme=dark] .colab-df-convert {\n",
              "      background-color: #3B4455;\n",
              "      fill: #D2E3FC;\n",
              "    }\n",
              "\n",
              "    [theme=dark] .colab-df-convert:hover {\n",
              "      background-color: #434B5C;\n",
              "      box-shadow: 0px 1px 3px 1px rgba(0, 0, 0, 0.15);\n",
              "      filter: drop-shadow(0px 1px 2px rgba(0, 0, 0, 0.3));\n",
              "      fill: #FFFFFF;\n",
              "    }\n",
              "  </style>\n",
              "\n",
              "      <script>\n",
              "        const buttonEl =\n",
              "          document.querySelector('#df-fa3afe3d-ac5a-459f-abee-7725c1331d7a button.colab-df-convert');\n",
              "        buttonEl.style.display =\n",
              "          google.colab.kernel.accessAllowed ? 'block' : 'none';\n",
              "\n",
              "        async function convertToInteractive(key) {\n",
              "          const element = document.querySelector('#df-fa3afe3d-ac5a-459f-abee-7725c1331d7a');\n",
              "          const dataTable =\n",
              "            await google.colab.kernel.invokeFunction('convertToInteractive',\n",
              "                                                     [key], {});\n",
              "          if (!dataTable) return;\n",
              "\n",
              "          const docLinkHtml = 'Like what you see? Visit the ' +\n",
              "            '<a target=\"_blank\" href=https://colab.research.google.com/notebooks/data_table.ipynb>data table notebook</a>'\n",
              "            + ' to learn more about interactive tables.';\n",
              "          element.innerHTML = '';\n",
              "          dataTable['output_type'] = 'display_data';\n",
              "          await google.colab.output.renderOutput(dataTable, element);\n",
              "          const docLink = document.createElement('div');\n",
              "          docLink.innerHTML = docLinkHtml;\n",
              "          element.appendChild(docLink);\n",
              "        }\n",
              "      </script>\n",
              "    </div>\n",
              "  </div>\n",
              "  "
            ]
          },
          "metadata": {},
          "execution_count": 31
        }
      ],
      "source": [
        "dic = {'target': iris_df['target'],'variable':'sepal_length' ,'value':iris_df['sepal_length'],}\n",
        "iris_df_long = pd.DataFrame(dic, columns=[\"target\", \"variable\", \"value\"])\n",
        "iris_df_long.head()"
      ]
    },
    {
      "cell_type": "markdown",
      "metadata": {
        "id": "28A-QiuosBw8"
      },
      "source": [
        "Now create a box-plot of values that each variable takes, split by the target species."
      ]
    },
    {
      "cell_type": "code",
      "execution_count": null,
      "metadata": {
        "colab": {
          "base_uri": "https://localhost:8080/",
          "height": 387
        },
        "id": "51HhmH0msNdM",
        "outputId": "d0d3e6b9-0f72-42ee-eb9f-e4771a0ab773"
      },
      "outputs": [
        {
          "output_type": "execute_result",
          "data": {
            "text/plain": [
              "<matplotlib.axes._subplots.AxesSubplot at 0x7fceec5b94f0>"
            ]
          },
          "metadata": {},
          "execution_count": 40
        },
        {
          "output_type": "display_data",
          "data": {
            "text/plain": [
              "<Figure size 360x360 with 1 Axes>"
            ],
            "image/png": "[encoded data removed]"
          },
          "metadata": {}
        }
      ],
      "source": [
        "# Hint: use a `catplot`\n",
        "# sns.catplot(...)\n",
        "sns.catplot(x=\"sepal_length\", y=\"target\", data=iris_df)\n",
        "\n",
        "\n",
        "# TODO: create two more plots, using a boxenplot and a swarmplot.\n",
        "\n",
        "sns.boxenplot(x=\"sepal_length\", y=\"target\", data=iris_df)\n",
        "sns.swarmplot(x=\"sepal_length\", y=\"target\", data=iris_df)"
      ]
    }
  ],
  "metadata": {
    "colab": {
      "provenance": []
    },
    "kernelspec": {
      "display_name": "ml_uwr venv",
      "language": "python",
      "name": "other-env"
    },
    "language_info": {
      "codemirror_mode": {
        "name": "ipython",
        "version": 3
      },
      "file_extension": ".py",
      "mimetype": "text/x-python",
      "name": "python",
      "nbconvert_exporter": "python",
      "pygments_lexer": "ipython3",
      "version": "3.8.9"
    }
  },
  "nbformat": 4,
  "nbformat_minor": 0
}