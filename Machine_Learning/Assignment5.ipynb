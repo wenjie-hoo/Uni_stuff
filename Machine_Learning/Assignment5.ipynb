{
  "cells": [
    {
      "cell_type": "markdown",
      "metadata": {
        "id": "view-in-github"
      },
      "source": [
        "<a href=\"https://colab.research.google.com/github/marekpiotradamczyk/ml_uwr_22/blob/main/Assignment5.ipynb\" target=\"_parent\"><img src=\"https://colab.research.google.com/assets/colab-badge.svg\" alt=\"Open In Colab\"/></a>"
      ]
    },
    {
      "cell_type": "markdown",
      "metadata": {
        "id": "XCL0oVa7GAwM"
      },
      "source": [
        "# Lab Assignment 5\n"
      ]
    },
    {
      "cell_type": "markdown",
      "metadata": {
        "id": "zCEQMisLpSli"
      },
      "source": [
        "## Important notes\n",
        "\n",
        "**Submission deadline:**\n",
        "**lab session of the week 7.11-11.11 2022**\n",
        "\n",
        "**Points: 1+3=4**\n",
        "\n",
        "Please let us know about any problems with it -- we will try to correct them quickly. Also, please do not hesitate to use GitHub’s pull requests to send us corrections!"
      ]
    },
    {
      "cell_type": "markdown",
      "metadata": {
        "id": "NbJedJj8pSli"
      },
      "source": [
        "# Statistical Learning"
      ]
    },
    {
      "cell_type": "markdown",
      "metadata": {
        "id": "oJjQ0JT9pSli"
      },
      "source": [
        "In this homework we will be reinforcing our understanding of the probabilistic approach to the machine learning."
      ]
    },
    {
      "cell_type": "markdown",
      "metadata": {
        "id": "Oy6389OB-1ue"
      },
      "source": [
        "\n",
        "\n",
        "Suppose we are given a task of getting to know how many people in Poland prefer coffee over tea.\n",
        "Imagine yourself that you can ask absolutely every person in Poland whether they prefer coffee over tea. If we would count the number $n_{c}$ of the people who said \"coffee > tea\", then our task would be done.\n",
        "However, this is just practically impossible.\n",
        "\n",
        "Still, we can do something to get a reasonable estimation of this number.\n",
        "And the idea for this is as follows.\n",
        "\n",
        "Poland has around 38,179,800 citizens as of 2021. Now look at the ratio $\\frac{n_{c}}{38,179,800}$. Imagine yourself another situation --- which now seems a bit more reasonable than asking every person in Poland about coffee --- where you can take a random person in Poland and ask them about whether they are coffee>tea. The answer will be yes/no, or in our numeric language 0/1. However, the probability of getting `yes` will be exactly $\\frac{n_{c}}{38,179,800}$.\n",
        "In this notebook we will be looking at how to estimate this probability properly.\n",
        "\n",
        "But already at this moment let it sink in what is going to happen.\n",
        "The number $n_c$ is just there, it's fixed. But we cannot get to know its exact value directly. Hence we are going to *learn* it, and we are going to learn it using a randomized approach.\n"
      ]
    },
    {
      "cell_type": "markdown",
      "metadata": {
        "id": "mraFZa41pSlj"
      },
      "source": [
        "### A polling simulator\n",
        "Let's simulate the polling process. We will generate IID random binary values, then count the fraction of observed 1's. In our case 1 is a \"coffee>tea\" person.\n",
        "\n"
      ]
    },
    {
      "cell_type": "markdown",
      "metadata": {
        "id": "GjVR4HQ_pSlj"
      },
      "source": [
        "Let $\\phi = \\frac{n_{c}}{38,179,800}$ be the ratio of the true number of coffee enjoyers over the whole population. Again, we cannot get the true value of $\\phi$, but we are going to learn it via estimates we gonna denote by $\\bar{\\phi}$."
      ]
    },
    {
      "cell_type": "code",
      "execution_count": null,
      "metadata": {
        "id": "kdkCEcShnOyM"
      },
      "outputs": [],
      "source": [
        "import numpy as np\n",
        "import matplotlib.pyplot as plt\n",
        "\n",
        "import scipy.stats"
      ]
    },
    {
      "cell_type": "code",
      "execution_count": null,
      "metadata": {
        "colab": {
          "base_uri": "https://localhost:8080/"
        },
        "id": "xSzyj7sEnOyW",
        "outputId": "391e8710-254f-4038-8f0f-bb5436d307f9",
        "scrolled": true
      },
      "outputs": [
        {
          "output_type": "stream",
          "name": "stdout",
          "text": [
            "Asked 50 people about coffee vs tea. Observed 23 average coffee enjoyers. Empirical mean 0.460 (model mean: 0.55)\n",
            "Asked 50 people about coffee vs tea. Observed 28 average coffee enjoyers. Empirical mean 0.560 (model mean: 0.55)\n",
            "Asked 50 people about coffee vs tea. Observed 24 average coffee enjoyers. Empirical mean 0.480 (model mean: 0.55)\n",
            "Asked 50 people about coffee vs tea. Observed 30 average coffee enjoyers. Empirical mean 0.600 (model mean: 0.55)\n",
            "Asked 50 people about coffee vs tea. Observed 27 average coffee enjoyers. Empirical mean 0.540 (model mean: 0.55)\n",
            "Asked 50 people about coffee vs tea. Observed 26 average coffee enjoyers. Empirical mean 0.520 (model mean: 0.55)\n",
            "Asked 50 people about coffee vs tea. Observed 29 average coffee enjoyers. Empirical mean 0.580 (model mean: 0.55)\n",
            "Asked 50 people about coffee vs tea. Observed 24 average coffee enjoyers. Empirical mean 0.480 (model mean: 0.55)\n",
            "Asked 50 people about coffee vs tea. Observed 24 average coffee enjoyers. Empirical mean 0.480 (model mean: 0.55)\n",
            "Asked 50 people about coffee vs tea. Observed 18 average coffee enjoyers. Empirical mean 0.360 (model mean: 0.55)\n",
            "\n",
            "Mean of means:  0.5060000000000001\n"
          ]
        }
      ],
      "source": [
        "phi = 0.55  # True ratio of coffee>tea population\n",
        "n = 50  # The sample size\n",
        "n_sims = 10 # number of simulations\n",
        "\n",
        "# Simulate a few random draws\n",
        "sample_means = np.ndarray(n_sims)\n",
        "for i in range(n_sims):\n",
        "    sample = np.random.rand(n) < phi  # rand gives us numbers between 0 and 1\n",
        "    sample_means[i] = sample.sum()/n\n",
        "    print (f\"Asked {n} people about coffee vs tea. Observed {sample.sum()} average coffee enjoyers. \"\n",
        "           f\"Empirical mean {1.0*sample.sum()/n:.3f} (model mean: {phi})\")\n",
        "\n",
        "print (f\"\\nMean of means: \", sample_means.mean())"
      ]
    },
    {
      "cell_type": "markdown",
      "metadata": {
        "id": "yybzuAOm_ZzU"
      },
      "source": [
        "Not surprisingly, every simulated \"poll\" returns slightly different results. Our sample size, 50, is quite small, and the observed means typically take values between 0.4 and 0.7. However please note, that while unlikely, the poll could return all zeros, or all ones!\n",
        "\n",
        "Our first observation is thus: the result of a poll, that is the sample statistic $\\bar\\phi$ is a Random Variable as well. As such, it will have its very own probability distribution!"
      ]
    },
    {
      "cell_type": "markdown",
      "metadata": {
        "id": "TOAlBdaxTy1H"
      },
      "source": [
        "### The distribution of $\\bar\\phi$\n",
        "\n",
        "Recall that $\\bar\\phi$ is the fraction of successes (heads, ones, coffee enjoyers) observed in $n$ independent trials.\n",
        "\n",
        "The number of successes $k$ in $n$ Bernulli trials follows the [Binomial Distribution](https://en.wikipedia.org/wiki/Binomial_distribution):\n",
        "$$\n",
        "p\\left(k\\text{ successes in }n\\text{ trials}; n, \\phi\\right)=\\binom{n}{k}\\phi^k(1-\\phi)^{n-k}.\n",
        "$$\n",
        "\n",
        "Where: $k$ is the number of successes, $n$ is the number of trials and $\\phi$ is the probability of a success in a single trial.\n",
        "\n",
        "Since $\\bar\\phi = k/n$ and $k$ is a discrete RV, we observe that\n",
        "$$\n",
        "p\\left(\\bar\\phi = \\frac{k}{n}; n, \\phi\\right) = p\\left(k\\text{ successes in }n\\text{ trials}; n, \\phi\\right)\n",
        "$$\n",
        "\n",
        "Let's verify that this is the case using an experiment!"
      ]
    },
    {
      "cell_type": "code",
      "execution_count": null,
      "metadata": {
        "colab": {
          "base_uri": "https://localhost:8080/",
          "height": 240
        },
        "id": "RZ_6koYbKDJE",
        "outputId": "270d3e75-a594-457b-e295-6f193339a3c0"
      },
      "outputs": [
        {
          "output_type": "error",
          "ename": "NameError",
          "evalue": "ignored",
          "traceback": [
            "\u001b[0;31m---------------------------------------------------------------------------\u001b[0m",
            "\u001b[0;31mNameError\u001b[0m                                 Traceback (most recent call last)",
            "\u001b[0;32m<ipython-input-3-8b3a9ea48440>\u001b[0m in \u001b[0;36m<module>\u001b[0;34m\u001b[0m\n\u001b[1;32m      3\u001b[0m \u001b[0mphi\u001b[0m \u001b[0;34m=\u001b[0m \u001b[0;36m0.55\u001b[0m  \u001b[0;31m# the probability of success of a single trial\u001b[0m\u001b[0;34m\u001b[0m\u001b[0;34m\u001b[0m\u001b[0m\n\u001b[1;32m      4\u001b[0m \u001b[0;34m\u001b[0m\u001b[0m\n\u001b[0;32m----> 5\u001b[0;31m \u001b[0mpoll_results\u001b[0m \u001b[0;34m=\u001b[0m \u001b[0mnp\u001b[0m\u001b[0;34m.\u001b[0m\u001b[0mrandom\u001b[0m\u001b[0;34m.\u001b[0m\u001b[0mrand\u001b[0m\u001b[0;34m(\u001b[0m\u001b[0mN\u001b[0m\u001b[0;34m,\u001b[0m \u001b[0mn\u001b[0m\u001b[0;34m)\u001b[0m \u001b[0;34m<\u001b[0m \u001b[0mphi\u001b[0m\u001b[0;34m\u001b[0m\u001b[0;34m\u001b[0m\u001b[0m\n\u001b[0m\u001b[1;32m      6\u001b[0m \u001b[0mk\u001b[0m \u001b[0;34m=\u001b[0m \u001b[0mpoll_results\u001b[0m\u001b[0;34m.\u001b[0m\u001b[0msum\u001b[0m\u001b[0;34m(\u001b[0m\u001b[0;36m1\u001b[0m\u001b[0;34m)\u001b[0m  \u001b[0;31m# fraction of successes in each poll\u001b[0m\u001b[0;34m\u001b[0m\u001b[0;34m\u001b[0m\u001b[0m\n\u001b[1;32m      7\u001b[0m \u001b[0;34m\u001b[0m\u001b[0m\n",
            "\u001b[0;31mNameError\u001b[0m: name 'np' is not defined"
          ]
        }
      ],
      "source": [
        "N = 100000  # the number of polls to simulate\n",
        "n = 100  # the number of trials in a single poll\n",
        "phi = 0.55  # the probability of success of a single trial\n",
        "\n",
        "poll_results = np.random.rand(N, n) < phi\n",
        "k = poll_results.sum(1)  # fraction of successes in each poll\n",
        "\n",
        "# choose bins such that each observation falls into the middle of some bin\n",
        "bins = np.arange(-0.5, n+1, 1, dtype='float32')\n",
        "plt.hist(k, bins=bins, density=True, alpha=0.3)\n",
        "\n",
        "# now plot the binomial distribution\n",
        "model = scipy.stats.binom(n=n, p=phi)\n",
        "possible_successes = np.arange(n + 1)\n",
        "# plot the PMF - probability mass function\n",
        "plt.stem(possible_successes , model.pmf(possible_successes), 'b', \n",
        "         label='Binomial PMF', use_line_collection=True)\n",
        "plt.axvline(phi * n, 0, 1, color='r', label=r'$n\\phi$: expected sucess count')\n",
        "plt.legend()\n",
        "_ = plt.xlabel('success count k')"
      ]
    },
    {
      "cell_type": "markdown",
      "metadata": {
        "id": "SAN6GTKMQn4o"
      },
      "source": [
        "The plot shows us a histogram of many simuleted poll results. It exactly matches the Binomial distribution. We have also indicated the expected value of the number of sucesses, which equals $n\\phi$."
      ]
    },
    {
      "cell_type": "markdown",
      "metadata": {
        "id": "p2xTO4CxnOyj"
      },
      "source": [
        "### Statistical Inference: model parameter estimation\n",
        "\n",
        "In Statistics and Machine Learning we only have access to the sample, in our case to one poll result. The goal is to learn something useful about the unknown population. Here we are interested in the true fraction $\\phi$.\n",
        "\n",
        "To perform this inference we will perform a Maximum Likelihood reasoning:\n",
        "1. Suppose there is a population with true (*unknown*) fraction $\\phi$.\n",
        "2. We have observed a sample from this population with some *known* sample fraction $\\bar\\phi$.\n",
        "3. Our observation has probablity $p(\\bar\\phi; \\phi)$ of happening. We know the formula for this probability, but we don't know $\\phi$.\n",
        "4. However we can ask:\n",
        "   What $\\hat\\phi$ would make our observed data sample the most probable?\n",
        "   Formally, we search for a $\\hat\\phi$ which maximizes our chances of observing the data we have:\n",
        "   $$\n",
        "    \\hat\\phi = \\underset{\\Phi}{\\operatorname{argmax}}p(\\bar\\phi; \\Phi)\n",
        "   $$\n",
        "\n",
        "We will call $\\mathcal{L}(\\Phi) = p(\\bar\\phi; \\Phi)$ the _likelihood_ of $\\Phi$ and we will call its maximizer $\\hat\\phi$ the maximum likelihood estimator of the population's unknown $\\phi$.\n",
        "\n",
        "There are many $phi$'s above and it sure gets confusing. Let me restate how they are different:\n",
        "- $\\phi$ is a parameter of the true population, we don't know it\n",
        "- $\\bar\\phi$ is a statistic computed on our data sample, we know it\n",
        "- $\\Phi$ is any possible value of $\\phi$; in our case $\\Phi$ is any possible value from $[0,1]$\n",
        "- $\\hat\\phi$ is the maximizer of the data likelihood - is the parameter of a hypothetical population which makes the observed data the most likely.\n",
        "\n",
        "Thus our reasoning assumes that we will estimate (or infer) the true, unknown $\\phi$ with a $\\hat\\phi$ which makes what we have witnessed the most probable."
      ]
    },
    {
      "cell_type": "markdown",
      "metadata": {
        "id": "-f0GzOyYWh8B"
      },
      "source": [
        "### Maximum Likelihood Estimation (MLE)\n",
        "\n",
        "What is left for us is to find $\\hat\\phi$ or the MLE of $\\phi$.\n",
        "\n",
        "This amounts to finding the maximum of the likelihood, a process we may also call **learning**. We will again resort to calculus: apply the $\\log$ to likelihood to make it easier to work with (a monotonic transformation doesn't change the location of the maximum), compute its derivative and find its zero crossing. Afterwards, we should check if the singular point found is a maximum by looking at the second derivative, we leave this as an exercise for the diligent reader.\n",
        "\n",
        "$$\\begin{split}\n",
        "\\hat\\phi &= \\underset{\\Phi}{\\operatorname{argmax}}\\mathcal{L}(\\Phi)  \\\\\n",
        "&= \\underset{\\Phi}{\\operatorname{argmax}}\\log\\mathcal{L}(\\Phi)  \\\\\n",
        "&= \\underset{\\Phi}{\\operatorname{argmax}}\\log p(\\bar\\phi = \\frac{k}{n}; n, \\Phi) \\\\\n",
        "&= \\underset{\\Phi}{\\operatorname{argmax}}\\log \\left[\\binom{n}{k}\\Phi^k(1-\\Phi)^{n-k}\\right] \\\\\n",
        "&= \\underset{\\Phi}{\\operatorname{argmax}}\\log \\left[\\binom{n}{n\\bar\\phi}\\Phi^{n\\bar\\phi}(1-\\Phi)^{n-n\\bar\\phi}\\right] \\\\\n",
        "&= \\underset{\\Phi}{\\operatorname{argmax}}\\log \\binom{n}{n\\bar\\phi} + n\\bar\\phi\\log\\Phi + (n-n\\bar\\phi)\\log(1-\\Phi)\n",
        "\\end{split}$$\n",
        "\n",
        "We now compute the derivative with respect to $\\Phi$. Notice that the first term disappears, because it does not depend on $\\Phi$:\n",
        "\n",
        "$$\\begin{split}\n",
        "\\frac{\\partial}{\\partial\\Phi}\\log\\mathcal{L}(\\Phi) &= \\frac{\\partial}{\\partial\\Phi}\\left[\\log \\binom{n}{n\\bar\\phi} + n\\bar\\phi\\log\\Phi + (n-n\\bar\\phi)\\log(1-\\Phi)\\right] \\\\ \n",
        "&=\\frac{n\\bar\\phi}{\\Phi} - \\frac{n-n\\bar\\phi}{1-\\Phi}\n",
        "\\end{split}$$\n",
        "\n",
        "Setting the derivative to zero we obtain:\n",
        "\n",
        "$$\\begin{split}\n",
        "\\frac{n\\bar\\phi}{\\Phi} - \\frac{n-n\\bar\\phi}{1-\\Phi} &= 0 \\\\\n",
        "\\frac{n\\bar\\phi}{\\Phi} &= \\frac{n-n\\bar\\phi}{1-\\Phi} \\\\\n",
        "n\\bar\\phi(1-\\Phi) &= (n-n\\bar\\phi)\\Phi \\\\\n",
        "\\bar\\phi -\\bar\\phi\\Phi &= \\Phi - \\bar\\phi\\Phi \\\\\n",
        "\\bar\\phi &= \\Phi\n",
        "\\end{split}$$\n",
        "\n",
        "Therefore the MLE estimator $\\hat\\phi$ is simply the sample mean $\\bar\\phi$: \n",
        "$$\n",
        "\\hat\\phi = \\underset{\\Phi}{\\operatorname{argmax}}\\mathcal{L}(\\Phi) = \\bar\\phi\n",
        "$$\n",
        "\n",
        "The result may seem too intuitive to be significant: the sample mean can be used to guess the population mean from which it was sampled. However, the MLE derivation has shown us a general principle that we can use to estimate the unknonw parameters of models which generate our data! "
      ]
    },
    {
      "cell_type": "markdown",
      "metadata": {
        "id": "tlqmSFgzTMME"
      },
      "source": [
        "## Back to polls --- the quality of the MLE estimator.\n",
        "\n",
        "We have shown that the MLE (Maximum Likelihood Estimator) for $\\phi$ is just the sample mean $\\bar\\phi$. However, how good it is? Recall, that $\\bar\\phi$ is a random variable itself. Its mean is $\\phi$, which is good --- the poll result, on the average, will be close to the population's parameter. \n",
        "\n",
        "Hovewer, we may want to control how close it is for the majority of polls we may conduct.\n",
        "\n",
        "In the following section we will derive the 95% confidence intervals for the estimator of $\\phi$. In other words, we will derive an interval around $\\bar\\phi$, such that in 95% of the polls we conduct the true $\\phi$ will be inside this interval.\n",
        "\n",
        "\n"
      ]
    },
    {
      "cell_type": "markdown",
      "metadata": {
        "id": "7D8Pdy6uVJYe"
      },
      "source": [
        "### Bootstrap estimation of confidence interval\n",
        "\n",
        "We will first use bootstrap to estimate the quality of the MLE estimator. We will then derive an analytical formula for the bounds."
      ]
    },
    {
      "cell_type": "code",
      "execution_count": null,
      "metadata": {
        "colab": {
          "base_uri": "https://localhost:8080/",
          "height": 809
        },
        "id": "qyReud5YyTZ-",
        "outputId": "c1b28b71-9353-45fa-a945-193d1e506522"
      },
      "outputs": [
        {
          "output_type": "display_data",
          "data": {
            "text/plain": [
              "<Figure size 432x288 with 1 Axes>"
            ],
            "image/png": "[encoded data removed]"
          },
          "metadata": {
            "needs_background": "light"
          }
        },
        {
          "output_type": "display_data",
          "data": {
            "text/plain": [
              "<Figure size 432x288 with 1 Axes>"
            ],
            "image/png": "[encoded data removed]"
          },
          "metadata": {
            "needs_background": "light"
          }
        },
        {
          "output_type": "display_data",
          "data": {
            "text/plain": [
              "<Figure size 432x288 with 1 Axes>"
            ],
            "image/png": "[encoded data removed]"
          },
          "metadata": {
            "needs_background": "light"
          }
        }
      ],
      "source": [
        "np.random.seed(1)\n",
        "phi = 0.55  # The model parameter: true probability p(1)\n",
        "n = 20  # The sample size\n",
        "\n",
        "def bootstrap_experiment(n, phi):\n",
        "    data = np.random.rand(n) < phi  # A single poll\n",
        "    bar_phi = data.mean()  # the MLE estimator of phi in this single experiment\n",
        "\n",
        "    n_bootstrap_rounds = 1000\n",
        "\n",
        "    # sample answers with replacement\n",
        "    bootstrap_idx = np.random.randint(low=0, high=n, size=(n_bootstrap_rounds, n))\n",
        "    bootstrap_datasets = data[bootstrap_idx]\n",
        "    \n",
        "    bootstrap_phis = bootstrap_datasets.mean(1)\n",
        "\n",
        "    # Estimate the confidence interval by taking the 2.5 and 97.5 percentiles\n",
        "    sorted_bootstrap_phis = np.sort(bootstrap_phis)\n",
        "    bootstrap_conf_low, bootstrap_conf_high = sorted_bootstrap_phis[\n",
        "        [int(0.025 * n_bootstrap_rounds), int(0.975 * n_bootstrap_rounds)]]\n",
        "\n",
        "    plt.figure()\n",
        "    # plot the true, unknown parameter\n",
        "    plt.axvline(phi, 0, 1, label=r'$\\phi$', color='red')\n",
        "    # plot the MLE\n",
        "    plt.axvline(bar_phi, 0, 1, label=r'$\\bar\\phi$', color='green')\n",
        "    # Plot the bootstrap estimates\n",
        "    plt.hist(sorted_bootstrap_phis, bins=20, alpha=0.3, label=r'bootstrap estimators of $\\phi$')\n",
        "    # Plot the bootstrap 95% confidence interval\n",
        "    plt.axvspan(bootstrap_conf_low, bootstrap_conf_high,\n",
        "                alpha=0.1, label='bootsrap 95% conf int', color='blue')\n",
        "    plt.legend()\n",
        "    _ = plt.xlim(0, 1)\n",
        "\n",
        "for exp_id in range(3):\n",
        "    bootstrap_experiment(n, phi)\n",
        "    plt.title(f'Bootstrap confidence intervals - experiment {exp_id}')"
      ]
    },
    {
      "cell_type": "markdown",
      "metadata": {
        "id": "JcT9Ej302OdE"
      },
      "source": [
        "In the experiments we have used a low poll size, to make the results more extreme. Please note that the estimates we are getting vary a lot. However, the true value of $\\phi$ seems to always fall within the predicted bounds. If repeated enough times, **it should do so in 95% of experiments.** And let's verify also this.\n"
      ]
    },
    {
      "cell_type": "markdown",
      "metadata": {
        "id": "DV2vXXqEpSlm"
      },
      "source": [
        "### Problem 1[1p]\n",
        "\n",
        "Perform the bootstrap experiment above 1000 times and verify that indeed around 95% of times the actual $\\phi$ was in the confidence interval"
      ]
    },
    {
      "cell_type": "code",
      "execution_count": null,
      "metadata": {
        "id": "LvVnIvchpSlm"
      },
      "outputs": [],
      "source": [
        "bound = 0\n",
        "for exp_id in range(1000):\n",
        "  if(bootstrap_experiment(n,phi)):\n",
        "    bound +=1\n",
        "result = bound/1000\n",
        "print(result)"
      ]
    },
    {
      "cell_type": "markdown",
      "metadata": {
        "id": "dzl1bWccpSln"
      },
      "source": [
        "### the required sample size\n",
        "Let's appreciate for a moment the bootstrap results. We have a simple model, from which we are drawing samples. The results of our draw are quite varied and a priori we don't know how good is our estimation. However, we can apply a simple computational procedure which shows us the amount of variability in our results. We can aggregate it to fomulate a 95% confidence bounds: an interval in which the true parameter is in 95% of the experiments.\n",
        "\n",
        "We could now try to design an experiment: find a sample size that would give us a desired width of the confidence interval, by trying several sizes and estimating the bootstrap confidence intervals. In the following demonstration observe how the confidence interval narrows with increased sample sizes."
      ]
    },
    {
      "cell_type": "code",
      "execution_count": null,
      "metadata": {
        "colab": {
          "base_uri": "https://localhost:8080/",
          "height": 809
        },
        "id": "yqUT6m2f4fgz",
        "outputId": "8ed3a334-f83e-4dc3-b11a-1fedfebc008b"
      },
      "outputs": [
        {
          "output_type": "display_data",
          "data": {
            "text/plain": [
              "<Figure size 432x288 with 1 Axes>"
            ],
            "image/png": "[encoded data removed]"
          },
          "metadata": {
            "needs_background": "light"
          }
        },
        {
          "output_type": "display_data",
          "data": {
            "text/plain": [
              "<Figure size 432x288 with 1 Axes>"
            ],
            "image/png": "[encoded data removed]"
          },
          "metadata": {
            "needs_background": "light"
          }
        },
        {
          "output_type": "display_data",
          "data": {
            "text/plain": [
              "<Figure size 432x288 with 1 Axes>"
            ],
            "image/png": "[encoded data removed]"
          },
          "metadata": {
            "needs_background": "light"
          }
        }
      ],
      "source": [
        "phi = 0.55\n",
        "\n",
        "for n in [100, 1000, 10000]:\n",
        "    bootstrap_experiment(n, phi)\n",
        "    plt.title(f'Bootstrap confidence intervals for n={n}')"
      ]
    },
    {
      "cell_type": "markdown",
      "metadata": {
        "id": "l8fPlm-vpSln"
      },
      "source": [
        "The fact that more samples give better estimations come from the Law of Big Numbers, which in our case states that with probability one the limit of $\\bar\\phi$ as $n$ goes to infinity is actually the $\\phi$ itself."
      ]
    },
    {
      "cell_type": "code",
      "execution_count": null,
      "metadata": {
        "id": "hZXFfM54pSln",
        "outputId": "2a360e96-5393-41ee-cf0b-705391638352",
        "colab": {
          "base_uri": "https://localhost:8080/",
          "height": 287
        }
      },
      "outputs": [
        {
          "output_type": "execute_result",
          "data": {
            "text/plain": [
              "0.565"
            ]
          },
          "metadata": {},
          "execution_count": 8
        },
        {
          "output_type": "display_data",
          "data": {
            "text/plain": [
              "<Figure size 432x288 with 1 Axes>"
            ],
            "image/png": "[encoded data removed]"
          },
          "metadata": {
            "needs_background": "light"
          }
        }
      ],
      "source": [
        "import pandas as pd\n",
        "n = 200\n",
        "d = pd.DataFrame(index=np.arange(n))\n",
        "d[\"vote for A\"] = np.random.rand(n) < phi\n",
        "d[\"aggregated mean\"] = d[\"vote for A\"].expanding().mean()\n",
        "d[\"phi\"] = phi\n",
        "d.plot(ylim=(0.,1.))\n",
        "d[\"aggregated mean\"].iloc[-1]"
      ]
    },
    {
      "cell_type": "markdown",
      "metadata": {
        "id": "BxByWyhrpSln"
      },
      "source": [
        "Even though the Law of Big numbers doesn't give us the speed of convergence, often we do have also bounds on the speed. Many times such methods follow by relating the distribution to a normal one, and below we shall see how such a relation can be used."
      ]
    },
    {
      "cell_type": "markdown",
      "metadata": {
        "id": "9aoMvHg-pSln"
      },
      "source": [
        "However, a very natural question is how big `n` should we take to have confidence intervals small enough, so that we can quite surely say that our error of estimation is, let's say, 1%."
      ]
    },
    {
      "cell_type": "markdown",
      "metadata": {
        "id": "-5bA2BispSln"
      },
      "source": [
        "We can try to again estimate this number (this time number `n` of samples), but that would give us another layer of estimation on top of estimation. Luckily we can this time use some math instead of experiments."
      ]
    },
    {
      "cell_type": "markdown",
      "metadata": {
        "id": "nwJcXMjExreb"
      },
      "source": [
        "### Derivation of confidence intervals\n",
        "\n",
        "We want the (sample dependent) confidence interval around the sample mean, such that in 95% of experiments (conducted polls), the true unknown population parameter $\\phi$ is within the confidence interval.\n",
        "\n",
        "Formally we want to find $\\bar\\phi$ and $\\epsilon$ such that $p(\\bar\\phi-\\epsilon \\leq \\phi \\leq \\bar\\phi + \\epsilon) > 0.95$ or, equivalently, such that $p(|\\phi-\\bar\\phi| \\leq \\epsilon) > 0.95$.\n",
        "\n",
        "To estimate this interval please recall that $\\bar\\phi$ is the fraction of successes and that $k=n\\bar\\phi$, the success count follows a binomial distribution.\n",
        "\n",
        "$$\n",
        "p\\left(\\bar\\phi = \\frac{k}{n}; n, \\phi\\right) = p\\left(k\\text{ successes in }n\\text{ trials}; n, \\phi\\right)=\\binom{n}{k}\\phi^k(1-\\phi)^{n-k}.\n",
        "$$\n",
        "\n",
        "The excpected number of successes $k$ is $n\\phi$, because expectation is linear and we are summing $n$ Bernulli variables. Thus the expectation of $\\bar\\phi$ is \n",
        "\n",
        "$$\n",
        "\\mathbb{E}[\\bar\\phi] = \\mathbb{E}\\left[\\frac{k}{n}\\right] = \\frac{n\\phi}{n} = \\phi.\n",
        "$$\n",
        "\n",
        "The variance of the number of successes $k$ is $n\\phi(1-\\phi)$ because it is the variance of the sum of $n$ _independent_ Bernoulli variables and variance is additice for independent variables. It follows that\n",
        "\n",
        "$$\n",
        "\\text{var}[\\bar\\phi] = \\frac{\\text{var}[k]}{n^2} = \\frac{n\\phi(1-\\phi)}{n^2} = \\frac{\\phi(1-\\phi)}{n}.\n",
        "$$\n",
        "\n",
        "We see that as the sample size $n$ grows, variance of the sample mean is reduced.\n",
        "\n",
        "For a large enough sample size, we can approximate the binomial distribution with a normal one with a matched mean and variance. \n"
      ]
    },
    {
      "cell_type": "markdown",
      "metadata": {
        "id": "ZExVETsHpSln"
      },
      "source": [
        "The fact that you can approximate binomial distribution with a normal one is phrased in the de Moivre-Laplace Theorem (https://en.wikipedia.org/wiki/De_Moivre%E2%80%93Laplace_theorem).\n",
        "More formally it states that $\\frac{\\bar{\\phi} - \\phi}{\\sqrt{n\\cdot \\phi(1-\\phi)}}$ has distribution approximately close to $N(0,1)$, whatever the closeness between distributions is for now.\n",
        "\n",
        "We will not go into details of this fact in this assignment list. But we gonna convince ourselves that it's in fact true."
      ]
    },
    {
      "cell_type": "markdown",
      "metadata": {
        "id": "E8C9xq22pSln"
      },
      "source": [
        "# Problem 2 [3p]\n",
        "\n",
        "Generate $k=88, 888, 8888, 88888$ samples from $\\frac{\\bar{\\phi} - \\phi}{\\sqrt{n\\cdot \\phi(1-\\phi)}}$ for $n=10,100,1000,10000$. Plot their histograms (separate for each $n$) together with a plot of $N(0,1)$. Perform statistical tests for normality of these distributions, one Kolmogorov-Smirnoff and one `scipy.stats.normaltest`. Print out the $p$-values.\n",
        "Discuss why 1) the plots ain't terribly matching for `n=10`, 2) why the bigger the $k$ the harder it is to pass the KS test."
      ]
    },
    {
      "cell_type": "code",
      "execution_count": null,
      "metadata": {
        "id": "72bNky5cpSln"
      },
      "outputs": [],
      "source": [
        "import math \n",
        "from scipy.stats import normaltest\n",
        "from scipy.stats import kstest\n",
        "import seaborn as sns \n",
        "\n",
        "def do_stuff(k, n, phi):\n",
        "  poll_results = np.random.rand(N, n) < phi\n",
        "  k = poll_results.sum(1)\n",
        "  data = np.exp(k/n - phi/(math.sqrt(n*phi*(1-phi))))\n",
        "  print('data:',data)\n",
        "  print(normaltest(data))\n",
        "  plt.figure()\n",
        "  plt.hist(data, bins='auto')\n",
        "  plt.show()\n"
      ]
    },
    {
      "cell_type": "code",
      "execution_count": null,
      "metadata": {
        "id": "Y453hgJSpSln",
        "outputId": "5d409d2b-1f7e-4386-a347-e030bbabb67f",
        "colab": {
          "base_uri": "https://localhost:8080/",
          "height": 304
        }
      },
      "outputs": [
        {
          "output_type": "stream",
          "name": "stdout",
          "text": [
            "data: [1.28453534 1.05168859 1.05168859 ... 0.86104979 1.05168859 1.4196311 ]\n",
            "NormaltestResult(statistic=1992.315008291918, pvalue=0.0)\n"
          ]
        },
        {
          "output_type": "display_data",
          "data": {
            "text/plain": [
              "<Figure size 432x288 with 1 Axes>"
            ],
            "image/png": "[encoded data removed]"
          },
          "metadata": {
            "needs_background": "light"
          }
        }
      ],
      "source": [
        "do_stuff(k=88, n=10, phi=0.55)\n"
      ]
    },
    {
      "cell_type": "code",
      "execution_count": null,
      "metadata": {
        "id": "NsqLco6QpSln",
        "outputId": "56f0da63-64fd-4a0b-da9e-1675418ebad0",
        "colab": {
          "base_uri": "https://localhost:8080/",
          "height": 301
        }
      },
      "outputs": [
        {
          "output_type": "stream",
          "name": "stdout",
          "text": [
            "data: [1.05168859 1.16229564 0.95160719 ... 1.28453534 0.95160719 1.56893501]\n",
            "NormaltestResult(statistic=2023.096213405303, pvalue=0.0)\n"
          ]
        },
        {
          "output_type": "display_data",
          "data": {
            "text/plain": [
              "<Figure size 432x288 with 1 Axes>"
            ],
            "image/png": "[encoded data removed]"
          },
          "metadata": {
            "needs_background": "light"
          }
        }
      ],
      "source": [
        "do_stuff(k=8888, n=10,phi=0.55)"
      ]
    },
    {
      "cell_type": "code",
      "execution_count": null,
      "metadata": {
        "id": "XVRl9ZZcpSln",
        "outputId": "48ffdca7-e2d2-4ab1-acc3-76d8b1afd961",
        "colab": {
          "base_uri": "https://localhost:8080/",
          "height": 314
        }
      },
      "outputs": [
        {
          "output_type": "stream",
          "name": "stdout",
          "text": [
            "data: [0.99992965 0.99998392 1.00007237 ... 1.00012865 0.9998372  0.99999598]\n",
            "NormaltestResult(statistic=1.6237985056711146, pvalue=0.44401397010894816)\n"
          ]
        },
        {
          "output_type": "display_data",
          "data": {
            "text/plain": [
              "<Figure size 432x288 with 1 Axes>"
            ],
            "image/png": "[encoded data removed]"
          },
          "metadata": {
            "needs_background": "light"
          }
        }
      ],
      "source": [
        "do_stuff(k=88, n=10000,phi=0.55)"
      ]
    },
    {
      "cell_type": "code",
      "execution_count": null,
      "metadata": {
        "id": "ugtZm-fZpSlo",
        "outputId": "bb6507fa-95a3-473d-adac-a4aef7b7f725",
        "colab": {
          "base_uri": "https://localhost:8080/",
          "height": 301
        }
      },
      "outputs": [
        {
          "output_type": "stream",
          "name": "stdout",
          "text": [
            "data: [1.71111394 1.70189883 1.73142468 ... 1.704965   1.69883816 1.71711333]\n",
            "NormaltestResult(statistic=1.8014470584185185, pvalue=0.40627560110901106)\n"
          ]
        },
        {
          "output_type": "display_data",
          "data": {
            "text/plain": [
              "<Figure size 432x288 with 1 Axes>"
            ],
            "image/png": "[encoded data removed]"
          },
          "metadata": {
            "needs_background": "light"
          }
        }
      ],
      "source": [
        "do_stuff(k=8888, n=10000,phi=0.55)"
      ]
    },
    {
      "cell_type": "code",
      "execution_count": null,
      "metadata": {
        "id": "L6Ym43cNpSlo",
        "outputId": "bac47edc-8c73-43ac-82bc-48bb8b8c83ce",
        "colab": {
          "base_uri": "https://localhost:8080/",
          "height": 285
        }
      },
      "outputs": [
        {
          "output_type": "stream",
          "name": "stdout",
          "text": [
            "NormaltestResult(statistic=0.8747667785938613, pvalue=0.6457238203464475)\n"
          ]
        },
        {
          "output_type": "display_data",
          "data": {
            "text/plain": [
              "<Figure size 432x288 with 1 Axes>"
            ],
            "image/png": "[encoded data removed]"
          },
          "metadata": {
            "needs_background": "light"
          }
        }
      ],
      "source": [
        "do_stuff(k=88888, n=10000,phi=0.55)"
      ]
    }
  ],
  "metadata": {
    "colab": {
      "provenance": []
    },
    "kernelspec": {
      "display_name": "ml_uwr venv",
      "language": "python",
      "name": "other-env"
    },
    "language_info": {
      "codemirror_mode": {
        "name": "ipython",
        "version": 3
      },
      "file_extension": ".py",
      "mimetype": "text/x-python",
      "name": "python",
      "nbconvert_exporter": "python",
      "pygments_lexer": "ipython3",
      "version": "3.8.9"
    }
  },
  "nbformat": 4,
  "nbformat_minor": 0
}