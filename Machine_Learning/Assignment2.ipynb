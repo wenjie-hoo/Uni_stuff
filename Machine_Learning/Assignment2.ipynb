{
  "cells": [
    {
      "cell_type": "markdown",
      "metadata": {
        "id": "nskg4lWvYiSR"
      },
      "source": [
        "<a href=\"https://colab.research.google.com/github/marekpiotradamczyk/ml_uwr_22/blob/main/Assignments/Assignment2.ipynb\" target=\"_parent\"><img src=\"https://colab.research.google.com/assets/colab-badge.svg\" alt=\"Open In Colab\"/></a>"
      ]
    },
    {
      "cell_type": "markdown",
      "metadata": {
        "id": "kGCvu1gAINzr"
      },
      "source": [
        "# Lab Assignment 2"
      ]
    },
    {
      "cell_type": "markdown",
      "metadata": {
        "id": "VvEZ6dEHYiSV"
      },
      "source": [
        "## Important notes"
      ]
    },
    {
      "cell_type": "markdown",
      "metadata": {
        "id": "uzSnaR5sYiSV"
      },
      "source": [
        "**Submission deadline:**\n",
        "**lab session in the week of 17-21 of October 2022**\n",
        "\n",
        "**Points: 1+3+1=5**\n",
        "\n",
        "The assignment is in the form of a Jupyter notebook. We will be using [Google Colab](https://colab.research.google.com) to solve it. Below you will find a \"Setup\" section. Follow instructions from this paragraph to download the notebook and open it using [Google Colab](https://colab.research.google.com). \n",
        "\n",
        "Your goal is to solve problems posted below. Whenever possible, add your solutions to the notebook.\n",
        "\n",
        "Please write on Teams about any problems with it --- we will try to correct them quickly. Also, please do not hesitate to use GitHub’s pull requests to send us corrections!"
      ]
    },
    {
      "cell_type": "code",
      "execution_count": 126,
      "metadata": {
        "id": "JFfFVOVXYiSW"
      },
      "outputs": [],
      "source": [
        "# Please note that this code needs only to be run in a fresh runtime.\n",
        "# However, it can be rerun afterwards too.\n",
        "# !pip install -q gdown httpimport\n",
        "# ![ -e mnist.npz ] || gdown 'https://drive.google.com/uc?id=1QPaC3IKB_5tX6yIZgRgkpcqFrfVqPTXU' -O mnist.npz\n",
        "\n",
        "import numpy as np\n",
        "import pandas as pd\n",
        "import matplotlib.pyplot as plt\n",
        "from google.colab import drive\n",
        "\n",
        "drive.mount('/content/drive')\n",
        "# with np.load('mnist.npz') as data:\n",
        "with np.load('drive/MyDrive/mnist.npz') as data:\n",
        "  X_base = data['train_data'].astype(float)\n",
        "  y_base = data['train_labels']\n"
      ]
    },
    {
      "cell_type": "markdown",
      "metadata": {
        "id": "UvyGFCgVYiSW"
      },
      "source": [
        "## Discovering MNIST data"
      ]
    },
    {
      "cell_type": "code",
      "execution_count": 14,
      "metadata": {
        "id": "h4cIIiYFYiSX"
      },
      "outputs": [],
      "source": [
        "X = X_base[:60000]\n",
        "y = y_base[:60000]"
      ]
    },
    {
      "cell_type": "code",
      "execution_count": 15,
      "metadata": {
        "id": "uZlUkGwIYiSY"
      },
      "outputs": [],
      "source": [
        "import matplotlib.pyplot as plt\n",
        "\n",
        "def plot_digit(x):\n",
        "    fig = plt.figure(figsize = (2,2))\n",
        "    plt.imshow(x, cmap='gray')\n",
        "    plt.show()\n"
      ]
    },
    {
      "cell_type": "code",
      "execution_count": 16,
      "metadata": {
        "colab": {
          "base_uri": "https://localhost:8080/",
          "height": 177
        },
        "id": "OzXENNnwYiSY",
        "outputId": "f10e28a6-89ef-4b08-b98d-9ff9d77da4e5"
      },
      "outputs": [
        {
          "data": {
            "image/png": "[encoded data removed]",
            "text/plain": [
              "<Figure size 144x144 with 1 Axes>"
            ]
          },
          "metadata": {
            "needs_background": "light"
          },
          "output_type": "display_data"
        },
        {
          "name": "stdout",
          "output_type": "stream",
          "text": [
            "Label: 3\n"
          ]
        }
      ],
      "source": [
        "plot_digit(X[44])\n",
        "print(\"Label:\", y[44])"
      ]
    },
    {
      "cell_type": "markdown",
      "metadata": {
        "id": "zCOmewe0YiSZ"
      },
      "source": [
        "This image is of size $28 \\times 28$ and the corresponding matrix is:"
      ]
    },
    {
      "cell_type": "code",
      "execution_count": 17,
      "metadata": {
        "colab": {
          "base_uri": "https://localhost:8080/"
        },
        "id": "9N0e76uSYiSa",
        "outputId": "ab5fc2a1-bfa7-47cc-8829-f5f2055de2d6"
      },
      "outputs": [
        {
          "data": {
            "text/plain": [
              "array([[  0.,   0.,   0.,   0.,   0.,   0.,   0.,   0.,   0.,   0.,   0.,\n",
              "          0.,   0.,   0.,   0.,   0.,   0.,   0.,   0.,   0.,   0.,   0.,\n",
              "          0.,   0.,   0.,   0.,   0.,   0.],\n",
              "       [  0.,   0.,   0.,   0.,   0.,   0.,   0.,   0.,   0.,   0.,   0.,\n",
              "          0.,   0.,   0.,   0.,   0.,   0.,   0.,   0.,   0.,   0.,   0.,\n",
              "          0.,   0.,   0.,   0.,   0.,   0.],\n",
              "       [  0.,   0.,   0.,   0.,   0.,   0.,   0.,   0.,   0.,   0.,   0.,\n",
              "          0.,   0.,   0.,   0.,   0.,   0.,   0.,   0.,   0.,   0.,   0.,\n",
              "          0.,   0.,   0.,   0.,   0.,   0.],\n",
              "       [  0.,   0.,   0.,   0.,   0.,   0.,   0.,   0.,   0.,   0.,   0.,\n",
              "          0.,   0.,   0.,   0.,   0.,   0.,   0.,   0.,   0.,   0.,   0.,\n",
              "          0.,   0.,   0.,   0.,   0.,   0.],\n",
              "       [  0.,   0.,   0.,   0.,   0.,   0.,   0.,   0.,   0.,   0.,   0.,\n",
              "          0.,   0.,   0.,   0.,   0.,   0.,   0.,   0.,   0.,   0.,   0.,\n",
              "          0.,   0.,   0.,   0.,   0.,   0.],\n",
              "       [  0.,   0.,   0.,   0.,   0.,   0.,   0.,   0.,   0.,   0.,   0.,\n",
              "          0.,   0.,   0.,   0.,   0.,   0.,   0.,   0.,   0.,   0.,   0.,\n",
              "          0.,   0.,   0.,   0.,   0.,   0.],\n",
              "       [  0.,   0.,   0.,   0.,   0.,   0., 163., 132.,  51.,  51.,  51.,\n",
              "         51.,  51.,  51.,  51.,  21.,   0.,   0.,   0.,   0.,   0.,   0.,\n",
              "          0.,   0.,   0.,   0.,   0.,   0.],\n",
              "       [  0.,   0.,   0.,   0.,   0.,   0., 203., 253., 252., 253., 252.,\n",
              "        253., 252., 253., 252., 223., 203.,  41.,   0.,   0.,   0.,   0.,\n",
              "          0.,   0.,   0.,   0.,   0.,   0.],\n",
              "       [  0.,   0.,   0.,   0.,   0.,   0.,   0., 103., 142., 203., 203.,\n",
              "        203., 203., 203., 203., 214., 253., 204.,   0.,   0.,   0.,   0.,\n",
              "          0.,   0.,   0.,   0.,   0.,   0.],\n",
              "       [  0.,   0.,   0.,   0.,   0.,   0.,   0.,   0.,   0.,   0.,   0.,\n",
              "          0.,   0.,   0.,   0.,  51., 252., 162.,   0.,   0.,   0.,   0.,\n",
              "          0.,   0.,   0.,   0.,   0.,   0.],\n",
              "       [  0.,   0.,   0.,   0.,   0.,   0.,   0.,   0.,   0.,   0.,   0.,\n",
              "          0.,   0.,   0.,   0., 255., 253.,  82.,   0.,   0.,   0.,   0.,\n",
              "          0.,   0.,   0.,   0.,   0.,   0.],\n",
              "       [  0.,   0.,   0.,   0.,   0.,   0.,   0.,   0.,   0.,   0.,   0.,\n",
              "          0.,   0.,   0., 123., 253., 130.,   0.,   0.,   0.,   0.,   0.,\n",
              "          0.,   0.,   0.,   0.,   0.,   0.],\n",
              "       [  0.,   0.,   0.,   0.,   0.,   0.,   0.,   0.,   0.,   0.,   0.,\n",
              "          0.,   0., 132., 253., 203.,  20.,   0.,   0.,   0.,   0.,   0.,\n",
              "          0.,   0.,   0.,   0.,   0.,   0.],\n",
              "       [  0.,   0.,   0.,   0.,   0.,   0.,   0.,   0.,   0.,   0.,   0.,\n",
              "          0., 123., 253., 252.,  20.,   0.,   0.,   0.,   0.,   0.,   0.,\n",
              "          0.,   0.,   0.,   0.,   0.,   0.],\n",
              "       [  0.,   0.,   0.,   0.,   0.,   0.,   0.,   0.,   0.,   0.,   0.,\n",
              "        113., 253., 224.,  61.,   0.,   0.,   0.,   0.,   0.,   0.,   0.,\n",
              "          0.,   0.,   0.,   0.,   0.,   0.],\n",
              "       [  0.,   0.,   0.,   0.,   0.,   0.,   0.,   0.,   0.,   0.,   0.,\n",
              "        152., 252., 223., 102., 102.,  61.,  41.,   0.,   0.,   0.,   0.,\n",
              "          0.,   0.,   0.,   0.,   0.,   0.],\n",
              "       [  0.,   0.,   0.,   0.,   0.,   0.,   0.,   0.,   0.,   0.,   0.,\n",
              "         62., 142., 203., 243., 254., 253., 254., 253.,  82.,   0.,   0.,\n",
              "          0.,   0.,   0.,   0.,   0.,   0.],\n",
              "       [  0.,   0.,   0.,   0.,   0.,   0.,   0.,   0.,   0.,   0.,   0.,\n",
              "          0.,   0.,   0.,  40.,  71., 111., 172., 252., 203.,   0.,   0.,\n",
              "          0.,   0.,   0.,   0.,   0.,   0.],\n",
              "       [  0.,   0.,   0.,   0.,   0.,   0.,   0.,   0.,   0.,   0.,   0.,\n",
              "          0.,   0.,   0.,   0.,   0.,   0.,  72., 253., 203.,   0.,   0.,\n",
              "          0.,   0.,   0.,   0.,   0.,   0.],\n",
              "       [  0.,   0.,   0.,   0.,   0.,   0.,   0.,   0.,   0.,   0.,   0.,\n",
              "          0.,   0.,   0.,   0.,   0.,   0., 152., 252.,  81.,   0.,   0.,\n",
              "          0.,   0.,   0.,   0.,   0.,   0.],\n",
              "       [  0.,   0.,   0.,   0.,   0.,   0.,   0.,   0.,   0.,   0.,   0.,\n",
              "          0.,   0.,   0.,   0.,   0., 102., 254., 213.,   0.,   0.,   0.,\n",
              "          0.,   0.,   0.,   0.,   0.,   0.],\n",
              "       [  0.,   0.,   0.,   0.,   0.,   0.,   0.,   0.,   0.,   0.,   0.,\n",
              "          0.,   0.,   0.,   0.,  21., 203., 253., 130.,   0.,   0.,   0.,\n",
              "          0.,   0.,   0.,   0.,   0.,   0.],\n",
              "       [  0.,   0.,   0.,   0.,   0.,   0.,   0.,   0.,   0.,   0.,   0.,\n",
              "          0.,   0.,   0.,   0., 173., 253., 163.,   0.,   0.,   0.,   0.,\n",
              "          0.,   0.,   0.,   0.,   0.,   0.],\n",
              "       [  0.,   0.,   0.,   0.,   0.,   0.,   0.,   0.,   0.,   0.,   0.,\n",
              "          0.,   0.,   0., 163., 253., 171.,   0.,   0.,   0.,   0.,   0.,\n",
              "          0.,   0.,   0.,   0.,   0.,   0.],\n",
              "       [  0.,   0.,   0.,   0.,   0.,   0.,   0.,   0.,   0.,   0.,   0.,\n",
              "        113., 172., 132., 253., 142.,  20.,   0.,   0.,   0.,   0.,   0.,\n",
              "          0.,   0.,   0.,   0.,   0.,   0.],\n",
              "       [  0.,   0.,   0.,   0.,   0.,   0.,   0.,   0.,   0.,   0.,   0.,\n",
              "         51., 232., 151.,  70.,   0.,   0.,   0.,   0.,   0.,   0.,   0.,\n",
              "          0.,   0.,   0.,   0.,   0.,   0.],\n",
              "       [  0.,   0.,   0.,   0.,   0.,   0.,   0.,   0.,   0.,   0.,   0.,\n",
              "          0.,   0.,   0.,   0.,   0.,   0.,   0.,   0.,   0.,   0.,   0.,\n",
              "          0.,   0.,   0.,   0.,   0.,   0.],\n",
              "       [  0.,   0.,   0.,   0.,   0.,   0.,   0.,   0.,   0.,   0.,   0.,\n",
              "          0.,   0.,   0.,   0.,   0.,   0.,   0.,   0.,   0.,   0.,   0.,\n",
              "          0.,   0.,   0.,   0.,   0.,   0.]])"
            ]
          },
          "execution_count": 17,
          "metadata": {},
          "output_type": "execute_result"
        }
      ],
      "source": [
        "X[44]"
      ]
    },
    {
      "cell_type": "markdown",
      "metadata": {
        "id": "kvBJtbcoYiSa"
      },
      "source": [
        "The above doesn't really look like an image anymore. Although --- just a note --- the below still reasonably represents 3."
      ]
    },
    {
      "cell_type": "code",
      "execution_count": 18,
      "metadata": {
        "colab": {
          "base_uri": "https://localhost:8080/"
        },
        "id": "EXv1GFldYiSb",
        "outputId": "3b826419-c8de-45a3-e7ec-e679b44d9aae",
        "scrolled": false
      },
      "outputs": [
        {
          "name": "stdout",
          "output_type": "stream",
          "text": [
            "0000000000000000000000000000\n",
            "0000000000000000000000000000\n",
            "0000000000000000000000000000\n",
            "0000000000000000000000000000\n",
            "0000000000000000000000000000\n",
            "0000000000000000000000000000\n",
            "0000001111111111000000000000\n",
            "0000001111111111110000000000\n",
            "0000000111111111110000000000\n",
            "0000000000000001110000000000\n",
            "0000000000000001110000000000\n",
            "0000000000000011100000000000\n",
            "0000000000000111100000000000\n",
            "0000000000001111000000000000\n",
            "0000000000011110000000000000\n",
            "0000000000011111110000000000\n",
            "0000000000011111111100000000\n",
            "0000000000000011111100000000\n",
            "0000000000000000011100000000\n",
            "0000000000000000011100000000\n",
            "0000000000000000111000000000\n",
            "0000000000000001111000000000\n",
            "0000000000000001110000000000\n",
            "0000000000000011100000000000\n",
            "0000000000011111100000000000\n",
            "0000000000011110000000000000\n",
            "0000000000000000000000000000\n",
            "0000000000000000000000000000\n"
          ]
        }
      ],
      "source": [
        "for r in range(28):\n",
        "    for c in range(28):\n",
        "        print(1 if X[44,r,c] > 0 else 0, end=\"\")\n",
        "    print()"
      ]
    },
    {
      "cell_type": "markdown",
      "metadata": {
        "id": "Q1Wiu0FrYiSb"
      },
      "source": [
        "### Problem 1: center of mass [1p]"
      ]
    },
    {
      "cell_type": "code",
      "execution_count": 19,
      "metadata": {
        "id": "NKfg6B-qYiSb"
      },
      "outputs": [],
      "source": [
        "def mass_center(image):\n",
        "  n =0\n",
        "  row_s, col_s = 0,0\n",
        "  row_l, col_l = image.shape\n",
        "  for row in range(row_l):\n",
        "    for col in range(col_l):\n",
        "      if image[row][col] > 0:\n",
        "        n += 1\n",
        "        row_s += row\n",
        "        col_s += col\n",
        "  return [row_s/n,col_s/n]\n",
        "\n",
        "# def mass_center(image):\n",
        "#   w, h = image.shape\n",
        "#   area_object = np.sum(image)\n",
        "#   row_ids = np.arange(h)\n",
        "#   col_ids = np.arange(w)\n",
        "#   x = np.sum(np.sum(image, axis=0) * col_ids) / area_object\n",
        "#   y = np.sum(np.sum(image, axis=1) * row_ids) / area_object\n",
        "#   return [x,y]\n"
      ]
    },
    {
      "cell_type": "markdown",
      "metadata": {
        "id": "-yn6Jq_DYiSb"
      },
      "source": [
        "For an image as above it's quite easy to compute the center of mass: add pairwise all the coordinates for every cell which has 1 and divide by the number of cells with 1."
      ]
    },
    {
      "cell_type": "code",
      "execution_count": 20,
      "metadata": {
        "colab": {
          "base_uri": "https://localhost:8080/"
        },
        "id": "wVI0yycGYiSc",
        "outputId": "17bea7b3-cb3a-4d36-cd2a-5c768532b910"
      },
      "outputs": [
        {
          "data": {
            "text/plain": [
              "[13.933333333333334, 13.895238095238096]"
            ]
          },
          "execution_count": 20,
          "metadata": {},
          "output_type": "execute_result"
        }
      ],
      "source": [
        "mass_center(X[44])"
      ]
    },
    {
      "cell_type": "code",
      "execution_count": 21,
      "metadata": {
        "id": "_-2-EQICYiSc"
      },
      "outputs": [],
      "source": [
        "centers_list = list()\n",
        "for i in range(X.shape[0]):\n",
        "    centers_list.append(mass_center(X[i]))\n",
        "centers = np.asarray(centers_list)"
      ]
    },
    {
      "cell_type": "code",
      "execution_count": 22,
      "metadata": {
        "colab": {
          "base_uri": "https://localhost:8080/"
        },
        "id": "moogelS_YiSc",
        "outputId": "aa6556bc-f764-479a-9bc9-9c42f741ad87"
      },
      "outputs": [
        {
          "data": {
            "text/plain": [
              "array([[13.78915663, 13.6686747 ],\n",
              "       [13.55113636, 13.93181818],\n",
              "       [13.69166667, 13.76666667],\n",
              "       ...,\n",
              "       [14.31617647, 14.20588235],\n",
              "       [13.60689655, 14.66896552],\n",
              "       [13.95104895, 14.        ]])"
            ]
          },
          "execution_count": 22,
          "metadata": {},
          "output_type": "execute_result"
        }
      ],
      "source": [
        "centers"
      ]
    },
    {
      "cell_type": "markdown",
      "metadata": {
        "id": "tPpLWOccYiSd"
      },
      "source": [
        "### Problem 2: plot the distributions [3p]"
      ]
    },
    {
      "cell_type": "markdown",
      "metadata": {
        "id": "SzAzCOxXYiSd"
      },
      "source": [
        "Create a scatter plot of the centers. Use any plotting library you want, e.g., matplotlib or plotly. In the below I've used plotly, and try to reproduce a plot similar to the one below."
      ]
    },
    {
      "cell_type": "code",
      "execution_count": null,
      "metadata": {
        "id": "53EZlfITpSUN"
      },
      "outputs": [],
      "source": []
    },
    {
      "cell_type": "code",
      "execution_count": 33,
      "metadata": {
        "colab": {
          "base_uri": "https://localhost:8080/",
          "height": 267
        },
        "id": "esZ-zHDZYiSd",
        "outputId": "3e7e102a-73bf-42f7-f5b9-fee9bd73edb5",
        "scrolled": false
      },
      "outputs": [
        {
          "data": {
            "image/png": "[encoded data removed]",
            "text/plain": [
              "<Figure size 432x288 with 1 Axes>"
            ]
          },
          "metadata": {
            "needs_background": "light"
          },
          "output_type": "display_data"
        }
      ],
      "source": [
        "plt.scatter(centers[:,0],centers[:,1],s=3)\n",
        "plt.show()\n"
      ]
    },
    {
      "cell_type": "markdown",
      "metadata": {
        "id": "JCzG279bYiSd"
      },
      "source": [
        "As we can see the MNIST dataset is so nicely preprocessed that all images have a center of mass almost in the very center. \n",
        "In fact one can even argue that the above distribution is similar to a two dimensional Gaussian distribution. Let's try to verify it."
      ]
    },
    {
      "cell_type": "markdown",
      "metadata": {
        "id": "MLvczsKMYiSd"
      },
      "source": [
        "First let us plot a histogram for each axis separately."
      ]
    },
    {
      "cell_type": "code",
      "execution_count": 39,
      "metadata": {
        "colab": {
          "base_uri": "https://localhost:8080/",
          "height": 997
        },
        "id": "_D54gsmwYiSe",
        "outputId": "541fd19e-eb57-4be7-a6a5-4493f74fb121"
      },
      "outputs": [
        {
          "data": {
            "text/plain": [
              "(array([1.000e+00, 2.000e+00, 0.000e+00, 1.000e+00, 1.000e+00, 1.000e+00,\n",
              "        1.000e+00, 2.000e+00, 1.000e+00, 1.000e+00, 2.000e+00, 5.000e+00,\n",
              "        4.000e+00, 4.000e+00, 6.000e+00, 1.000e+01, 1.600e+01, 1.500e+01,\n",
              "        2.700e+01, 2.400e+01, 3.300e+01, 5.200e+01, 6.600e+01, 6.400e+01,\n",
              "        7.900e+01, 1.330e+02, 1.680e+02, 2.130e+02, 2.910e+02, 3.070e+02,\n",
              "        3.560e+02, 4.280e+02, 4.910e+02, 5.790e+02, 6.890e+02, 7.770e+02,\n",
              "        8.580e+02, 9.920e+02, 1.059e+03, 1.160e+03, 1.200e+03, 1.349e+03,\n",
              "        1.363e+03, 1.477e+03, 1.489e+03, 1.462e+03, 1.601e+03, 1.545e+03,\n",
              "        1.596e+03, 1.587e+03, 1.630e+03, 1.557e+03, 1.558e+03, 1.601e+03,\n",
              "        1.585e+03, 1.560e+03, 1.554e+03, 1.447e+03, 1.456e+03, 1.497e+03,\n",
              "        1.444e+03, 1.507e+03, 1.435e+03, 1.444e+03, 1.402e+03, 1.326e+03,\n",
              "        1.294e+03, 1.171e+03, 1.230e+03, 1.055e+03, 1.020e+03, 9.140e+02,\n",
              "        8.790e+02, 7.890e+02, 7.130e+02, 5.700e+02, 4.650e+02, 4.510e+02,\n",
              "        3.480e+02, 2.820e+02, 2.760e+02, 2.080e+02, 1.400e+02, 1.200e+02,\n",
              "        9.700e+01, 7.200e+01, 7.500e+01, 6.100e+01, 3.900e+01, 3.400e+01,\n",
              "        2.500e+01, 2.200e+01, 1.400e+01, 6.000e+00, 8.000e+00, 1.000e+01,\n",
              "        2.000e+00, 4.000e+00, 4.000e+00, 3.000e+00, 1.000e+00, 2.000e+00,\n",
              "        0.000e+00, 1.000e+00, 1.000e+00, 2.000e+00, 0.000e+00, 1.000e+00]),\n",
              " array([12.50314465, 12.5301871 , 12.55722955, 12.58427199, 12.61131444,\n",
              "        12.63835688, 12.66539933, 12.69244178, 12.71948422, 12.74652667,\n",
              "        12.77356911, 12.80061156, 12.82765401, 12.85469645, 12.8817389 ,\n",
              "        12.90878134, 12.93582379, 12.96286623, 12.98990868, 13.01695113,\n",
              "        13.04399357, 13.07103602, 13.09807846, 13.12512091, 13.15216336,\n",
              "        13.1792058 , 13.20624825, 13.23329069, 13.26033314, 13.28737559,\n",
              "        13.31441803, 13.34146048, 13.36850292, 13.39554537, 13.42258782,\n",
              "        13.44963026, 13.47667271, 13.50371515, 13.5307576 , 13.55780005,\n",
              "        13.58484249, 13.61188494, 13.63892738, 13.66596983, 13.69301227,\n",
              "        13.72005472, 13.74709717, 13.77413961, 13.80118206, 13.8282245 ,\n",
              "        13.85526695, 13.8823094 , 13.90935184, 13.93639429, 13.96343673,\n",
              "        13.99047918, 14.01752163, 14.04456407, 14.07160652, 14.09864896,\n",
              "        14.12569141, 14.15273386, 14.1797763 , 14.20681875, 14.23386119,\n",
              "        14.26090364, 14.28794608, 14.31498853, 14.34203098, 14.36907342,\n",
              "        14.39611587, 14.42315831, 14.45020076, 14.47724321, 14.50428565,\n",
              "        14.5313281 , 14.55837054, 14.58541299, 14.61245544, 14.63949788,\n",
              "        14.66654033, 14.69358277, 14.72062522, 14.74766767, 14.77471011,\n",
              "        14.80175256, 14.828795  , 14.85583745, 14.8828799 , 14.90992234,\n",
              "        14.93696479, 14.96400723, 14.99104968, 15.01809212, 15.04513457,\n",
              "        15.07217702, 15.09921946, 15.12626191, 15.15330435, 15.1803468 ,\n",
              "        15.20738925, 15.23443169, 15.26147414, 15.28851658, 15.31555903,\n",
              "        15.34260148, 15.36964392, 15.39668637, 15.42372881]),\n",
              " <a list of 108 Patch objects>)"
            ]
          },
          "execution_count": 39,
          "metadata": {},
          "output_type": "execute_result"
        },
        {
          "data": {
            "image/png": "[encoded data removed]",
            "text/plain": [
              "<Figure size 432x288 with 1 Axes>"
            ]
          },
          "metadata": {
            "needs_background": "light"
          },
          "output_type": "display_data"
        }
      ],
      "source": [
        "#plot a histogram of centers[:,0] data\n",
        "#TODO\n",
        "plt.hist(centers[:, 0], bins='auto')"
      ]
    },
    {
      "cell_type": "code",
      "execution_count": 40,
      "metadata": {
        "colab": {
          "base_uri": "https://localhost:8080/",
          "height": 997
        },
        "id": "VfeEAK1XYiSe",
        "outputId": "498bbc8a-b362-4b11-9a48-dfc2a2e456d4"
      },
      "outputs": [
        {
          "data": {
            "text/plain": [
              "(array([1.000e+00, 0.000e+00, 0.000e+00, 0.000e+00, 0.000e+00, 0.000e+00,\n",
              "        1.000e+00, 0.000e+00, 0.000e+00, 0.000e+00, 1.000e+00, 0.000e+00,\n",
              "        1.000e+00, 2.000e+00, 1.000e+00, 0.000e+00, 3.000e+00, 2.000e+00,\n",
              "        5.000e+00, 6.000e+00, 8.000e+00, 2.000e+01, 2.700e+01, 2.900e+01,\n",
              "        4.200e+01, 6.000e+01, 8.300e+01, 1.100e+02, 1.670e+02, 2.330e+02,\n",
              "        2.710e+02, 3.270e+02, 4.540e+02, 5.450e+02, 6.350e+02, 7.900e+02,\n",
              "        8.430e+02, 1.020e+03, 1.123e+03, 1.196e+03, 1.334e+03, 1.305e+03,\n",
              "        1.463e+03, 1.427e+03, 1.422e+03, 1.406e+03, 1.472e+03, 1.421e+03,\n",
              "        1.510e+03, 1.486e+03, 1.466e+03, 1.515e+03, 1.561e+03, 1.564e+03,\n",
              "        1.515e+03, 1.517e+03, 1.548e+03, 1.566e+03, 1.572e+03, 1.623e+03,\n",
              "        1.530e+03, 1.598e+03, 1.531e+03, 1.523e+03, 1.626e+03, 1.536e+03,\n",
              "        1.516e+03, 1.422e+03, 1.412e+03, 1.245e+03, 1.224e+03, 1.090e+03,\n",
              "        9.760e+02, 8.160e+02, 6.930e+02, 5.830e+02, 4.430e+02, 3.650e+02,\n",
              "        2.730e+02, 2.110e+02, 1.680e+02, 1.340e+02, 9.400e+01, 6.500e+01,\n",
              "        5.400e+01, 4.300e+01, 3.000e+01, 2.800e+01, 1.400e+01, 1.400e+01,\n",
              "        1.100e+01, 6.000e+00, 4.000e+00, 5.000e+00, 5.000e+00, 1.000e+00,\n",
              "        2.000e+00, 1.000e+00, 3.000e+00, 0.000e+00, 0.000e+00, 3.000e+00,\n",
              "        0.000e+00, 0.000e+00, 0.000e+00, 1.000e+00, 2.000e+00]),\n",
              " array([12.55333333, 12.5798406 , 12.60634786, 12.63285512, 12.65936238,\n",
              "        12.68586964, 12.71237691, 12.73888417, 12.76539143, 12.79189869,\n",
              "        12.81840596, 12.84491322, 12.87142048, 12.89792774, 12.924435  ,\n",
              "        12.95094227, 12.97744953, 13.00395679, 13.03046405, 13.05697132,\n",
              "        13.08347858, 13.10998584, 13.1364931 , 13.16300036, 13.18950763,\n",
              "        13.21601489, 13.24252215, 13.26902941, 13.29553668, 13.32204394,\n",
              "        13.3485512 , 13.37505846, 13.40156572, 13.42807299, 13.45458025,\n",
              "        13.48108751, 13.50759477, 13.53410204, 13.5606093 , 13.58711656,\n",
              "        13.61362382, 13.64013108, 13.66663835, 13.69314561, 13.71965287,\n",
              "        13.74616013, 13.77266739, 13.79917466, 13.82568192, 13.85218918,\n",
              "        13.87869644, 13.90520371, 13.93171097, 13.95821823, 13.98472549,\n",
              "        14.01123275, 14.03774002, 14.06424728, 14.09075454, 14.1172618 ,\n",
              "        14.14376907, 14.17027633, 14.19678359, 14.22329085, 14.24979811,\n",
              "        14.27630538, 14.30281264, 14.3293199 , 14.35582716, 14.38233443,\n",
              "        14.40884169, 14.43534895, 14.46185621, 14.48836347, 14.51487074,\n",
              "        14.541378  , 14.56788526, 14.59439252, 14.62089979, 14.64740705,\n",
              "        14.67391431, 14.70042157, 14.72692883, 14.7534361 , 14.77994336,\n",
              "        14.80645062, 14.83295788, 14.85946515, 14.88597241, 14.91247967,\n",
              "        14.93898693, 14.96549419, 14.99200146, 15.01850872, 15.04501598,\n",
              "        15.07152324, 15.09803051, 15.12453777, 15.15104503, 15.17755229,\n",
              "        15.20405955, 15.23056682, 15.25707408, 15.28358134, 15.3100886 ,\n",
              "        15.33659587, 15.36310313, 15.38961039]),\n",
              " <a list of 107 Patch objects>)"
            ]
          },
          "execution_count": 40,
          "metadata": {},
          "output_type": "execute_result"
        },
        {
          "data": {
            "image/png": "[encoded data removed]",
            "text/plain": [
              "<Figure size 432x288 with 1 Axes>"
            ]
          },
          "metadata": {
            "needs_background": "light"
          },
          "output_type": "display_data"
        }
      ],
      "source": [
        "#plot a histogram of centers[:,1] data\n",
        "#TODO\n",
        "plt.hist(centers[:, 1], bins='auto')\n"
      ]
    },
    {
      "cell_type": "markdown",
      "metadata": {
        "id": "LauBiHUEYiSe"
      },
      "source": [
        "Looks like a bell curve. But let us try to compare `centers[:,0]` with an appropriate normal distribution with the same mean and standard deviation."
      ]
    },
    {
      "cell_type": "code",
      "execution_count": 67,
      "metadata": {
        "colab": {
          "base_uri": "https://localhost:8080/",
          "height": 283
        },
        "id": "2sbPpD2dYiSe",
        "outputId": "f40ab958-13e4-49d8-8bb7-1eaa6b9bb439"
      },
      "outputs": [
        {
          "data": {
            "text/plain": [
              "[<matplotlib.lines.Line2D at 0x7fb91dd83a90>]"
            ]
          },
          "execution_count": 67,
          "metadata": {},
          "output_type": "execute_result"
        },
        {
          "data": {
            "image/png": "[encoded data removed]",
            "text/plain": [
              "<Figure size 432x288 with 1 Axes>"
            ]
          },
          "metadata": {
            "needs_background": "light"
          },
          "output_type": "display_data"
        }
      ],
      "source": [
        "import scipy.stats\n",
        "\n",
        "\n",
        "normal_distribution_0 = scipy.stats.norm(loc=np.mean(centers[:,0]), scale=np.std(centers[:,0]))\n",
        "\n",
        "x = np.linspace(min(centers[:,0]),max(centers[:,0]),num=100)\n",
        "y = normal_distribution_0.pdf(x)\n",
        "\n",
        "plt.plot(x,y)\n"
      ]
    },
    {
      "cell_type": "markdown",
      "metadata": {
        "id": "Rt1E_5dwYiSe"
      },
      "source": [
        "Let's plot the two on one image."
      ]
    },
    {
      "cell_type": "code",
      "execution_count": 115,
      "metadata": {
        "colab": {
          "base_uri": "https://localhost:8080/",
          "height": 265
        },
        "id": "d4NMwv5tYiSe",
        "outputId": "20201062-fe64-43c3-bad9-9c64e02fb9b2"
      },
      "outputs": [
        {
          "data": {
            "image/png": "[encoded data removed]",
            "text/plain": [
              "<Figure size 432x288 with 1 Axes>"
            ]
          },
          "metadata": {
            "needs_background": "light"
          },
          "output_type": "display_data"
        }
      ],
      "source": [
        "#plot histogram of centers[:,0] and a normal distribution with mean and std of centers[:,0]\n",
        "#TODO\n",
        "N=108\n",
        "plt.figure()\n",
        "n, bins, patches = plt.hist(centers[:, 0], bins='auto')\n",
        "# plt.plot(bins[:N],n)\n",
        "plt.plot(x,y*1600)\n",
        "plt.show()\n"
      ]
    },
    {
      "cell_type": "markdown",
      "metadata": {
        "id": "AfYpF7IoYiSf"
      },
      "source": [
        "Let's do the same for `centers[:,1]`"
      ]
    },
    {
      "cell_type": "code",
      "execution_count": 116,
      "metadata": {
        "colab": {
          "base_uri": "https://localhost:8080/",
          "height": 283
        },
        "id": "9HB_t2YiYiSf",
        "outputId": "f96616a0-9a7d-4b15-d2b2-0897aedd31b2"
      },
      "outputs": [
        {
          "data": {
            "text/plain": [
              "[<matplotlib.lines.Line2D at 0x7fb9136547c0>]"
            ]
          },
          "execution_count": 116,
          "metadata": {},
          "output_type": "execute_result"
        },
        {
          "data": {
            "image/png": "[encoded data removed]",
            "text/plain": [
              "<Figure size 432x288 with 1 Axes>"
            ]
          },
          "metadata": {
            "needs_background": "light"
          },
          "output_type": "display_data"
        }
      ],
      "source": [
        "#plot histogram of centers[:,1] and a normal distribution with mean and std of centers[:,1]\n",
        "#TODO\n",
        "plt.figure()\n",
        "plt.hist(centers[:, 1], bins='auto')\n",
        "plt.plot(x,y*1600)\n",
        "\n"
      ]
    },
    {
      "cell_type": "markdown",
      "metadata": {
        "id": "ALF-J6V1YiSf"
      },
      "source": [
        "## Testing sampleset vs normal distribution"
      ]
    },
    {
      "cell_type": "markdown",
      "metadata": {
        "id": "RiHCUEm_YiSf"
      },
      "source": [
        "From this plot we may already see that the distributions of `centers[:,0]` and `centers[:,1]`, even though similar and both looking somehow like a bell, are not in fact normal. But let's verify it rigorously with an appropriate test."
      ]
    },
    {
      "cell_type": "code",
      "execution_count": 117,
      "metadata": {
        "colab": {
          "base_uri": "https://localhost:8080/"
        },
        "id": "jfLv7H3gYiSf",
        "outputId": "290f6987-999c-471e-ff28-b694b0f51f2e"
      },
      "outputs": [
        {
          "data": {
            "text/plain": [
              "1.701247180641552e-188"
            ]
          },
          "execution_count": 117,
          "metadata": {},
          "output_type": "execute_result"
        }
      ],
      "source": [
        "from scipy import stats\n",
        "\n",
        "k, p = stats.normaltest(centers[:,0])\n",
        "p"
      ]
    },
    {
      "cell_type": "code",
      "execution_count": 123,
      "metadata": {
        "colab": {
          "base_uri": "https://localhost:8080/"
        },
        "id": "8ArLbiw_YiSg",
        "outputId": "40338256-93fe-4a43-afc1-d2231541c60f"
      },
      "outputs": [
        {
          "data": {
            "text/plain": [
              "0.0"
            ]
          },
          "execution_count": 123,
          "metadata": {},
          "output_type": "execute_result"
        }
      ],
      "source": [
        "k, p = stats.normaltest(centers[:,1])\n",
        "p"
      ]
    },
    {
      "cell_type": "markdown",
      "metadata": {
        "id": "Ka0edlENYiSg"
      },
      "source": [
        "The p-value is quite small, so it means that we can reject the hypothesis that the distributions are normal, even though the initial histograms were tempting to suggest that they were."
      ]
    },
    {
      "cell_type": "markdown",
      "metadata": {
        "id": "xrecPrJZYiSg"
      },
      "source": [
        "## Testing two samplesets against each other"
      ]
    },
    {
      "cell_type": "markdown",
      "metadata": {
        "id": "Ql24MTP5YiSg"
      },
      "source": [
        "In this section we are going to perform some measurements comparing two different samplesets."
      ]
    },
    {
      "cell_type": "markdown",
      "metadata": {
        "id": "klIQGKSlYiSg"
      },
      "source": [
        "We already have seen that the coordinates of the centers, in fact have some underlying distributions, but they are not normal. \n",
        "Question is however: can we say that distributions of `centers[:,0]` and `centers[:,1]` are the same? And what are the tools for it?"
      ]
    },
    {
      "cell_type": "markdown",
      "metadata": {
        "id": "5z4axr5JYiSg"
      },
      "source": [
        "Let's also generate samples from a normal distribution with mean and std of `centers[:,0]` just for comparison"
      ]
    },
    {
      "cell_type": "code",
      "execution_count": 129,
      "metadata": {
        "colab": {
          "base_uri": "https://localhost:8080/"
        },
        "id": "QNMu8KbIYiSh",
        "outputId": "33b1b209-ac81-488f-ea4d-605e44f327fd"
      },
      "outputs": [
        {
          "data": {
            "text/plain": [
              "(60000,)"
            ]
          },
          "execution_count": 129,
          "metadata": {},
          "output_type": "execute_result"
        }
      ],
      "source": [
        "norm0 = scipy.stats.norm(loc=np.mean(centers[:,0]), scale=np.std(centers[:,0])).rvs(len(centers))\n",
        "norm0.shape\n"
      ]
    },
    {
      "cell_type": "code",
      "execution_count": 130,
      "metadata": {
        "colab": {
          "base_uri": "https://localhost:8080/",
          "height": 265
        },
        "id": "osFuBYnEYiSh",
        "outputId": "ad75f6fd-1f2d-4569-8cb9-daf0f12e8cb9"
      },
      "outputs": [
        {
          "data": {
            "image/png": "[encoded data removed]",
            "text/plain": [
              "<Figure size 432x288 with 1 Axes>"
            ]
          },
          "metadata": {
            "needs_background": "light"
          },
          "output_type": "display_data"
        }
      ],
      "source": [
        "plt.hist(centers[:,0], 100, density=True, histtype='step', label='center0')\n",
        "plt.hist(centers[:,1], 100, density=True, histtype='step', label='center1')\n",
        "plt.hist(norm0, 100, density=True, histtype='step', label='norm0')\n",
        "plt.legend()\n",
        "plt.show()"
      ]
    },
    {
      "cell_type": "markdown",
      "metadata": {
        "id": "0FIea3WjYiSh"
      },
      "source": [
        "### Problem 3: cummulative distribution function"
      ]
    },
    {
      "cell_type": "markdown",
      "metadata": {
        "id": "yaqBOLvyYiSh"
      },
      "source": [
        "The above plot represents empirical probability density functions of `centers[:,0]`, `centers[:,1]` and `norm0`.\n",
        "Below plot empirical cummulative distribution function of these empirical distributions."
      ]
    },
    {
      "cell_type": "code",
      "execution_count": 136,
      "metadata": {
        "colab": {
          "base_uri": "https://localhost:8080/",
          "height": 265
        },
        "id": "9RP0RK0lYiSh",
        "outputId": "a89a2d30-a3be-4228-85f9-fe9012ee7b29"
      },
      "outputs": [
        {
          "data": {
            "image/png": "[encoded data removed]",
            "text/plain": [
              "<Figure size 432x288 with 1 Axes>"
            ]
          },
          "metadata": {
            "needs_background": "light"
          },
          "output_type": "display_data"
        }
      ],
      "source": [
        "#TODO \n",
        "#plot cummulative distribution functions\n",
        "# plt.hist(centers[:, 0], bins='auto')\n",
        "n, bins, patches = plt.hist(centers[:, 0],bins='auto', density=True, histtype='step',\n",
        "                           cumulative=True, label='centers[:,0]')\n",
        "n_1, bins_1, patches_1 = plt.hist(centers[:, 1],bins='auto', density=True, histtype='step',\n",
        "                           cumulative=True, label='centers[:,1]')\n",
        "n_n, bins_n, patches_1 = plt.hist(norm0,bins='auto', density=True, histtype='step',\n",
        "                           cumulative=True, label='norm0')"
      ]
    },
    {
      "cell_type": "markdown",
      "metadata": {
        "id": "GLfjVtfeYiSh"
      },
      "source": [
        "The above plot suggests that the cummulative distribution functions are quite similar. However, even though they may seem so, the difference between them is big enough, so that we can state with statistical significance that the samplesets `center[:,0]` and `center[:,1]` are coming from different distributions. `center[:,0]` and `norm0` as well for that matter. "
      ]
    },
    {
      "cell_type": "markdown",
      "metadata": {
        "id": "4DrG0SLKYiSi"
      },
      "source": [
        "The way to state it is the so called Kolmogorov-Smirnoff test. For two samplesets $S_1$ and $S_2$ it takes their empirical cummulative distribution functions $F_{S_1}(x)$ and $F_{S_2}(x)$ and computes the so called Kolmogorov–Smirnov statistic $D = \\max_{x} \\left| F_{S_1}(x) - F_{S_2}(x)\\right|$. If the statistic $D$ is appropriately big (depending on the number of samples), then we reject the hypothesis that the source distributions are identical."
      ]
    },
    {
      "cell_type": "code",
      "execution_count": 127,
      "metadata": {
        "colab": {
          "base_uri": "https://localhost:8080/"
        },
        "id": "daljAANtYiSi",
        "outputId": "fe610f7f-ffa4-405c-c40e-b104d6430b83"
      },
      "outputs": [
        {
          "data": {
            "text/plain": [
              "KstestResult(statistic=0.04776666666666668, pvalue=6.351154164146015e-60)"
            ]
          },
          "execution_count": 127,
          "metadata": {},
          "output_type": "execute_result"
        }
      ],
      "source": [
        "from scipy import stats\n",
        "scipy.stats.kstest(centers[:,0], centers[:,1])"
      ]
    },
    {
      "cell_type": "code",
      "execution_count": 128,
      "metadata": {
        "colab": {
          "base_uri": "https://localhost:8080/"
        },
        "id": "rfDp63QAYiSi",
        "outputId": "e7a225ad-65ea-4922-c512-5aadb0c001fb"
      },
      "outputs": [
        {
          "data": {
            "text/plain": [
              "KstestResult(statistic=0.02623333333333333, pvalue=2.2816718535762353e-18)"
            ]
          },
          "execution_count": 128,
          "metadata": {},
          "output_type": "execute_result"
        }
      ],
      "source": [
        "scipy.stats.kstest(centers[:,0], norm0)"
      ]
    },
    {
      "cell_type": "markdown",
      "metadata": {
        "id": "6-_XEL4kYiSi"
      },
      "source": [
        "$p$-values in both tests are very small, so we can reject the hypothesis that the distributions are identical."
      ]
    },
    {
      "cell_type": "markdown",
      "metadata": {
        "id": "gVVj4YgqYiSi"
      },
      "source": [
        "## A positive example"
      ]
    },
    {
      "cell_type": "markdown",
      "metadata": {
        "id": "HHiOawUtYiSi"
      },
      "source": [
        "One can wonder how the above reasoning would look like if the samplesets would be coming from actually the same distributions.\n",
        "Let's find out.\n",
        "The simplest way of getting samples from the same distribution is to partition a given sampleset randomly into two."
      ]
    },
    {
      "cell_type": "code",
      "execution_count": 137,
      "metadata": {
        "id": "yZJdlV_bYiSi"
      },
      "outputs": [],
      "source": [
        "import sklearn.model_selection\n",
        "S1, S2 = sklearn.model_selection.train_test_split(centers[:,0], test_size=0.5)"
      ]
    },
    {
      "cell_type": "code",
      "execution_count": 138,
      "metadata": {
        "colab": {
          "base_uri": "https://localhost:8080/"
        },
        "id": "mmawaHSFYiSj",
        "outputId": "615b2e60-be25-49b4-8a1a-6459d336037b"
      },
      "outputs": [
        {
          "data": {
            "text/plain": [
              "((60000,), (30000,), (30000,))"
            ]
          },
          "execution_count": 138,
          "metadata": {},
          "output_type": "execute_result"
        }
      ],
      "source": [
        "centers[:,0].shape, S1.shape, S2.shape"
      ]
    },
    {
      "cell_type": "code",
      "execution_count": 139,
      "metadata": {
        "colab": {
          "base_uri": "https://localhost:8080/",
          "height": 265
        },
        "id": "4zBvVIjKYiSj",
        "outputId": "32476118-e7fc-47b7-b11b-48d64b4e1c26"
      },
      "outputs": [
        {
          "data": {
            "image/png": "[encoded data removed]",
            "text/plain": [
              "<Figure size 432x288 with 1 Axes>"
            ]
          },
          "metadata": {
            "needs_background": "light"
          },
          "output_type": "display_data"
        }
      ],
      "source": [
        "plt.hist(S1, 100, density=True, histtype='step', label='S1')\n",
        "plt.hist(S2, 100, density=True, histtype='step', label='S2')\n",
        "plt.legend()\n",
        "plt.show()"
      ]
    },
    {
      "cell_type": "markdown",
      "metadata": {
        "id": "gBpK-MM3YiSj"
      },
      "source": [
        "This time the empirical distribution functions really look similar."
      ]
    },
    {
      "cell_type": "code",
      "execution_count": 141,
      "metadata": {
        "colab": {
          "base_uri": "https://localhost:8080/",
          "height": 265
        },
        "id": "DrYpAVvzYiSj",
        "outputId": "3b0f42c7-3787-438f-be03-35799214054d"
      },
      "outputs": [
        {
          "data": {
            "image/png": "[encoded data removed]",
            "text/plain": [
              "<Figure size 432x288 with 1 Axes>"
            ]
          },
          "metadata": {
            "needs_background": "light"
          },
          "output_type": "display_data"
        }
      ],
      "source": [
        "#TODO \n",
        "#plot cummulative distribution functions, use the same code as before\n",
        "n, bins, patches = plt.hist(S1,bins='auto', density=True, histtype='step',\n",
        "                           cumulative=True, label='S1')\n",
        "n, bins, patches = plt.hist(S2,bins='auto', density=True, histtype='step',\n",
        "                           cumulative=True, label='S2')"
      ]
    },
    {
      "cell_type": "markdown",
      "metadata": {
        "id": "moaqQgG1YiSj"
      },
      "source": [
        "And this time the empirical cummulative functions look identical as well."
      ]
    },
    {
      "cell_type": "markdown",
      "metadata": {
        "id": "NqiCo65eYiSj"
      },
      "source": [
        "Let us also have a look at Kolmogorov-Smirnov test."
      ]
    },
    {
      "cell_type": "code",
      "execution_count": 142,
      "metadata": {
        "colab": {
          "base_uri": "https://localhost:8080/"
        },
        "id": "WpYlx8nxYiSj",
        "outputId": "530facfb-e74c-44a8-e54d-c937105ef1fd"
      },
      "outputs": [
        {
          "data": {
            "text/plain": [
              "KstestResult(statistic=0.01036666666666669, pvalue=0.07903311428671445)"
            ]
          },
          "execution_count": 142,
          "metadata": {},
          "output_type": "execute_result"
        }
      ],
      "source": [
        "scipy.stats.kstest(S1,S2)"
      ]
    },
    {
      "cell_type": "markdown",
      "metadata": {
        "id": "qwNjIhW0YiSk"
      },
      "source": [
        "This time we cannot reject the hypothesis that the distributions from which the samples are coming are in fact different. \n",
        "Which makes sense."
      ]
    }
  ],
  "metadata": {
    "accelerator": "GPU",
    "colab": {
      "provenance": []
    },
    "gpuClass": "standard",
    "kernelspec": {
      "display_name": "Python 3.9.12 64-bit ('3.9.12')",
      "language": "python",
      "name": "python3"
    },
    "language_info": {
      "name": "python",
      "version": "3.9.12 (main, May 18 2022, 14:25:27) \n[Clang 13.1.6 (clang-1316.0.21.2.5)]"
    },
    "toc-showtags": false,
    "vscode": {
      "interpreter": {
        "hash": "0e1e813d9e0606be4c0cf7838e5d609c13b18076b542c53a59882829292efcb6"
      }
    }
  },
  "nbformat": 4,
  "nbformat_minor": 0
}
