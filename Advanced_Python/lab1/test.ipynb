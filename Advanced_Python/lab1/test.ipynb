{
 "cells": [
  {
   "cell_type": "code",
   "execution_count": 1,
   "metadata": {},
   "outputs": [],
   "source": [
    "x1 = -2.0\n",
    "x2 = 5.0\n",
    "y1 = 2.0\n",
    "y2 = 5.0\n",
    "d = 1"
   ]
  },
  {
   "cell_type": "code",
   "execution_count": 4,
   "metadata": {},
   "outputs": [
    {
     "name": "stdout",
     "output_type": "stream",
     "text": [
      "\t-2\t-1\t0\t1\t2\t3\t4\t5\t\n"
     ]
    }
   ],
   "source": [
    "header = \"\\t\"\n",
    "for x in range(int(x1), int(x2) + 1, int(d)):\n",
    "    header += str(x) + \"\\t\"\n",
    "print(header)"
   ]
  },
  {
   "cell_type": "code",
   "execution_count": 6,
   "metadata": {},
   "outputs": [
    {
     "name": "stdout",
     "output_type": "stream",
     "text": [
      "2\t\n",
      "3\t\n",
      "4\t\n",
      "5\t\n"
     ]
    }
   ],
   "source": [
    "for y in range(int(y1), int(y2) + 1, int(d)):\n",
    "    row = str(y) + \"\\t\"\n",
    "    print(row)"
   ]
  }
 ],
 "metadata": {
  "kernelspec": {
   "display_name": "ai",
   "language": "python",
   "name": "python3"
  },
  "language_info": {
   "codemirror_mode": {
    "name": "ipython",
    "version": 3
   },
   "file_extension": ".py",
   "mimetype": "text/x-python",
   "name": "python",
   "nbconvert_exporter": "python",
   "pygments_lexer": "ipython3",
   "version": "3.9.18"
  }
 },
 "nbformat": 4,
 "nbformat_minor": 2
}
